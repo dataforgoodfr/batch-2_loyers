{
 "cells": [
  {
   "cell_type": "code",
   "execution_count": 691,
   "metadata": {
    "collapsed": false
   },
   "outputs": [],
   "source": [
    "import pandas as pd\n",
    "import numpy as np\n",
    "import matplotlib.pyplot as plt\n",
    "import re\n",
    "from sklearn.ensemble import RandomForestRegressor\n",
    "from sklearn.ensemble import RandomForestClassifier\n",
    "from sklearn.feature_extraction import DictVectorizer\n",
    "import scipy\n",
    "from sklearn import neighbors\n",
    "%matplotlib inline"
   ]
  },
  {
   "cell_type": "code",
   "execution_count": 635,
   "metadata": {
    "collapsed": true
   },
   "outputs": [],
   "source": [
    "bienici = pd.read_csv(\"scraping_bienici.csv\")"
   ]
  },
  {
   "cell_type": "code",
   "execution_count": 636,
   "metadata": {
    "collapsed": false
   },
   "outputs": [
    {
     "name": "stdout",
     "output_type": "stream",
     "text": [
      "                                                 url     scraping_date  \\\n",
      "0  https://www.bienici.com/annonce/location//appa...  2016-10-09@00:30   \n",
      "1  https://www.bienici.com/annonce/location//appa...  2016-10-09@00:30   \n",
      "2  https://www.bienici.com/annonce/location//appa...  2016-10-09@00:30   \n",
      "3  https://www.bienici.com/annonce/location/paris...  2016-10-09@00:30   \n",
      "4  https://www.bienici.com/annonce/location/paris...  2016-10-09@00:30   \n",
      "\n",
      "                        title   price  charges  \\\n",
      "0  Appartement 2 pièces 36 m²  1150.0     70.0   \n",
      "1  Appartement 2 pièces 36 m²  1150.0     70.0   \n",
      "2  Appartement 3 pièces 85 m²  2165.0    165.0   \n",
      "3                Studio 31 m²   930.0    105.0   \n",
      "4                Studio 35 m²  1200.0      NaN   \n",
      "\n",
      "                                           place  surface  construction_year  \\\n",
      "0                   - Grandes Carrières - Clichy     36.0                NaN   \n",
      "1                   - Grandes Carrières - Clichy     36.0                NaN   \n",
      "2                                - Jules Joffrin     85.0                NaN   \n",
      "3  Paris 10e 75010 - Grange aux Belles - Terrage     31.0                NaN   \n",
      "4  Paris 10e 75010 - Porte Saint-Denis - Paradis     35.0             1700.0   \n",
      "\n",
      "                                         description  number_pictures  \\\n",
      "0  Description HTML_format -- Haut Rue Damr&eacut...                6   \n",
      "1  Description HTML_format -- Haut Rue Damr&eacut...                6   \n",
      "2  Description HTML_format -- Appartement 3/4 pi&...               11   \n",
      "3  République - Studio de 31 m². M° République, à...                5   \n",
      "4  REF. 5069 - Studio meublé d'environ 35 m², sit...               12   \n",
      "\n",
      "                         ...                         lift  \\\n",
      "0                        ...                          NaN   \n",
      "1                        ...                          NaN   \n",
      "2                        ...                          NaN   \n",
      "3                        ...                          NaN   \n",
      "4                        ...                          NaN   \n",
      "\n",
      "                      contact                      contact_address  \\\n",
      "0             Acopa Damrémont       19 Rue Damrémont - 75018 Paris   \n",
      "1             Acopa Damrémont       19 Rue Damrémont - 75018 Paris   \n",
      "2  Acopa Immobilière Marcadet           77 Bd Barbes - 75018 Paris   \n",
      "3     CONSULT IM - CONSULT'IM  17, Rue De Chateaudun - 75009 Paris   \n",
      "4                 BOOK A FLAT          18 Rue Volney - 75002 Paris   \n",
      "\n",
      "         contact_rcs contact_type ref_annonce publication_date  \\\n",
      "0    RCS : 512097031       Agence        3987      5 oct. 2016   \n",
      "1    RCS : 512097031       Agence        3989      6 oct. 2016   \n",
      "2  RCS : 70305443384       Agence        3956    16 sept. 2016   \n",
      "3    RCS : 511411324       Agence    10185379      7 oct. 2016   \n",
      "4  RCS : 478 941 990       Agence        5069    22 sept. 2016   \n",
      "\n",
      "  modification_date                                     infos_quartier  \\\n",
      "0               NaN  <span><a href=\"/decouvrez/paris/paris-18e/gran...   \n",
      "1               NaN  <span><a href=\"/decouvrez/paris/paris-18e/gran...   \n",
      "2               NaN  <span><a href=\"/decouvrez/paris/paris-18e/jule...   \n",
      "3               NaN  <span><a href=\"/decouvrez/paris/paris-10e/gran...   \n",
      "4               NaN  <span><a href=\"/decouvrez/paris/paris-10e/port...   \n",
      "\n",
      "                                          other_info  \n",
      "0                      Exposé Est \\n\\&\\\\n1 WC\\n\\&\\\\n  \n",
      "1                      Exposé Est \\n\\&\\\\n1 WC\\n\\&\\\\n  \n",
      "2                                                NaN  \n",
      "3                                                NaN  \n",
      "4  1 200 €\\n\\&\\\\n1 WC\\n\\&\\\\nDisponible le 1 décem...  \n",
      "\n",
      "[5 rows x 26 columns]\n",
      "Index(['url', 'scraping_date', 'title', 'price', 'charges', 'place', 'surface',\n",
      "       'construction_year', 'description', 'number_pictures', 'furnished',\n",
      "       'number_rooms', 'number_bedrooms', 'number_bathromms', 'floor',\n",
      "       'heating', 'lift', 'contact', 'contact_address', 'contact_rcs',\n",
      "       'contact_type', 'ref_annonce', 'publication_date', 'modification_date',\n",
      "       'infos_quartier', 'other_info'],\n",
      "      dtype='object')\n"
     ]
    }
   ],
   "source": [
    "print(bienici.head())\n",
    "print(bienici.columns)"
   ]
  },
  {
   "cell_type": "code",
   "execution_count": 637,
   "metadata": {
    "collapsed": false
   },
   "outputs": [
    {
     "name": "stderr",
     "output_type": "stream",
     "text": [
      "/Users/gabrielducrocq/anaconda/lib/python3.5/site-packages/ipykernel/__main__.py:5: SettingWithCopyWarning: \n",
      "A value is trying to be set on a copy of a slice from a DataFrame.\n",
      "Try using .loc[row_indexer,col_indexer] = value instead\n",
      "\n",
      "See the caveats in the documentation: http://pandas.pydata.org/pandas-docs/stable/indexing.html#indexing-view-versus-copy\n"
     ]
    }
   ],
   "source": [
    "def get_weird(x):\n",
    "    return re.compile(\"[0-9]+\\sà\").match(x) is None\n",
    "\n",
    "cleaned_price = bienici.ix[bienici[\"price\"].apply(get_weird, 0),:]\n",
    "cleaned_price[\"price\"] = cleaned_price[\"price\"].apply(float)"
   ]
  },
  {
   "cell_type": "code",
   "execution_count": 638,
   "metadata": {
    "collapsed": false
   },
   "outputs": [
    {
     "name": "stderr",
     "output_type": "stream",
     "text": [
      "/Users/gabrielducrocq/anaconda/lib/python3.5/site-packages/ipykernel/__main__.py:1: SettingWithCopyWarning: \n",
      "A value is trying to be set on a copy of a slice from a DataFrame.\n",
      "Try using .loc[row_indexer,col_indexer] = value instead\n",
      "\n",
      "See the caveats in the documentation: http://pandas.pydata.org/pandas-docs/stable/indexing.html#indexing-view-versus-copy\n",
      "  if __name__ == '__main__':\n"
     ]
    },
    {
     "data": {
      "text/html": [
       "<div>\n",
       "<table border=\"1\" class=\"dataframe\">\n",
       "  <thead>\n",
       "    <tr style=\"text-align: right;\">\n",
       "      <th></th>\n",
       "      <th>price</th>\n",
       "      <th>charges</th>\n",
       "      <th>surface</th>\n",
       "      <th>number_rooms</th>\n",
       "      <th>number_bedrooms</th>\n",
       "      <th>surface_by_room</th>\n",
       "    </tr>\n",
       "  </thead>\n",
       "  <tbody>\n",
       "    <tr>\n",
       "      <th>price</th>\n",
       "      <td>1.000000</td>\n",
       "      <td>0.802248</td>\n",
       "      <td>0.876786</td>\n",
       "      <td>0.380580</td>\n",
       "      <td>0.656087</td>\n",
       "      <td>0.453107</td>\n",
       "    </tr>\n",
       "    <tr>\n",
       "      <th>charges</th>\n",
       "      <td>0.802248</td>\n",
       "      <td>1.000000</td>\n",
       "      <td>0.800281</td>\n",
       "      <td>0.707405</td>\n",
       "      <td>0.642526</td>\n",
       "      <td>0.378848</td>\n",
       "    </tr>\n",
       "    <tr>\n",
       "      <th>surface</th>\n",
       "      <td>0.876786</td>\n",
       "      <td>0.800281</td>\n",
       "      <td>1.000000</td>\n",
       "      <td>0.459439</td>\n",
       "      <td>0.831598</td>\n",
       "      <td>0.497851</td>\n",
       "    </tr>\n",
       "    <tr>\n",
       "      <th>number_rooms</th>\n",
       "      <td>0.380580</td>\n",
       "      <td>0.707405</td>\n",
       "      <td>0.459439</td>\n",
       "      <td>1.000000</td>\n",
       "      <td>0.917389</td>\n",
       "      <td>0.023105</td>\n",
       "    </tr>\n",
       "    <tr>\n",
       "      <th>number_bedrooms</th>\n",
       "      <td>0.656087</td>\n",
       "      <td>0.642526</td>\n",
       "      <td>0.831598</td>\n",
       "      <td>0.917389</td>\n",
       "      <td>1.000000</td>\n",
       "      <td>0.341968</td>\n",
       "    </tr>\n",
       "    <tr>\n",
       "      <th>surface_by_room</th>\n",
       "      <td>0.453107</td>\n",
       "      <td>0.378848</td>\n",
       "      <td>0.497851</td>\n",
       "      <td>0.023105</td>\n",
       "      <td>0.341968</td>\n",
       "      <td>1.000000</td>\n",
       "    </tr>\n",
       "  </tbody>\n",
       "</table>\n",
       "</div>"
      ],
      "text/plain": [
       "                    price   charges   surface  number_rooms  number_bedrooms  \\\n",
       "price            1.000000  0.802248  0.876786      0.380580         0.656087   \n",
       "charges          0.802248  1.000000  0.800281      0.707405         0.642526   \n",
       "surface          0.876786  0.800281  1.000000      0.459439         0.831598   \n",
       "number_rooms     0.380580  0.707405  0.459439      1.000000         0.917389   \n",
       "number_bedrooms  0.656087  0.642526  0.831598      0.917389         1.000000   \n",
       "surface_by_room  0.453107  0.378848  0.497851      0.023105         0.341968   \n",
       "\n",
       "                 surface_by_room  \n",
       "price                   0.453107  \n",
       "charges                 0.378848  \n",
       "surface                 0.497851  \n",
       "number_rooms            0.023105  \n",
       "number_bedrooms         0.341968  \n",
       "surface_by_room         1.000000  "
      ]
     },
     "execution_count": 638,
     "metadata": {},
     "output_type": "execute_result"
    }
   ],
   "source": [
    "cleaned_price[\"surface_by_room\"] = cleaned_price[\"surface\"]/cleaned_price[\"number_rooms\"]\n",
    "cleaned_price[[\"price\", \"charges\",\"surface\", \"number_rooms\", \"number_bedrooms\", \"surface_by_room\"]].corr()"
   ]
  },
  {
   "cell_type": "markdown",
   "metadata": {},
   "source": [
    "#### As expected, all these features are pretty highly correlated - surface by room is the only exception . The features which makes the most sense is the surface. We can get rid of the others."
   ]
  },
  {
   "cell_type": "code",
   "execution_count": 639,
   "metadata": {
    "collapsed": false,
    "scrolled": true
   },
   "outputs": [
    {
     "data": {
      "text/html": [
       "<div>\n",
       "<table border=\"1\" class=\"dataframe\">\n",
       "  <thead>\n",
       "    <tr style=\"text-align: right;\">\n",
       "      <th></th>\n",
       "      <th>url</th>\n",
       "      <th>scraping_date</th>\n",
       "      <th>title</th>\n",
       "      <th>charges</th>\n",
       "      <th>place</th>\n",
       "      <th>surface</th>\n",
       "      <th>construction_year</th>\n",
       "      <th>description</th>\n",
       "      <th>number_pictures</th>\n",
       "      <th>furnished</th>\n",
       "      <th>...</th>\n",
       "      <th>lift</th>\n",
       "      <th>contact</th>\n",
       "      <th>contact_address</th>\n",
       "      <th>contact_rcs</th>\n",
       "      <th>contact_type</th>\n",
       "      <th>ref_annonce</th>\n",
       "      <th>publication_date</th>\n",
       "      <th>modification_date</th>\n",
       "      <th>infos_quartier</th>\n",
       "      <th>other_info</th>\n",
       "    </tr>\n",
       "  </thead>\n",
       "  <tbody>\n",
       "    <tr>\n",
       "      <th>0</th>\n",
       "      <td>https://www.bienici.com/annonce/location//appa...</td>\n",
       "      <td>2016-10-09@00:30</td>\n",
       "      <td>Appartement 2 pièces 36 m²</td>\n",
       "      <td>70.0</td>\n",
       "      <td>- Grandes Carrières - Clichy</td>\n",
       "      <td>36.0</td>\n",
       "      <td>NaN</td>\n",
       "      <td>Description HTML_format -- Haut Rue Damr&amp;eacut...</td>\n",
       "      <td>6</td>\n",
       "      <td>Yes</td>\n",
       "      <td>...</td>\n",
       "      <td>NaN</td>\n",
       "      <td>Acopa Damrémont</td>\n",
       "      <td>19 Rue Damrémont - 75018 Paris</td>\n",
       "      <td>RCS : 512097031</td>\n",
       "      <td>Agence</td>\n",
       "      <td>3987</td>\n",
       "      <td>5 oct. 2016</td>\n",
       "      <td>NaN</td>\n",
       "      <td>&lt;span&gt;&lt;a href=\"/decouvrez/paris/paris-18e/gran...</td>\n",
       "      <td>Exposé Est \\n\\&amp;\\\\n1 WC\\n\\&amp;\\\\n</td>\n",
       "    </tr>\n",
       "    <tr>\n",
       "      <th>1</th>\n",
       "      <td>https://www.bienici.com/annonce/location//appa...</td>\n",
       "      <td>2016-10-09@00:30</td>\n",
       "      <td>Appartement 2 pièces 36 m²</td>\n",
       "      <td>70.0</td>\n",
       "      <td>- Grandes Carrières - Clichy</td>\n",
       "      <td>36.0</td>\n",
       "      <td>NaN</td>\n",
       "      <td>Description HTML_format -- Haut Rue Damr&amp;eacut...</td>\n",
       "      <td>6</td>\n",
       "      <td>Yes</td>\n",
       "      <td>...</td>\n",
       "      <td>NaN</td>\n",
       "      <td>Acopa Damrémont</td>\n",
       "      <td>19 Rue Damrémont - 75018 Paris</td>\n",
       "      <td>RCS : 512097031</td>\n",
       "      <td>Agence</td>\n",
       "      <td>3989</td>\n",
       "      <td>6 oct. 2016</td>\n",
       "      <td>NaN</td>\n",
       "      <td>&lt;span&gt;&lt;a href=\"/decouvrez/paris/paris-18e/gran...</td>\n",
       "      <td>Exposé Est \\n\\&amp;\\\\n1 WC\\n\\&amp;\\\\n</td>\n",
       "    </tr>\n",
       "    <tr>\n",
       "      <th>2</th>\n",
       "      <td>https://www.bienici.com/annonce/location//appa...</td>\n",
       "      <td>2016-10-09@00:30</td>\n",
       "      <td>Appartement 3 pièces 85 m²</td>\n",
       "      <td>165.0</td>\n",
       "      <td>- Jules Joffrin</td>\n",
       "      <td>85.0</td>\n",
       "      <td>NaN</td>\n",
       "      <td>Description HTML_format -- Appartement 3/4 pi&amp;...</td>\n",
       "      <td>11</td>\n",
       "      <td>No</td>\n",
       "      <td>...</td>\n",
       "      <td>NaN</td>\n",
       "      <td>Acopa Immobilière Marcadet</td>\n",
       "      <td>77 Bd Barbes - 75018 Paris</td>\n",
       "      <td>RCS : 70305443384</td>\n",
       "      <td>Agence</td>\n",
       "      <td>3956</td>\n",
       "      <td>16 sept. 2016</td>\n",
       "      <td>NaN</td>\n",
       "      <td>&lt;span&gt;&lt;a href=\"/decouvrez/paris/paris-18e/jule...</td>\n",
       "      <td>NaN</td>\n",
       "    </tr>\n",
       "    <tr>\n",
       "      <th>3</th>\n",
       "      <td>https://www.bienici.com/annonce/location/paris...</td>\n",
       "      <td>2016-10-09@00:30</td>\n",
       "      <td>Studio 31 m²</td>\n",
       "      <td>105.0</td>\n",
       "      <td>Paris 10e 75010 - Grange aux Belles - Terrage</td>\n",
       "      <td>31.0</td>\n",
       "      <td>NaN</td>\n",
       "      <td>République - Studio de 31 m². M° République, à...</td>\n",
       "      <td>5</td>\n",
       "      <td>No</td>\n",
       "      <td>...</td>\n",
       "      <td>NaN</td>\n",
       "      <td>CONSULT IM - CONSULT'IM</td>\n",
       "      <td>17, Rue De Chateaudun - 75009 Paris</td>\n",
       "      <td>RCS : 511411324</td>\n",
       "      <td>Agence</td>\n",
       "      <td>10185379</td>\n",
       "      <td>7 oct. 2016</td>\n",
       "      <td>NaN</td>\n",
       "      <td>&lt;span&gt;&lt;a href=\"/decouvrez/paris/paris-10e/gran...</td>\n",
       "      <td>NaN</td>\n",
       "    </tr>\n",
       "    <tr>\n",
       "      <th>4</th>\n",
       "      <td>https://www.bienici.com/annonce/location/paris...</td>\n",
       "      <td>2016-10-09@00:30</td>\n",
       "      <td>Studio 35 m²</td>\n",
       "      <td>NaN</td>\n",
       "      <td>Paris 10e 75010 - Porte Saint-Denis - Paradis</td>\n",
       "      <td>35.0</td>\n",
       "      <td>1700.0</td>\n",
       "      <td>REF. 5069 - Studio meublé d'environ 35 m², sit...</td>\n",
       "      <td>12</td>\n",
       "      <td>Yes</td>\n",
       "      <td>...</td>\n",
       "      <td>NaN</td>\n",
       "      <td>BOOK A FLAT</td>\n",
       "      <td>18 Rue Volney - 75002 Paris</td>\n",
       "      <td>RCS : 478 941 990</td>\n",
       "      <td>Agence</td>\n",
       "      <td>5069</td>\n",
       "      <td>22 sept. 2016</td>\n",
       "      <td>NaN</td>\n",
       "      <td>&lt;span&gt;&lt;a href=\"/decouvrez/paris/paris-10e/port...</td>\n",
       "      <td>1 200 €\\n\\&amp;\\\\n1 WC\\n\\&amp;\\\\nDisponible le 1 décem...</td>\n",
       "    </tr>\n",
       "  </tbody>\n",
       "</table>\n",
       "<p>5 rows × 23 columns</p>\n",
       "</div>"
      ],
      "text/plain": [
       "                                                 url     scraping_date  \\\n",
       "0  https://www.bienici.com/annonce/location//appa...  2016-10-09@00:30   \n",
       "1  https://www.bienici.com/annonce/location//appa...  2016-10-09@00:30   \n",
       "2  https://www.bienici.com/annonce/location//appa...  2016-10-09@00:30   \n",
       "3  https://www.bienici.com/annonce/location/paris...  2016-10-09@00:30   \n",
       "4  https://www.bienici.com/annonce/location/paris...  2016-10-09@00:30   \n",
       "\n",
       "                        title  charges  \\\n",
       "0  Appartement 2 pièces 36 m²     70.0   \n",
       "1  Appartement 2 pièces 36 m²     70.0   \n",
       "2  Appartement 3 pièces 85 m²    165.0   \n",
       "3                Studio 31 m²    105.0   \n",
       "4                Studio 35 m²      NaN   \n",
       "\n",
       "                                           place  surface  construction_year  \\\n",
       "0                   - Grandes Carrières - Clichy     36.0                NaN   \n",
       "1                   - Grandes Carrières - Clichy     36.0                NaN   \n",
       "2                                - Jules Joffrin     85.0                NaN   \n",
       "3  Paris 10e 75010 - Grange aux Belles - Terrage     31.0                NaN   \n",
       "4  Paris 10e 75010 - Porte Saint-Denis - Paradis     35.0             1700.0   \n",
       "\n",
       "                                         description  number_pictures  \\\n",
       "0  Description HTML_format -- Haut Rue Damr&eacut...                6   \n",
       "1  Description HTML_format -- Haut Rue Damr&eacut...                6   \n",
       "2  Description HTML_format -- Appartement 3/4 pi&...               11   \n",
       "3  République - Studio de 31 m². M° République, à...                5   \n",
       "4  REF. 5069 - Studio meublé d'environ 35 m², sit...               12   \n",
       "\n",
       "  furnished                        ...                          lift  \\\n",
       "0       Yes                        ...                           NaN   \n",
       "1       Yes                        ...                           NaN   \n",
       "2        No                        ...                           NaN   \n",
       "3        No                        ...                           NaN   \n",
       "4       Yes                        ...                           NaN   \n",
       "\n",
       "                      contact                      contact_address  \\\n",
       "0             Acopa Damrémont       19 Rue Damrémont - 75018 Paris   \n",
       "1             Acopa Damrémont       19 Rue Damrémont - 75018 Paris   \n",
       "2  Acopa Immobilière Marcadet           77 Bd Barbes - 75018 Paris   \n",
       "3     CONSULT IM - CONSULT'IM  17, Rue De Chateaudun - 75009 Paris   \n",
       "4                 BOOK A FLAT          18 Rue Volney - 75002 Paris   \n",
       "\n",
       "         contact_rcs contact_type ref_annonce publication_date  \\\n",
       "0    RCS : 512097031       Agence        3987      5 oct. 2016   \n",
       "1    RCS : 512097031       Agence        3989      6 oct. 2016   \n",
       "2  RCS : 70305443384       Agence        3956    16 sept. 2016   \n",
       "3    RCS : 511411324       Agence    10185379      7 oct. 2016   \n",
       "4  RCS : 478 941 990       Agence        5069    22 sept. 2016   \n",
       "\n",
       "  modification_date                                     infos_quartier  \\\n",
       "0               NaN  <span><a href=\"/decouvrez/paris/paris-18e/gran...   \n",
       "1               NaN  <span><a href=\"/decouvrez/paris/paris-18e/gran...   \n",
       "2               NaN  <span><a href=\"/decouvrez/paris/paris-18e/jule...   \n",
       "3               NaN  <span><a href=\"/decouvrez/paris/paris-10e/gran...   \n",
       "4               NaN  <span><a href=\"/decouvrez/paris/paris-10e/port...   \n",
       "\n",
       "                                          other_info  \n",
       "0                      Exposé Est \\n\\&\\\\n1 WC\\n\\&\\\\n  \n",
       "1                      Exposé Est \\n\\&\\\\n1 WC\\n\\&\\\\n  \n",
       "2                                                NaN  \n",
       "3                                                NaN  \n",
       "4  1 200 €\\n\\&\\\\n1 WC\\n\\&\\\\nDisponible le 1 décem...  \n",
       "\n",
       "[5 rows x 23 columns]"
      ]
     },
     "execution_count": 639,
     "metadata": {},
     "output_type": "execute_result"
    }
   ],
   "source": [
    "dataset = bienici.drop([\"price\", \"number_rooms\", \"number_bedrooms\"], 1)\n",
    "dataset.head()"
   ]
  },
  {
   "cell_type": "markdown",
   "metadata": {},
   "source": [
    "#### Do furnitures increase the charges ? It's not obvious at first glance. We put it aside for the moment. On the contrary, the presence of a lift increases the charges."
   ]
  },
  {
   "cell_type": "code",
   "execution_count": 640,
   "metadata": {
    "collapsed": false
   },
   "outputs": [
    {
     "data": {
      "image/png": "[encoded data removed]",
      "text/plain": [
       "<matplotlib.figure.Figure at 0x122118208>"
      ]
     },
     "metadata": {},
     "output_type": "display_data"
    }
   ],
   "source": [
    "bienici[[\"charges\", \"furnished\"]].boxplot(by = \"furnished\")\n",
    "plt.show()"
   ]
  },
  {
   "cell_type": "code",
   "execution_count": 641,
   "metadata": {
    "collapsed": false
   },
   "outputs": [
    {
     "data": {
      "image/png": "[encoded data removed]",
      "text/plain": [
       "<matplotlib.figure.Figure at 0x1222376a0>"
      ]
     },
     "metadata": {},
     "output_type": "display_data"
    }
   ],
   "source": [
    "bienici[\"lift\"] = bienici[\"lift\"].fillna(False)\n",
    "bienici[[\"charges\", \"lift\"]].boxplot(by = \"lift\")\n",
    "plt.show()"
   ]
  },
  {
   "cell_type": "code",
   "execution_count": 642,
   "metadata": {
    "collapsed": false
   },
   "outputs": [],
   "source": [
    "dataset = dataset.drop([\"furnished\"], 1)"
   ]
  },
  {
   "cell_type": "markdown",
   "metadata": {},
   "source": [
    "### We now anlyse the impact of the heating system on the charges. We expect this feature will have a real effect."
   ]
  },
  {
   "cell_type": "code",
   "execution_count": 643,
   "metadata": {
    "collapsed": false
   },
   "outputs": [
    {
     "name": "stdout",
     "output_type": "stream",
     "text": [
      "['gaz individuel ' '' 'collectif' 'individuel' 'electricite ' 'convecteur '\n",
      " 'electricite' 'radiateur electricite ' 'collectif ' 'gaz '\n",
      " 'radiateur gaz individuel ' 'radiateur gaz collectif'\n",
      " 'individuel electrique electricite' 'collectif radiateurs'\n",
      " 'individuel electricite' 'radiateur gaz ' 'radiateur fioul '\n",
      " 'convecteur electricite ' 'convecteurs electricite individuel '\n",
      " 'radiateurs gaz collectif ' 'individuel gaz gaz' 'radiateur '\n",
      " 'radiateur collectif ' 'radiateur gaz collectif ' 'electricite individuel'\n",
      " 'radiateur individuel' 'gaz individuel' 'electrique individuel '\n",
      " 'radiateur collectif' 'radiateur fuel collectif '\n",
      " 'convecteur electricite individuel' 'individuel au gaz' 'electrique '\n",
      " 'individuel electrique' 'individuel ' 'radiateur gaz individuel'\n",
      " 'gaz collectif' 'radiateur electricite individuel'\n",
      " 'radiateurs cpcu collectif ' 'sol collectif ' 'fioul '\n",
      " 'radiateurs gaz individuel ' 'radiateur individuel ' 'urbain collectif '\n",
      " 'radiateur gaz' 'radiateur cpcu collectif ' 'fuel collectif' 'mixte '\n",
      " 'radiateur autres collectif ' 'convecteurs electrique individuel '\n",
      " 'radiateurs chauffage urbain cpcu collectif ' 'electricite individuel '\n",
      " 'radiateur electrique individuel ' 'radiateur electricite individuel '\n",
      " 'collectif par radiateurs collectif ' 'convecteurs gaz individuel '\n",
      " 'geothermie collectif' 'fuel ' 'radiateurs electricite '\n",
      " 'radian electricite individuel ' 'air pulse '\n",
      " 'radiateurs electricite individuel ' 'radiateurs urbain collectif '\n",
      " 'convecteur electricite individuel ' 'eolienne ' 'chaudière cpcu'\n",
      " 'radiateur c p c u collectif ' 'au sol collectif' 'collectif radiateur'\n",
      " 'collectif fuel ' 'collectif au sol reglable' 'central '\n",
      " 'chauffage au sol' 'fioul collectif ' 'sol fuel collectif '\n",
      " 'gaz individuel gaz ' 'cpcu collectif ' 'collectif au sol'\n",
      " 'fuel collectif fuel ' 'radiateur fuel collectif'\n",
      " 'radiateurs gaz de ville collectif ' 'gaz collectif '\n",
      " 'radiateur electricite individuel electrique '\n",
      " 'convecteurs electrique individuel' 'au sol autres collectif '\n",
      " 'collectif au fuel fioul' 'radiateur fonte gaz' 'individuel au gaz gaz'\n",
      " 'electricite collectif' 'individuel radiateur gaz'\n",
      " 'radiateur autres collectif'\n",
      " 'individuel electrique electricite individuel ' 'convecteurs electrique '\n",
      " 'climatisation reversible individuel' 'gaz'\n",
      " 'individuel au gaz gaz individuel '\n",
      " 'individuel au gaz electricite individuel ' 'radiateur fioul collectif ']\n"
     ]
    }
   ],
   "source": [
    "bienici[\"heating\"] = bienici[\"heating\"].str.lower()\n",
    "bienici[\"heating\"] = bienici[\"heating\"].fillna(\"\")\n",
    "bienici[\"heating\"] = bienici[\"heating\"].str.replace(\"é\", \"e\")\n",
    "print(bienici.heating.unique())"
   ]
  },
  {
   "cell_type": "code",
   "execution_count": 644,
   "metadata": {
    "collapsed": false
   },
   "outputs": [
    {
     "data": {
      "text/plain": [
       "unknown       2319\n",
       "collectif      379\n",
       "individuel     279\n",
       "Name: heating_sys, dtype: int64"
      ]
     },
     "execution_count": 644,
     "metadata": {},
     "output_type": "execute_result"
    }
   ],
   "source": [
    "def get_coll(system):\n",
    "    if re.compile(\"collectif\").match(system):\n",
    "        return \"collectif\"\n",
    "    elif re.compile(\"individuel\").match(system):\n",
    "        return \"individuel\"\n",
    "    else:\n",
    "        return \"unknown\"\n",
    "    \n",
    "bienici[\"heating_sys\"] = bienici[\"heating\"].apply(get_coll, 0)\n",
    "bienici[\"heating_sys\"].value_counts()"
   ]
  },
  {
   "cell_type": "code",
   "execution_count": 645,
   "metadata": {
    "collapsed": false
   },
   "outputs": [
    {
     "data": {
      "image/png": "[encoded data removed]",
      "text/plain": [
       "<matplotlib.figure.Figure at 0x12b306748>"
      ]
     },
     "metadata": {},
     "output_type": "display_data"
    }
   ],
   "source": [
    "bienici[[\"heating_sys\", \"charges\"]].boxplot(by = \"heating_sys\")\n",
    "plt.show()"
   ]
  },
  {
   "cell_type": "markdown",
   "metadata": {
    "collapsed": true
   },
   "source": [
    "#### Collective heating system increases the charges. We now dive into the effect of the energy source:"
   ]
  },
  {
   "cell_type": "code",
   "execution_count": 646,
   "metadata": {
    "collapsed": false
   },
   "outputs": [
    {
     "data": {
      "text/plain": [
       "unknown        2468\n",
       "electricite     258\n",
       "gaz             234\n",
       "fuel             17\n",
       "Name: heating_source, dtype: int64"
      ]
     },
     "execution_count": 646,
     "metadata": {},
     "output_type": "execute_result"
    }
   ],
   "source": [
    "def get_source(system):\n",
    "    if re.compile(\"electricite\").match(system) or re.compile(\"electrique\").match(system):\n",
    "        return \"electricite\"\n",
    "    elif re.compile(\"gaz\").match(system):\n",
    "        return \"gaz\"\n",
    "    elif re.compile(\"fuel\").match(system) or re.compile(\"fioul\").match(system):\n",
    "        return \"fuel\"\n",
    "    else:\n",
    "        return \"unknown\"\n",
    "    \n",
    "bienici[\"heating_source\"] = bienici[\"heating\"].apply(get_source, 0)\n",
    "bienici[\"heating_source\"].value_counts()"
   ]
  },
  {
   "cell_type": "code",
   "execution_count": 647,
   "metadata": {
    "collapsed": false
   },
   "outputs": [
    {
     "data": {
      "image/png": "[encoded data removed]",
      "text/plain": [
       "<matplotlib.figure.Figure at 0x11af55a58>"
      ]
     },
     "metadata": {},
     "output_type": "display_data"
    }
   ],
   "source": [
    "bienici[[\"heating_source\", \"charges\"]].boxplot(by = \"heating_source\")\n",
    "plt.show()"
   ]
  },
  {
   "cell_type": "markdown",
   "metadata": {},
   "source": [
    "#### Electricity based heating systems are way cheaper than the others. The fuel based ones tend to be more expensive."
   ]
  },
  {
   "cell_type": "code",
   "execution_count": 648,
   "metadata": {
    "collapsed": true
   },
   "outputs": [],
   "source": [
    "dataset = dataset.drop([\"heating\"], 1)\n",
    "dataset[\"heating_source\"] = bienici[\"heating_source\"] \n",
    "dataset[\"heating_sys\"] = bienici[\"heating_sys\"] "
   ]
  },
  {
   "cell_type": "markdown",
   "metadata": {},
   "source": [
    "### Checking the influence of the floor's number on the charges: "
   ]
  },
  {
   "cell_type": "code",
   "execution_count": 649,
   "metadata": {
    "collapsed": false
   },
   "outputs": [
    {
     "name": "stdout",
     "output_type": "stream",
     "text": [
      "['5e étage (sur 6)' '4e étage (sur 6)' nan '1er étage' 'Rez-de-chaussée'\n",
      " '4e étage' '5e étage' '2e étage' '2e étage (sur 6)' '3e étage (sur 5)'\n",
      " '6e étage' '3e étage' '3e étage (sur 4)' '1er étage (sur 6)'\n",
      " 'Dernier étage (sur 4)' '3e étage (sur 8)' '6 étages' '6e étage (sur 7)'\n",
      " 'Dernier étage (sur 3)' 'Dernier étage (sur 6)' '3e étage (sur 6)'\n",
      " '3e étage (sur 10)' '8e étage' '1er étage (sur 4)' '4e étage (sur 5)'\n",
      " 'Dernier étage (sur 1)' '4e étage (sur 7)' '1er étage (sur 2)' '40e étage'\n",
      " '2e étage (sur 7)' '5e étage (sur 10)' '4e étage (sur 10)' '7e étage'\n",
      " '4e étage (sur 8)' '4 étages' '10e étage' '1er étage (sur 10)' '5 étages'\n",
      " 'Dernier étage (sur 5)' '2e étage (sur 8)' '1er étage (sur 7)'\n",
      " 'Dernier étage (sur 11)' '1er étage (sur 13)' '6e étage (sur 9)'\n",
      " '11e étage' 'Dernier étage (sur 7)' '1er étage (sur 3)'\n",
      " '16e étage (sur 28)' '26e étage (sur 31)' '2e étage (sur 5)' '24e étage'\n",
      " '4e étage (sur 9)' '11e étage (sur 30)' '24e étage (sur 30)'\n",
      " '7e étage (sur 9)' '10e étage (sur 12)' '1 étage' '7e étage (sur 10)'\n",
      " '2 étages' '6e étage (sur 10)' '10 étages' '9e étage (sur 10)'\n",
      " 'Dernier étage (sur 10)' '3e étage (sur 7)' 'Dernier étage (sur 2)'\n",
      " '7 étages' '11e étage (sur 15)' '6e étage (sur 11)' '1er étage (sur 8)'\n",
      " '1er étage (sur 9)' '57e étage' '2e étage (sur 9)' '5e étage (sur 7)'\n",
      " '9e étage' '16e étage' '2e étage (sur 10)' '1er étage (sur 5)'\n",
      " '6e étage (sur 8)' '12e étage' '14e étage' '2e étage (sur 4)'\n",
      " '5e étage (sur 12)' '12 étages' '5e étage (sur 8)' '5e étage (sur 9)'\n",
      " 'Dernier étage (sur 8)' '2e étage (sur 3)' '10e étage (sur 14)'\n",
      " '8e étage (sur 10)' '9 étages' '3e étage (sur 9)' '8 étages'\n",
      " '4e étage (sur 11)' '8e étage (sur 11)' '13e étage'\n",
      " 'Dernier étage (sur 9)' '8e étage (sur 9)' '3 étages' '34e étage'\n",
      " '7e étage (sur 8)' '1er étage (sur 12)' '2e étage (sur 12)'\n",
      " '7e étage (sur 12)' '6e étage (sur 12)' '3e étage (sur 12)']\n"
     ]
    }
   ],
   "source": [
    "print(bienici.floor.unique())\n",
    "bienici[\"floor\"] = bienici[\"floor\"].fillna(\"\")\n",
    "bienici[\"floor\"] = bienici[\"floor\"].str.lower()"
   ]
  },
  {
   "cell_type": "code",
   "execution_count": 650,
   "metadata": {
    "collapsed": false
   },
   "outputs": [
    {
     "name": "stdout",
     "output_type": "stream",
     "text": [
      "unknown    752\n",
      "1          393\n",
      "3          362\n",
      "2          358\n",
      "4          355\n",
      "5          295\n",
      "6          267\n",
      "7           89\n",
      "9           64\n",
      "8           42\n",
      "Name: floor, dtype: int64\n"
     ]
    }
   ],
   "source": [
    "def get_floor(floor):\n",
    "    if re.compile(\"^[0-9]+\").match(floor):\n",
    "        return min(9,int(re.search(r\"^[0-9]+\", floor).group(0)))\n",
    "    elif re.compile(\"^dernier\").match(floor):\n",
    "        return min(9, int(re.search(r\"[0-9]+\", floor).group(0)))\n",
    "\n",
    "    return \"unknown\"\n",
    "    \n",
    "bienici[\"floor\"] = bienici[\"floor\"].apply(get_floor, 0)\n",
    "print(bienici[\"floor\"].value_counts())"
   ]
  },
  {
   "cell_type": "code",
   "execution_count": 651,
   "metadata": {
    "collapsed": false
   },
   "outputs": [
    {
     "data": {
      "image/png": "[encoded data removed]",
      "text/plain": [
       "<matplotlib.figure.Figure at 0x122148ba8>"
      ]
     },
     "metadata": {},
     "output_type": "display_data"
    }
   ],
   "source": [
    "bienici[[\"floor\", \"charges\"]].boxplot(by = \"floor\")\n",
    "plt.show()"
   ]
  },
  {
   "cell_type": "markdown",
   "metadata": {},
   "source": [
    "#### The differences in charges are not that obvious. We drop this feature."
   ]
  },
  {
   "cell_type": "code",
   "execution_count": 652,
   "metadata": {
    "collapsed": true
   },
   "outputs": [],
   "source": [
    "dataset = dataset.drop([\"floor\"], 1)"
   ]
  },
  {
   "cell_type": "markdown",
   "metadata": {},
   "source": [
    "### Now, we look at the time the building was built. The two variables are not correlated."
   ]
  },
  {
   "cell_type": "code",
   "execution_count": 653,
   "metadata": {
    "collapsed": false
   },
   "outputs": [
    {
     "name": "stdout",
     "output_type": "stream",
     "text": [
      "                    charges  construction_year\n",
      "charges            1.000000          -0.070404\n",
      "construction_year -0.070404           1.000000\n"
     ]
    }
   ],
   "source": [
    "print(bienici[[\"charges\", \"construction_year\"]].corr())\n",
    "dataset = dataset.drop([\"construction_year\"], 1)"
   ]
  },
  {
   "cell_type": "markdown",
   "metadata": {},
   "source": [
    "### Check expo"
   ]
  },
  {
   "cell_type": "code",
   "execution_count": 654,
   "metadata": {
    "collapsed": false
   },
   "outputs": [
    {
     "data": {
      "text/plain": [
       "0                           Exposé Est \\n\\&\\\\n1 WC\\n\\&\\\\n\n",
       "1                           Exposé Est \\n\\&\\\\n1 WC\\n\\&\\\\n\n",
       "2                                                     NaN\n",
       "3                                                     NaN\n",
       "4       1 200 €\\n\\&\\\\n1 WC\\n\\&\\\\nDisponible le 1 décem...\n",
       "5       1 350 €\\n\\&\\\\nTerrasse\\n\\&\\\\n1 WC\\n\\&\\\\nDispon...\n",
       "6          1 195 €\\n\\&\\\\n1 terrasse\\n\\&\\\\n1 balcon\\n\\&\\\\n\n",
       "7                                                     NaN\n",
       "8       1 balcon\\n\\&\\\\nExposé Sud-Est\\n\\&\\\\n1 cave\\n\\&\\\\n\n",
       "9       910 €\\n\\&\\\\n1 balcon\\n\\&\\\\n1 WC\\n\\&\\\\nDigicode...\n",
       "10               1 060 €\\n\\&\\\\n1 WC\\n\\&\\\\nDigicode\\n\\&\\\\n\n",
       "11                                           720 €\\n\\&\\\\n\n",
       "12                                                    NaN\n",
       "13                                                    NaN\n",
       "14      1 cave\\n\\&\\\\nWC séparés\\n\\&\\\\nDigicode\\n\\&\\\\nI...\n",
       "15            1 WC\\n\\&\\\\nDigicode\\n\\&\\\\nInterphone\\n\\&\\\\n\n",
       "16                                            1 WC\\n\\&\\\\n\n",
       "17                                                    NaN\n",
       "18                                                    NaN\n",
       "19                                                    NaN\n",
       "20                                                    NaN\n",
       "21                                                    NaN\n",
       "22                                                    NaN\n",
       "23                                          1 cave\\n\\&\\\\n\n",
       "24                                                    NaN\n",
       "25                                      Interphone\\n\\&\\\\n\n",
       "26        1 WC\\n\\&\\\\nDisponible le 10 octobre 2016\\n\\&\\\\n\n",
       "27                                                    NaN\n",
       "28                                                    NaN\n",
       "29                                            1 WC\\n\\&\\\\n\n",
       "                              ...                        \n",
       "2947                                Exposé Sud-Est\\n\\&\\\\n\n",
       "2948                                                  NaN\n",
       "2949                   1 balcon\\n\\&\\\\nExposé Ouest\\n\\&\\\\n\n",
       "2950                                                  NaN\n",
       "2951                               Cave\\n\\&\\\\n1 WC\\n\\&\\\\n\n",
       "2952                                                  NaN\n",
       "2953                         1 balcon\\n\\&\\\\n1 cave\\n\\&\\\\n\n",
       "2954                                                  NaN\n",
       "2955                                        1 cave\\n\\&\\\\n\n",
       "2956                                                  NaN\n",
       "2957    Refait à neuf\\n\\&\\\\nExposé Nord-Ouest\\n\\&\\\\nCa...\n",
       "2958                                        1 cave\\n\\&\\\\n\n",
       "2959                                        1 cave\\n\\&\\\\n\n",
       "2960                                                  NaN\n",
       "2961                Disponible le 10 novembre 2016\\n\\&\\\\n\n",
       "2962                                                  NaN\n",
       "2963                                         950 €\\n\\&\\\\n\n",
       "2964                                          1 WC\\n\\&\\\\n\n",
       "2965                                                  NaN\n",
       "2966                                       1 050 €\\n\\&\\\\n\n",
       "2967                                         800 €\\n\\&\\\\n\n",
       "2968                                                  NaN\n",
       "2969                                       1 000 €\\n\\&\\\\n\n",
       "2970                                       2 300 €\\n\\&\\\\n\n",
       "2971                                                  NaN\n",
       "2972                                                  NaN\n",
       "2973                                                  NaN\n",
       "2974                                          1 WC\\n\\&\\\\n\n",
       "2975                                    Exposé Sud\\n\\&\\\\n\n",
       "2976                                          Cave\\n\\&\\\\n\n",
       "Name: other_info, dtype: object"
      ]
     },
     "execution_count": 654,
     "metadata": {},
     "output_type": "execute_result"
    }
   ],
   "source": [
    "bienici.other_info"
   ]
  },
  {
   "cell_type": "code",
   "execution_count": 655,
   "metadata": {
    "collapsed": false
   },
   "outputs": [],
   "source": [
    "bienici[\"other_info\"] = bienici[\"other_info\"].fillna(\"\")\n",
    "bienici[\"other_info\"] = bienici[\"other_info\"].str.lower()"
   ]
  },
  {
   "cell_type": "code",
   "execution_count": 656,
   "metadata": {
    "collapsed": true
   },
   "outputs": [],
   "source": [
    "def get_expo(info):\n",
    "    regex = re.compile(\"exposé\\s[a-z]+-?[a-z]*\").match(info)\n",
    "    if regex:\n",
    "        return regex.group(0).replace(\"exposé \", \"\") \n",
    "    else:\n",
    "        return \"unknown\""
   ]
  },
  {
   "cell_type": "code",
   "execution_count": 657,
   "metadata": {
    "collapsed": false
   },
   "outputs": [],
   "source": [
    "bienici[\"expo\"] = bienici[\"other_info\"].apply(get_expo, 0)"
   ]
  },
  {
   "cell_type": "code",
   "execution_count": 658,
   "metadata": {
    "collapsed": false
   },
   "outputs": [
    {
     "data": {
      "text/plain": [
       "array(['est', 'unknown', 'sud', 'sud-est', 'ouest', 'nord', 'nord-ouest',\n",
       "       'traversant', 'sud-ouest', 'est-ouest', 'nord-est'], dtype=object)"
      ]
     },
     "execution_count": 658,
     "metadata": {},
     "output_type": "execute_result"
    }
   ],
   "source": [
    "bienici[\"expo\"].unique()"
   ]
  },
  {
   "cell_type": "code",
   "execution_count": 659,
   "metadata": {
    "collapsed": false
   },
   "outputs": [
    {
     "data": {
      "image/png": "[encoded data removed]",
      "text/plain": [
       "<matplotlib.figure.Figure at 0x12244ae80>"
      ]
     },
     "metadata": {},
     "output_type": "display_data"
    }
   ],
   "source": [
    "bienici[[\"charges\", \"expo\"]].boxplot(by = \"expo\")\n",
    "plt.show()"
   ]
  },
  {
   "cell_type": "code",
   "execution_count": 660,
   "metadata": {
    "collapsed": false
   },
   "outputs": [
    {
     "data": {
      "text/plain": [
       "unknown       2865\n",
       "sud             40\n",
       "ouest           21\n",
       "est             19\n",
       "nord             9\n",
       "sud-est          8\n",
       "sud-ouest        7\n",
       "nord-est         4\n",
       "nord-ouest       2\n",
       "traversant       1\n",
       "est-ouest        1\n",
       "Name: expo, dtype: int64"
      ]
     },
     "execution_count": 660,
     "metadata": {},
     "output_type": "execute_result"
    }
   ],
   "source": [
    "bienici[\"expo\"].value_counts()"
   ]
  },
  {
   "cell_type": "markdown",
   "metadata": {},
   "source": [
    "#### Not enough informations about flat orientation. It's not interesting to take it into account."
   ]
  },
  {
   "cell_type": "code",
   "execution_count": 661,
   "metadata": {
    "collapsed": false
   },
   "outputs": [],
   "source": [
    "dataset = dataset.drop([\"other_info\"], 1)"
   ]
  },
  {
   "cell_type": "code",
   "execution_count": 662,
   "metadata": {
    "collapsed": false
   },
   "outputs": [
    {
     "data": {
      "text/plain": [
       "array([' - Grandes Carrières - Clichy', ' - Jules Joffrin',\n",
       "       'Paris 10e\\xa075010 - Grange aux Belles - Terrage',\n",
       "       'Paris 10e\\xa075010 - Porte Saint-Denis - Paradis',\n",
       "       \"Paris 10e\\xa075010 - Château d'Eau - Lancry\",\n",
       "       'Paris 10e\\xa075010 - Louis Blanc - Aqueduc', 'Paris 10e\\xa075010',\n",
       "       'Paris 10e\\xa075010 - Faubourg du Temple - Hôpital Saint-Louis',\n",
       "       'Paris 10e\\xa075010 - Saint-Vincent de Paul - Lariboisière',\n",
       "       'Paris 11e\\xa075011', 'Paris 11e\\xa075011 - Bastille - Popincourt',\n",
       "       'Paris 11e\\xa075011 - Belleville - Saint-Maur',\n",
       "       'Paris 11e\\xa075011 - Nation - Alexandre Dumas',\n",
       "       'Paris 11e\\xa075011 - Léon-Blum - Folie-Regnault',\n",
       "       'Paris 11e\\xa075011 - République - Saint-Ambroise',\n",
       "       'Paris 11e\\xa075011 - Les Halles',\n",
       "       'Paris 12e\\xa075012 - Bel-Air - Sud',\n",
       "       'Paris 12e\\xa075012 - Aligre - Gare de Lyon', 'Paris 12e\\xa075012',\n",
       "       'Paris 12e\\xa075012 - Vallée de Fecamp',\n",
       "       'Paris 12e\\xa075012 - Jardin de Reuilly',\n",
       "       'Paris 12e\\xa075012 - Nation - Picpus',\n",
       "       'Paris 12e\\xa075012 - Bel-Air - Nord', 'Paris 13e\\xa075013',\n",
       "       'Paris 13e\\xa075013 - Croulebarbe',\n",
       "       'Paris 13e\\xa075013 - Olympiades - Choisy',\n",
       "       'Paris 13e\\xa075013 - Bièvre Sud - Tolbiac',\n",
       "       \"Paris 13e\\xa075013 - Bibliothèque - Dunois - Jeanne d'Arc\",\n",
       "       'Paris 13e\\xa075013 - Salpétrière - Austerlitz',\n",
       "       'Paris 13e\\xa075013 - Butte-aux-Cailles',\n",
       "       'Paris 13e\\xa075013 - Patay - Masséna',\n",
       "       'Paris 13e\\xa075013 - Nationale - Deux Moulins',\n",
       "       'Paris 14e\\xa075014', 'Paris 14e\\xa075014 - Mouton - Duvernet',\n",
       "       'Paris 14e\\xa075014 - Montparnasse - Raspail',\n",
       "       \"Paris 14e\\xa075014 - Jean Moulin - Porte d'Orléans\",\n",
       "       'Paris 14e\\xa075014 - Pernety',\n",
       "       'Paris 14e\\xa075014 - Didot - Porte de Vanves',\n",
       "       'Paris 14e\\xa075014 - Montsouris - Dareau',\n",
       "       'Paris 15e\\xa075015 - Georges Brassens', 'Paris 15e\\xa075015',\n",
       "       'Paris 15e\\xa075015 - Dupleix - Motte Picquet',\n",
       "       'Paris 15e\\xa075015 - Vaugirard - Parc des Expositions',\n",
       "       'Paris 15e\\xa075015 - Cambronne - Garibaldi',\n",
       "       'Paris 15e\\xa075015 - Pasteur - Montparnasse',\n",
       "       'Paris 15e\\xa075015 - Violet - Commerce',\n",
       "       'Paris 15e\\xa075015 - Saint-Lambert - Convention',\n",
       "       'Paris 15e\\xa075015 - Emeriau - Zola',\n",
       "       'Paris 15e\\xa075015 - Alleray - Procession',\n",
       "       'Paris 15e\\xa075015 - Citroën - Boucicaut',\n",
       "       'Paris 16e\\xa075016 - Auteuil-Nord - Jasmin - Mirabeau',\n",
       "       'Paris 16e\\xa075016 - Passy - Maison de la Radio - Muette-Sud',\n",
       "       'Paris 16e\\xa075016', 'Paris 16e\\xa075116 - Chaillot',\n",
       "       'Paris 16e\\xa075016 - Chaillot',\n",
       "       'Paris 16e\\xa075016 - Porte de Saint-Cloud - Auteuil-Sud',\n",
       "       'Paris 16e\\xa075016 - Dauphine',\n",
       "       'Paris 16e\\xa075116 - Muette-Nord - Trocadéro',\n",
       "       'Paris 16e\\xa075116',\n",
       "       'Paris 16e\\xa075016 - Muette-Nord - Trocadéro',\n",
       "       'Paris 16e\\xa075116 - Dauphine',\n",
       "       'Paris 16e\\xa075116 - Passy - Maison de la Radio - Muette-Sud',\n",
       "       'Paris 16e\\xa075116 - Porte de Saint-Cloud - Auteuil-Sud',\n",
       "       'Paris 17e\\xa075017', 'Paris 17e\\xa075017 - Courcelles - Wagram',\n",
       "       'Paris 17e\\xa075017 - Champerret - Berthier',\n",
       "       'Paris 17e\\xa075017 - Legendre - Lévis',\n",
       "       'Paris 17e\\xa075017 - Ternes - Maillot',\n",
       "       'Paris 17e\\xa075017 - Pereire - Malesherbes',\n",
       "       'Paris 17e\\xa075017 - Batignolles - Cardinet',\n",
       "       'Paris 17e\\xa075017 - La Fourche - Guy Moquet',\n",
       "       'Paris 17e\\xa075017 - Epinettes - Bessières',\n",
       "       'Paris 18e\\xa075018 - Jules Joffrin',\n",
       "       'Paris 18e\\xa075018 - Grandes Carrières - Clichy',\n",
       "       \"Paris 18e\\xa075018 - Château Rouge - Barbès - Goutte d'Or\",\n",
       "       'Paris 18e\\xa075018 - Montmartre - Sacré Coeur',\n",
       "       'Paris 18e\\xa075018',\n",
       "       'Paris 18e\\xa075018 - La Chapelle - Marx Dormoy',\n",
       "       'Paris 18e\\xa075018 - Simplon - Amiraux - Poissonniers',\n",
       "       'Paris 18e\\xa075018 - Porte de Clignancourt - Porte Montmartre - Moskowa',\n",
       "       'Paris 19e\\xa075019 - Bas Belleville',\n",
       "       'Paris 19e\\xa075019 - Secrétan',\n",
       "       'Paris 19e\\xa075019 - Buttes Chaumont',\n",
       "       'Paris 19e\\xa075019 - Flandre - Aubervilliers',\n",
       "       'Paris 19e\\xa075019 - Bassin de la Villette',\n",
       "       'Paris 19e\\xa075019 - Danube',\n",
       "       'Paris 19e\\xa075019 - Pont de Flandre', 'Paris 19e\\xa075019',\n",
       "       'Paris 19e\\xa075019 - Manin - Jaurès',\n",
       "       'Paris 19e\\xa075019 - Place des Fêtes',\n",
       "       'Paris 19e\\xa075019 - Porte des Lilas',\n",
       "       'Paris 1er\\xa075001 - Les Halles',\n",
       "       'Paris 1er\\xa075001 - Palais Royal', 'Paris 1er\\xa075001 - Vendôme',\n",
       "       'Paris 1er\\xa075001',\n",
       "       \"Paris 1er\\xa075001 - Saint-Germain - L'Auxerrois\",\n",
       "       'Paris 20e\\xa075020',\n",
       "       'Paris 20e\\xa075020 - Père Lachaise - Réunion',\n",
       "       'Paris 20e\\xa075020 - Gambetta',\n",
       "       'Paris 20e\\xa075020 - Plaine - Lagny',\n",
       "       'Paris 20e\\xa075020 - Saint-Blaise',\n",
       "       'Paris 20e\\xa075020 - Télégraphe - Pelleport - Saint-Fargeau',\n",
       "       'Paris 20e\\xa075020 - Belleville',\n",
       "       'Paris 20e\\xa075020 - Ménilmontant - Amandiers',\n",
       "       'Paris 2e\\xa075002',\n",
       "       'Paris 2e\\xa075002 - Montorgueil - Saint-Denis',\n",
       "       'Paris 2e\\xa075002 - Sentier - Bonne Nouvelle',\n",
       "       'Paris 2e\\xa075002 - Gaillon - Vivienne', 'Paris 3e\\xa075003',\n",
       "       'Paris 3e\\xa075003 - Arts-et-Métiers',\n",
       "       'Paris 3e\\xa075003 - Sainte-Avoye', 'Paris 3e\\xa075003 - Archives',\n",
       "       'Paris 3e\\xa075003 - Enfants Rouges', 'Paris 4e\\xa075004',\n",
       "       'Paris 4e\\xa075004 - Les Halles', 'Paris 4e\\xa075004 - Arsenal',\n",
       "       'Paris 4e\\xa075004 - Saint-Gervais',\n",
       "       'Paris 4e\\xa075004 - Saint-Merri', 'Paris 4e\\xa075004 - Les Iles',\n",
       "       'Paris 5e\\xa075005 - Saint-Victor - Jussieu', 'Paris 5e\\xa075005',\n",
       "       'Paris 5e\\xa075005 - Jardin des Plantes',\n",
       "       'Paris 5e\\xa075005 - Val de Grâce', 'Paris 5e\\xa075005 - Sorbonne',\n",
       "       'Paris 6e\\xa075006 - Saint-Placide',\n",
       "       'Paris 6e\\xa075006 - Odéon - Mabillon', 'Paris 6e\\xa075006',\n",
       "       'Paris 6e\\xa075006 - Saint-Germain des Près',\n",
       "       'Paris 6e\\xa075006 - Rennes',\n",
       "       'Paris 6e\\xa075006 - Saint-Michel - Monnaie',\n",
       "       'Paris 6e\\xa075006 - Notre Dame des Champs', 'Paris 7e\\xa075007',\n",
       "       'Paris 7e\\xa075007 - Gros Caillou - Champ de Mars - Ecole Militaire',\n",
       "       'Paris 7e\\xa075007 - Invalides',\n",
       "       \"Paris 7e\\xa075007 - Saint-Thomas d'Aquin\",\n",
       "       'Paris 7e\\xa075007 - Breteuil',\n",
       "       'Paris 7e\\xa075007 - Cambronne - Garibaldi', 'Paris 8e\\xa075008',\n",
       "       'Paris 8e\\xa075008 - Saint-Philippe du Roule',\n",
       "       'Paris 8e\\xa075008 - Elysée - Madeleine',\n",
       "       'Paris 8e\\xa075008 - Hoche Friedland', 'Paris 8e\\xa075008 - Mairie',\n",
       "       'Paris 8e\\xa075008 - Monceau', \"Paris 8e\\xa075008 - Triangle d'Or\",\n",
       "       'Paris 8e\\xa075008 - Chaillot', 'Paris 8e\\xa075008 - Europe',\n",
       "       'Paris 8e\\xa075008 - Les Halles',\n",
       "       'Paris 9e\\xa075009 - Lafayette - Richer', 'Paris 9e\\xa075009',\n",
       "       'Paris 9e\\xa075009 - Clichy - Trinité',\n",
       "       'Paris 9e\\xa075009 - Lorette - Martyrs',\n",
       "       'Paris 9e\\xa075009 - Trudaine - Rochechouart',\n",
       "       'Paris 9e\\xa075009 - Provence Opéra',\n",
       "       'Paris 20e\\xa075020 - Bastille - Popincourt', 'Paris\\xa092240',\n",
       "       'Paris 13e\\xa075013 - Val de Grâce'], dtype=object)"
      ]
     },
     "execution_count": 662,
     "metadata": {},
     "output_type": "execute_result"
    }
   ],
   "source": [
    "bienici.place.unique()"
   ]
  },
  {
   "cell_type": "code",
   "execution_count": 663,
   "metadata": {
    "collapsed": true
   },
   "outputs": [],
   "source": [
    "def get_district(place):\n",
    "    regex = re.compile(\"Paris\\s[0-9]+\").match(place)\n",
    "    if regex:\n",
    "        return regex.group(0)\n",
    "    else:\n",
    "        return \"unknown\""
   ]
  },
  {
   "cell_type": "code",
   "execution_count": 664,
   "metadata": {
    "collapsed": false
   },
   "outputs": [],
   "source": [
    "bienici[\"district\"] = bienici[\"place\"].apply(get_district, 0)"
   ]
  },
  {
   "cell_type": "code",
   "execution_count": 665,
   "metadata": {
    "collapsed": false
   },
   "outputs": [
    {
     "data": {
      "image/png": "[encoded data removed]",
      "text/plain": [
       "<matplotlib.figure.Figure at 0x122d92d68>"
      ]
     },
     "metadata": {},
     "output_type": "display_data"
    }
   ],
   "source": [
    "bienici[[\"district\", \"charges\"]].boxplot(by = \"district\")\n",
    "plt.show()"
   ]
  },
  {
   "cell_type": "code",
   "execution_count": 666,
   "metadata": {
    "collapsed": false
   },
   "outputs": [],
   "source": [
    "dataset[\"district\"] = bienici[\"district\"]\n",
    "dataset = dataset.drop([\"url\", \"scraping_date\", \"title\", \"description\", \"number_pictures\", \"number_bathromms\", \"contact\",\n",
    "                       \"contact_address\", \"contact_rcs\", \"contact_type\", \"ref_annonce\", \"publication_date\", \"modification_date\",\n",
    "                        \"infos_quartier\", \"place\"], 1)"
   ]
  },
  {
   "cell_type": "code",
   "execution_count": 667,
   "metadata": {
    "collapsed": false
   },
   "outputs": [
    {
     "data": {
      "text/html": [
       "<div>\n",
       "<table border=\"1\" class=\"dataframe\">\n",
       "  <thead>\n",
       "    <tr style=\"text-align: right;\">\n",
       "      <th></th>\n",
       "      <th>charges</th>\n",
       "      <th>surface</th>\n",
       "      <th>lift</th>\n",
       "      <th>heating_source</th>\n",
       "      <th>heating_sys</th>\n",
       "      <th>district</th>\n",
       "    </tr>\n",
       "  </thead>\n",
       "  <tbody>\n",
       "    <tr>\n",
       "      <th>0</th>\n",
       "      <td>70.0</td>\n",
       "      <td>36.0</td>\n",
       "      <td>NaN</td>\n",
       "      <td>gaz</td>\n",
       "      <td>unknown</td>\n",
       "      <td>unknown</td>\n",
       "    </tr>\n",
       "    <tr>\n",
       "      <th>1</th>\n",
       "      <td>70.0</td>\n",
       "      <td>36.0</td>\n",
       "      <td>NaN</td>\n",
       "      <td>gaz</td>\n",
       "      <td>unknown</td>\n",
       "      <td>unknown</td>\n",
       "    </tr>\n",
       "    <tr>\n",
       "      <th>2</th>\n",
       "      <td>165.0</td>\n",
       "      <td>85.0</td>\n",
       "      <td>NaN</td>\n",
       "      <td>unknown</td>\n",
       "      <td>unknown</td>\n",
       "      <td>unknown</td>\n",
       "    </tr>\n",
       "    <tr>\n",
       "      <th>3</th>\n",
       "      <td>105.0</td>\n",
       "      <td>31.0</td>\n",
       "      <td>NaN</td>\n",
       "      <td>unknown</td>\n",
       "      <td>collectif</td>\n",
       "      <td>Paris 10</td>\n",
       "    </tr>\n",
       "    <tr>\n",
       "      <th>4</th>\n",
       "      <td>NaN</td>\n",
       "      <td>35.0</td>\n",
       "      <td>NaN</td>\n",
       "      <td>unknown</td>\n",
       "      <td>individuel</td>\n",
       "      <td>Paris 10</td>\n",
       "    </tr>\n",
       "  </tbody>\n",
       "</table>\n",
       "</div>"
      ],
      "text/plain": [
       "   charges  surface lift heating_source heating_sys  district\n",
       "0     70.0     36.0  NaN            gaz     unknown   unknown\n",
       "1     70.0     36.0  NaN            gaz     unknown   unknown\n",
       "2    165.0     85.0  NaN        unknown     unknown   unknown\n",
       "3    105.0     31.0  NaN        unknown   collectif  Paris 10\n",
       "4      NaN     35.0  NaN        unknown  individuel  Paris 10"
      ]
     },
     "execution_count": 667,
     "metadata": {},
     "output_type": "execute_result"
    }
   ],
   "source": [
    "dataset.head()"
   ]
  },
  {
   "cell_type": "markdown",
   "metadata": {},
   "source": [
    "### Trying regression"
   ]
  },
  {
   "cell_type": "code",
   "execution_count": 668,
   "metadata": {
    "collapsed": false
   },
   "outputs": [],
   "source": [
    "dataset = dataset.ix[np.abs(dataset.charges - dataset.charges.mean()) < 2.5*dataset.charges.std(), :]\n",
    "dataset[\"charges_log\"] = dataset[\"charges\"].apply(np.log, 0)\n",
    "dataset = dataset.drop([\"charges\"], 1)"
   ]
  },
  {
   "cell_type": "code",
   "execution_count": 669,
   "metadata": {
    "collapsed": false
   },
   "outputs": [
    {
     "data": {
      "text/html": [
       "<div>\n",
       "<table border=\"1\" class=\"dataframe\">\n",
       "  <thead>\n",
       "    <tr style=\"text-align: right;\">\n",
       "      <th></th>\n",
       "      <th>surface</th>\n",
       "      <th>lift</th>\n",
       "      <th>heating_source</th>\n",
       "      <th>heating_sys</th>\n",
       "      <th>district</th>\n",
       "      <th>charges_log</th>\n",
       "    </tr>\n",
       "  </thead>\n",
       "  <tbody>\n",
       "    <tr>\n",
       "      <th>0</th>\n",
       "      <td>36.0</td>\n",
       "      <td>NaN</td>\n",
       "      <td>gaz</td>\n",
       "      <td>unknown</td>\n",
       "      <td>unknown</td>\n",
       "      <td>4.248495</td>\n",
       "    </tr>\n",
       "    <tr>\n",
       "      <th>1</th>\n",
       "      <td>36.0</td>\n",
       "      <td>NaN</td>\n",
       "      <td>gaz</td>\n",
       "      <td>unknown</td>\n",
       "      <td>unknown</td>\n",
       "      <td>4.248495</td>\n",
       "    </tr>\n",
       "    <tr>\n",
       "      <th>2</th>\n",
       "      <td>85.0</td>\n",
       "      <td>NaN</td>\n",
       "      <td>unknown</td>\n",
       "      <td>unknown</td>\n",
       "      <td>unknown</td>\n",
       "      <td>5.105945</td>\n",
       "    </tr>\n",
       "    <tr>\n",
       "      <th>3</th>\n",
       "      <td>31.0</td>\n",
       "      <td>NaN</td>\n",
       "      <td>unknown</td>\n",
       "      <td>collectif</td>\n",
       "      <td>Paris 10</td>\n",
       "      <td>4.653960</td>\n",
       "    </tr>\n",
       "    <tr>\n",
       "      <th>7</th>\n",
       "      <td>28.0</td>\n",
       "      <td>NaN</td>\n",
       "      <td>unknown</td>\n",
       "      <td>unknown</td>\n",
       "      <td>Paris 10</td>\n",
       "      <td>4.744932</td>\n",
       "    </tr>\n",
       "  </tbody>\n",
       "</table>\n",
       "</div>"
      ],
      "text/plain": [
       "   surface lift heating_source heating_sys  district  charges_log\n",
       "0     36.0  NaN            gaz     unknown   unknown     4.248495\n",
       "1     36.0  NaN            gaz     unknown   unknown     4.248495\n",
       "2     85.0  NaN        unknown     unknown   unknown     5.105945\n",
       "3     31.0  NaN        unknown   collectif  Paris 10     4.653960\n",
       "7     28.0  NaN        unknown     unknown  Paris 10     4.744932"
      ]
     },
     "execution_count": 669,
     "metadata": {},
     "output_type": "execute_result"
    }
   ],
   "source": [
    "dataset.head()"
   ]
  },
  {
   "cell_type": "code",
   "execution_count": 670,
   "metadata": {
    "collapsed": false
   },
   "outputs": [],
   "source": [
    "dataset = dataset.ix[dataset[\"charges_log\"].notnull(), :]\n",
    "dataset[\"lift\"] = dataset[\"lift\"].fillna(False)"
   ]
  },
  {
   "cell_type": "code",
   "execution_count": 671,
   "metadata": {
    "collapsed": false
   },
   "outputs": [],
   "source": [
    "dataset = dataset.dropna()\n",
    "dataset[[\"collectif\", \"individuel\"]] = pd.get_dummies(dataset[\"heating_sys\"]).drop([\"unknown\"], 1)\n",
    "dataset = dataset.drop([\"heating_sys\"], 1)"
   ]
  },
  {
   "cell_type": "code",
   "execution_count": 672,
   "metadata": {
    "collapsed": false
   },
   "outputs": [],
   "source": [
    "dataset = pd.concat([dataset, pd.get_dummies(dataset[\"district\"]).drop([\"unknown\"], 1)], 1)\n",
    "dataset = dataset.drop([\"district\"], 1)\n",
    "dataset = pd.concat([dataset, pd.get_dummies(dataset[\"heating_source\"]).drop([\"unknown\"],1)], 1).drop([\"heating_source\"], 1)"
   ]
  },
  {
   "cell_type": "code",
   "execution_count": 673,
   "metadata": {
    "collapsed": false
   },
   "outputs": [],
   "source": [
    "split = np.random.randint(1, 4, dataset.shape[0])\n",
    "Train = dataset.ix[split != 3, :]\n",
    "Test = dataset.ix[split == 3, :]"
   ]
  },
  {
   "cell_type": "code",
   "execution_count": 674,
   "metadata": {
    "collapsed": false
   },
   "outputs": [],
   "source": [
    "X_train = Train[[col for col in dataset.columns if col != \"charges_log\"]]\n",
    "Y_train = Train[[\"charges_log\"]]\n",
    "X_test = Test[[col for col in dataset.columns if col != \"charges_log\"]]\n",
    "Y_test = Test[[\"charges_log\"]]"
   ]
  },
  {
   "cell_type": "code",
   "execution_count": 675,
   "metadata": {
    "collapsed": false
   },
   "outputs": [
    {
     "name": "stderr",
     "output_type": "stream",
     "text": [
      "/Users/gabrielducrocq/anaconda/lib/python3.5/site-packages/ipykernel/__main__.py:2: DataConversionWarning: A column-vector y was passed when a 1d array was expected. Please change the shape of y to (n_samples,), for example using ravel().\n",
      "  from ipykernel import kernelapp as app\n"
     ]
    }
   ],
   "source": [
    "forest = RandomForestRegressor()\n",
    "forest.fit(X_train, Y_train)\n",
    "y_hat = forest.predict(X_test)"
   ]
  },
  {
   "cell_type": "code",
   "execution_count": 676,
   "metadata": {
    "collapsed": false
   },
   "outputs": [
    {
     "name": "stdout",
     "output_type": "stream",
     "text": [
      "47.10977896830437\n",
      "[  14.88116324   31.60512498   66.66944134  108.76487957]\n"
     ]
    }
   ],
   "source": [
    "errors = np.exp(Y_test.charges_log) - np.exp(y_hat)\n",
    "error_abs = np.abs(errors)\n",
    "print(np.mean(np.abs(np.exp(Y_test.charges_log) - np.exp(y_hat))))\n",
    "print(np.percentile((np.abs(np.exp(Y_test.charges_log) - np.exp(y_hat))), [25, 50, 75, 90]))"
   ]
  },
  {
   "cell_type": "code",
   "execution_count": 678,
   "metadata": {
    "collapsed": false
   },
   "outputs": [
    {
     "data": {
      "image/png": "[encoded data removed]",
      "text/plain": [
       "<matplotlib.figure.Figure at 0x12244a0f0>"
      ]
     },
     "metadata": {},
     "output_type": "display_data"
    }
   ],
   "source": [
    "plt.plot(np.exp(Y_test.charges_log), np.exp(y_hat), \"o\")\n",
    "x = np.linspace(0, 500, 2)\n",
    "plt.plot(x, x)\n",
    "plt.show()"
   ]
  },
  {
   "cell_type": "code",
   "execution_count": 679,
   "metadata": {
    "collapsed": false
   },
   "outputs": [
    {
     "data": {
      "image/png": "[encoded data removed]",
      "text/plain": [
       "<matplotlib.figure.Figure at 0x11e2484a8>"
      ]
     },
     "metadata": {},
     "output_type": "display_data"
    }
   ],
   "source": [
    "plt.plot(np.exp(Y_test.charges_log) ,np.exp(Y_test.charges_log) - np.exp(y_hat), \"o\")\n",
    "plt.show()"
   ]
  },
  {
   "cell_type": "code",
   "execution_count": 680,
   "metadata": {
    "collapsed": false
   },
   "outputs": [
    {
     "data": {
      "image/png": "[encoded data removed]",
      "text/plain": [
       "<matplotlib.figure.Figure at 0x12213ecf8>"
      ]
     },
     "metadata": {},
     "output_type": "display_data"
    }
   ],
   "source": [
    "plt.hist(errors)\n",
    "plt.show()"
   ]
  },
  {
   "cell_type": "code",
   "execution_count": 681,
   "metadata": {
    "collapsed": false
   },
   "outputs": [
    {
     "data": {
      "image/png": "[encoded data removed]",
      "text/plain": [
       "<matplotlib.figure.Figure at 0x11e5bf320>"
      ]
     },
     "metadata": {},
     "output_type": "display_data"
    }
   ],
   "source": [
    "plt.plot(X_test[\"surface\"], error_abs, \"o\")\n",
    "plt.show()"
   ]
  },
  {
   "cell_type": "code",
   "execution_count": 682,
   "metadata": {
    "collapsed": false
   },
   "outputs": [],
   "source": [
    "lin_reg = sklearn.linear_model.LinearRegression(normalize = True)\n",
    "lin_reg.fit(X_train, Y_train)\n",
    "y_hat_lin = lin_reg.predict(X_test)\n",
    "errors_lin = np.exp(Y_test.charges_log).tolist() - np.exp(y_hat_lin)"
   ]
  },
  {
   "cell_type": "code",
   "execution_count": 683,
   "metadata": {
    "collapsed": false
   },
   "outputs": [
    {
     "name": "stdout",
     "output_type": "stream",
     "text": [
      "103.756358651\n",
      "71.4049243293\n"
     ]
    }
   ],
   "source": [
    "errors_abs_lin = np.abs(errors_lin)\n",
    "print(np.mean(errors_abs_lin))\n",
    "print(np.median(errors_abs_lin))"
   ]
  },
  {
   "cell_type": "code",
   "execution_count": 453,
   "metadata": {
    "collapsed": false
   },
   "outputs": [
    {
     "data": {
      "image/png": "[encoded data removed]",
      "text/plain": [
       "<matplotlib.figure.Figure at 0x12abae278>"
      ]
     },
     "metadata": {},
     "output_type": "display_data"
    }
   ],
   "source": [
    "plt.plot(np.exp(Y_test.charges_log), np.exp(y_hat_lin), \"o\")\n",
    "plt.show()"
   ]
  },
  {
   "cell_type": "markdown",
   "metadata": {},
   "source": [
    "### Trying classification"
   ]
  },
  {
   "cell_type": "code",
   "execution_count": 586,
   "metadata": {
    "collapsed": false
   },
   "outputs": [],
   "source": [
    "dataset = dataset.ix[np.abs(dataset.charges - dataset.charges.mean()) < 2.5*dataset.charges.std(), :]\n",
    "dataset = dataset.ix[dataset[\"charges\"].notnull(), :]\n",
    "dataset[\"lift\"] = dataset[\"lift\"].fillna(False)\n",
    "\n",
    "dataset = dataset.dropna()\n",
    "dataset[[\"collectif\", \"individuel\"]] = pd.get_dummies(dataset[\"heating_sys\"]).drop([\"unknown\"], 1)\n",
    "dataset = dataset.drop([\"heating_sys\"], 1)\n",
    "\n",
    "dataset = pd.concat([dataset, pd.get_dummies(dataset[\"district\"]).drop([\"unknown\"], 1)], 1)\n",
    "dataset = dataset.drop([\"district\"], 1)\n",
    "dataset = pd.concat([dataset, pd.get_dummies(dataset[\"heating_source\"]).drop([\"unknown\"],1)], 1).drop([\"heating_source\"], 1)"
   ]
  },
  {
   "cell_type": "code",
   "execution_count": 587,
   "metadata": {
    "collapsed": false
   },
   "outputs": [],
   "source": [
    "dataset[\"charges\"] = pd.cut(dataset[\"charges\"], [100*i for i in range(0, 40)])"
   ]
  },
  {
   "cell_type": "code",
   "execution_count": 588,
   "metadata": {
    "collapsed": true
   },
   "outputs": [],
   "source": [
    "split = np.random.randint(1, 4, dataset.shape[0])\n",
    "Train = dataset.ix[split != 3, :]\n",
    "Test = dataset.ix[split == 3, :]"
   ]
  },
  {
   "cell_type": "code",
   "execution_count": 589,
   "metadata": {
    "collapsed": false
   },
   "outputs": [],
   "source": [
    "X_train = Train[[col for col in dataset.columns if col != \"charges\"]]\n",
    "Y_train = Train[[\"charges\"]]\n",
    "X_test = Test[[col for col in dataset.columns if col != \"charges\"]]\n",
    "Y_test = Test[[\"charges\"]]"
   ]
  },
  {
   "cell_type": "code",
   "execution_count": 590,
   "metadata": {
    "collapsed": false
   },
   "outputs": [
    {
     "name": "stderr",
     "output_type": "stream",
     "text": [
      "/Users/gabrielducrocq/anaconda/lib/python3.5/site-packages/ipykernel/__main__.py:2: DataConversionWarning: A column-vector y was passed when a 1d array was expected. Please change the shape of y to (n_samples,), for example using ravel().\n",
      "  from ipykernel import kernelapp as app\n"
     ]
    }
   ],
   "source": [
    "forest = RandomForestClassifier()\n",
    "forest.fit(X_train, Y_train)\n",
    "y_hat = forest.predict(X_test)"
   ]
  },
  {
   "cell_type": "code",
   "execution_count": 591,
   "metadata": {
    "collapsed": false
   },
   "outputs": [
    {
     "data": {
      "text/plain": [
       "0.54659248956884565"
      ]
     },
     "execution_count": 591,
     "metadata": {},
     "output_type": "execute_result"
    }
   ],
   "source": [
    "np.mean(y_hat == Y_test.charges)"
   ]
  },
  {
   "cell_type": "code",
   "execution_count": 592,
   "metadata": {
    "collapsed": false
   },
   "outputs": [
    {
     "data": {
      "text/plain": [
       "array([[201,  72,  11,   1,   1,   0],\n",
       "       [ 87, 135,  37,   5,   0,   0],\n",
       "       [  3,  39,  36,  12,   7,   0],\n",
       "       [  2,  14,  10,   8,  14,   0],\n",
       "       [  0,   6,   2,   2,  13,   0],\n",
       "       [  0,   0,   1,   0,   0,   0]])"
      ]
     },
     "execution_count": 592,
     "metadata": {},
     "output_type": "execute_result"
    }
   ],
   "source": [
    "sklearn.metrics.confusion_matrix(Y_test.charges, y_hat)"
   ]
  },
  {
   "cell_type": "code",
   "execution_count": null,
   "metadata": {
    "collapsed": false
   },
   "outputs": [],
   "source": []
  },
  {
   "cell_type": "code",
   "execution_count": null,
   "metadata": {
    "collapsed": false
   },
   "outputs": [],
   "source": []
  },
  {
   "cell_type": "code",
   "execution_count": null,
   "metadata": {
    "collapsed": false
   },
   "outputs": [],
   "source": []
  },
  {
   "cell_type": "code",
   "execution_count": null,
   "metadata": {
    "collapsed": false
   },
   "outputs": [],
   "source": []
  },
  {
   "cell_type": "code",
   "execution_count": null,
   "metadata": {
    "collapsed": false
   },
   "outputs": [],
   "source": []
  },
  {
   "cell_type": "code",
   "execution_count": null,
   "metadata": {
    "collapsed": false
   },
   "outputs": [],
   "source": []
  },
  {
   "cell_type": "code",
   "execution_count": null,
   "metadata": {
    "collapsed": true
   },
   "outputs": [],
   "source": []
  }
 ],
 "metadata": {
  "kernelspec": {
   "display_name": "Python [Root]",
   "language": "python",
   "name": "Python [Root]"
  },
  "language_info": {
   "codemirror_mode": {
    "name": "ipython",
    "version": 3
   },
   "file_extension": ".py",
   "mimetype": "text/x-python",
   "name": "python",
   "nbconvert_exporter": "python",
   "pygments_lexer": "ipython3",
   "version": "3.5.2"
  }
 },
 "nbformat": 4,
 "nbformat_minor": 0
}
