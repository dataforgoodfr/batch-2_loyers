{
 "cells": [
  {
   "cell_type": "code",
   "execution_count": 230,
   "metadata": {
    "collapsed": false
   },
   "outputs": [],
   "source": [
    "import pandas as pd\n",
    "import numpy as np\n",
    "import matplotlib.pyplot as plt\n",
    "import re\n",
    "import sklearn\n",
    "from sklearn.ensemble import RandomForestRegressor\n",
    "from sklearn.ensemble import RandomForestClassifier\n",
    "from sklearn.feature_extraction import DictVectorizer\n",
    "import neurolab\n",
    "import scipy\n",
    "from sklearn import neighbors\n",
    "from sklearn.svm import SVR\n",
    "from sklearn.grid_search import GridSearchCV\n",
    "%matplotlib inline"
   ]
  },
  {
   "cell_type": "code",
   "execution_count": 231,
   "metadata": {
    "collapsed": true
   },
   "outputs": [],
   "source": [
    "bienici = pd.read_csv(\"scraping_bienici.csv\")"
   ]
  },
  {
   "cell_type": "code",
   "execution_count": 232,
   "metadata": {
    "collapsed": false
   },
   "outputs": [
    {
     "name": "stdout",
     "output_type": "stream",
     "text": [
      "                                                 url     scraping_date  \\\n",
      "0  https://www.bienici.com/annonce/location//appa...  2016-10-09@00:30   \n",
      "1  https://www.bienici.com/annonce/location//appa...  2016-10-09@00:30   \n",
      "2  https://www.bienici.com/annonce/location//appa...  2016-10-09@00:30   \n",
      "3  https://www.bienici.com/annonce/location/paris...  2016-10-09@00:30   \n",
      "4  https://www.bienici.com/annonce/location/paris...  2016-10-09@00:30   \n",
      "\n",
      "                        title   price  charges  \\\n",
      "0  Appartement 2 pièces 36 m²  1150.0     70.0   \n",
      "1  Appartement 2 pièces 36 m²  1150.0     70.0   \n",
      "2  Appartement 3 pièces 85 m²  2165.0    165.0   \n",
      "3                Studio 31 m²   930.0    105.0   \n",
      "4                Studio 35 m²  1200.0      NaN   \n",
      "\n",
      "                                           place  surface  construction_year  \\\n",
      "0                   - Grandes Carrières - Clichy     36.0                NaN   \n",
      "1                   - Grandes Carrières - Clichy     36.0                NaN   \n",
      "2                                - Jules Joffrin     85.0                NaN   \n",
      "3  Paris 10e 75010 - Grange aux Belles - Terrage     31.0                NaN   \n",
      "4  Paris 10e 75010 - Porte Saint-Denis - Paradis     35.0             1700.0   \n",
      "\n",
      "                                         description  number_pictures  \\\n",
      "0  Description HTML_format -- Haut Rue Damr&eacut...                6   \n",
      "1  Description HTML_format -- Haut Rue Damr&eacut...                6   \n",
      "2  Description HTML_format -- Appartement 3/4 pi&...               11   \n",
      "3  République - Studio de 31 m². M° République, à...                5   \n",
      "4  REF. 5069 - Studio meublé d'environ 35 m², sit...               12   \n",
      "\n",
      "                         ...                         lift  \\\n",
      "0                        ...                          NaN   \n",
      "1                        ...                          NaN   \n",
      "2                        ...                          NaN   \n",
      "3                        ...                          NaN   \n",
      "4                        ...                          NaN   \n",
      "\n",
      "                      contact                      contact_address  \\\n",
      "0             Acopa Damrémont       19 Rue Damrémont - 75018 Paris   \n",
      "1             Acopa Damrémont       19 Rue Damrémont - 75018 Paris   \n",
      "2  Acopa Immobilière Marcadet           77 Bd Barbes - 75018 Paris   \n",
      "3     CONSULT IM - CONSULT'IM  17, Rue De Chateaudun - 75009 Paris   \n",
      "4                 BOOK A FLAT          18 Rue Volney - 75002 Paris   \n",
      "\n",
      "         contact_rcs contact_type ref_annonce publication_date  \\\n",
      "0    RCS : 512097031       Agence        3987      5 oct. 2016   \n",
      "1    RCS : 512097031       Agence        3989      6 oct. 2016   \n",
      "2  RCS : 70305443384       Agence        3956    16 sept. 2016   \n",
      "3    RCS : 511411324       Agence    10185379      7 oct. 2016   \n",
      "4  RCS : 478 941 990       Agence        5069    22 sept. 2016   \n",
      "\n",
      "  modification_date                                     infos_quartier  \\\n",
      "0               NaN  <span><a href=\"/decouvrez/paris/paris-18e/gran...   \n",
      "1               NaN  <span><a href=\"/decouvrez/paris/paris-18e/gran...   \n",
      "2               NaN  <span><a href=\"/decouvrez/paris/paris-18e/jule...   \n",
      "3               NaN  <span><a href=\"/decouvrez/paris/paris-10e/gran...   \n",
      "4               NaN  <span><a href=\"/decouvrez/paris/paris-10e/port...   \n",
      "\n",
      "                                          other_info  \n",
      "0                      Exposé Est \\n\\&\\\\n1 WC\\n\\&\\\\n  \n",
      "1                      Exposé Est \\n\\&\\\\n1 WC\\n\\&\\\\n  \n",
      "2                                                NaN  \n",
      "3                                                NaN  \n",
      "4  1 200 €\\n\\&\\\\n1 WC\\n\\&\\\\nDisponible le 1 décem...  \n",
      "\n",
      "[5 rows x 26 columns]\n",
      "Index(['url', 'scraping_date', 'title', 'price', 'charges', 'place', 'surface',\n",
      "       'construction_year', 'description', 'number_pictures', 'furnished',\n",
      "       'number_rooms', 'number_bedrooms', 'number_bathromms', 'floor',\n",
      "       'heating', 'lift', 'contact', 'contact_address', 'contact_rcs',\n",
      "       'contact_type', 'ref_annonce', 'publication_date', 'modification_date',\n",
      "       'infos_quartier', 'other_info'],\n",
      "      dtype='object')\n"
     ]
    }
   ],
   "source": [
    "print(bienici.head())\n",
    "print(bienici.columns)"
   ]
  },
  {
   "cell_type": "markdown",
   "metadata": {},
   "source": [
    "#### The ratio charges/prices seems pretty constant. We can get a estimate of the charges using this fact;"
   ]
  },
  {
   "cell_type": "code",
   "execution_count": 233,
   "metadata": {
    "collapsed": false
   },
   "outputs": [
    {
     "name": "stderr",
     "output_type": "stream",
     "text": [
      "/Users/gabrielducrocq/anaconda/lib/python3.5/site-packages/ipykernel/__main__.py:5: SettingWithCopyWarning: \n",
      "A value is trying to be set on a copy of a slice from a DataFrame.\n",
      "Try using .loc[row_indexer,col_indexer] = value instead\n",
      "\n",
      "See the caveats in the documentation: http://pandas.pydata.org/pandas-docs/stable/indexing.html#indexing-view-versus-copy\n",
      "/Users/gabrielducrocq/anaconda/lib/python3.5/site-packages/ipykernel/__main__.py:6: SettingWithCopyWarning: \n",
      "A value is trying to be set on a copy of a slice from a DataFrame.\n",
      "Try using .loc[row_indexer,col_indexer] = value instead\n",
      "\n",
      "See the caveats in the documentation: http://pandas.pydata.org/pandas-docs/stable/indexing.html#indexing-view-versus-copy\n"
     ]
    },
    {
     "data": {
      "image/png": "[encoded data removed]",
      "text/plain": [
       "<matplotlib.figure.Figure at 0x11b5ab048>"
      ]
     },
     "metadata": {},
     "output_type": "display_data"
    }
   ],
   "source": [
    "def get_weird(x):\n",
    "    return re.compile(\"[0-9]+\\sà\").match(x) is None\n",
    "\n",
    "cleaned_price = bienici.ix[bienici[\"price\"].apply(get_weird, 0),:]\n",
    "cleaned_price[\"price\"] = cleaned_price[\"price\"].apply(float)\n",
    "cleaned_price[\"ratio\"] = cleaned_price.charges/cleaned_price.price\n",
    "plt.plot(cleaned_price[\"price\"],cleaned_price[\"ratio\"], \"o\")\n",
    "plt.show()"
   ]
  },
  {
   "cell_type": "code",
   "execution_count": 234,
   "metadata": {
    "collapsed": false
   },
   "outputs": [
    {
     "name": "stderr",
     "output_type": "stream",
     "text": [
      "/Users/gabrielducrocq/anaconda/lib/python3.5/site-packages/ipykernel/__main__.py:1: SettingWithCopyWarning: \n",
      "A value is trying to be set on a copy of a slice from a DataFrame.\n",
      "Try using .loc[row_indexer,col_indexer] = value instead\n",
      "\n",
      "See the caveats in the documentation: http://pandas.pydata.org/pandas-docs/stable/indexing.html#indexing-view-versus-copy\n",
      "  if __name__ == '__main__':\n"
     ]
    },
    {
     "data": {
      "text/html": [
       "<div>\n",
       "<table border=\"1\" class=\"dataframe\">\n",
       "  <thead>\n",
       "    <tr style=\"text-align: right;\">\n",
       "      <th></th>\n",
       "      <th>price</th>\n",
       "      <th>charges</th>\n",
       "      <th>surface</th>\n",
       "      <th>number_rooms</th>\n",
       "      <th>number_bedrooms</th>\n",
       "      <th>surface_by_room</th>\n",
       "    </tr>\n",
       "  </thead>\n",
       "  <tbody>\n",
       "    <tr>\n",
       "      <th>price</th>\n",
       "      <td>1.000000</td>\n",
       "      <td>0.821315</td>\n",
       "      <td>0.869920</td>\n",
       "      <td>0.429128</td>\n",
       "      <td>0.659591</td>\n",
       "      <td>0.468246</td>\n",
       "    </tr>\n",
       "    <tr>\n",
       "      <th>charges</th>\n",
       "      <td>0.821315</td>\n",
       "      <td>1.000000</td>\n",
       "      <td>0.820388</td>\n",
       "      <td>0.729083</td>\n",
       "      <td>0.667019</td>\n",
       "      <td>0.394402</td>\n",
       "    </tr>\n",
       "    <tr>\n",
       "      <th>surface</th>\n",
       "      <td>0.869920</td>\n",
       "      <td>0.820388</td>\n",
       "      <td>1.000000</td>\n",
       "      <td>0.525953</td>\n",
       "      <td>0.840922</td>\n",
       "      <td>0.512903</td>\n",
       "    </tr>\n",
       "    <tr>\n",
       "      <th>number_rooms</th>\n",
       "      <td>0.429128</td>\n",
       "      <td>0.729083</td>\n",
       "      <td>0.525953</td>\n",
       "      <td>1.000000</td>\n",
       "      <td>0.921765</td>\n",
       "      <td>0.060566</td>\n",
       "    </tr>\n",
       "    <tr>\n",
       "      <th>number_bedrooms</th>\n",
       "      <td>0.659591</td>\n",
       "      <td>0.667019</td>\n",
       "      <td>0.840922</td>\n",
       "      <td>0.921765</td>\n",
       "      <td>1.000000</td>\n",
       "      <td>0.372341</td>\n",
       "    </tr>\n",
       "    <tr>\n",
       "      <th>surface_by_room</th>\n",
       "      <td>0.468246</td>\n",
       "      <td>0.394402</td>\n",
       "      <td>0.512903</td>\n",
       "      <td>0.060566</td>\n",
       "      <td>0.372341</td>\n",
       "      <td>1.000000</td>\n",
       "    </tr>\n",
       "  </tbody>\n",
       "</table>\n",
       "</div>"
      ],
      "text/plain": [
       "                    price   charges   surface  number_rooms  number_bedrooms  \\\n",
       "price            1.000000  0.821315  0.869920      0.429128         0.659591   \n",
       "charges          0.821315  1.000000  0.820388      0.729083         0.667019   \n",
       "surface          0.869920  0.820388  1.000000      0.525953         0.840922   \n",
       "number_rooms     0.429128  0.729083  0.525953      1.000000         0.921765   \n",
       "number_bedrooms  0.659591  0.667019  0.840922      0.921765         1.000000   \n",
       "surface_by_room  0.468246  0.394402  0.512903      0.060566         0.372341   \n",
       "\n",
       "                 surface_by_room  \n",
       "price                   0.468246  \n",
       "charges                 0.394402  \n",
       "surface                 0.512903  \n",
       "number_rooms            0.060566  \n",
       "number_bedrooms         0.372341  \n",
       "surface_by_room         1.000000  "
      ]
     },
     "execution_count": 234,
     "metadata": {},
     "output_type": "execute_result"
    }
   ],
   "source": [
    "cleaned_price[\"surface_by_room\"] = cleaned_price[\"surface\"]/cleaned_price[\"number_rooms\"]\n",
    "cleaned_price[[\"price\", \"charges\",\"surface\", \"number_rooms\", \"number_bedrooms\", \"surface_by_room\"]].corr()"
   ]
  },
  {
   "cell_type": "markdown",
   "metadata": {},
   "source": [
    "#### As expected, all these features are pretty highly correlated - surface by room is the only exception . The features which makes the most sense is the surface. We can get rid of the others."
   ]
  },
  {
   "cell_type": "code",
   "execution_count": 235,
   "metadata": {
    "collapsed": false,
    "scrolled": true
   },
   "outputs": [
    {
     "data": {
      "text/html": [
       "<div>\n",
       "<table border=\"1\" class=\"dataframe\">\n",
       "  <thead>\n",
       "    <tr style=\"text-align: right;\">\n",
       "      <th></th>\n",
       "      <th>url</th>\n",
       "      <th>scraping_date</th>\n",
       "      <th>title</th>\n",
       "      <th>charges</th>\n",
       "      <th>place</th>\n",
       "      <th>surface</th>\n",
       "      <th>construction_year</th>\n",
       "      <th>description</th>\n",
       "      <th>number_pictures</th>\n",
       "      <th>furnished</th>\n",
       "      <th>...</th>\n",
       "      <th>contact</th>\n",
       "      <th>contact_address</th>\n",
       "      <th>contact_rcs</th>\n",
       "      <th>contact_type</th>\n",
       "      <th>ref_annonce</th>\n",
       "      <th>publication_date</th>\n",
       "      <th>modification_date</th>\n",
       "      <th>infos_quartier</th>\n",
       "      <th>other_info</th>\n",
       "      <th>estimated_charges</th>\n",
       "    </tr>\n",
       "  </thead>\n",
       "  <tbody>\n",
       "    <tr>\n",
       "      <th>0</th>\n",
       "      <td>https://www.bienici.com/annonce/location//appa...</td>\n",
       "      <td>2016-10-09@00:30</td>\n",
       "      <td>Appartement 2 pièces 36 m²</td>\n",
       "      <td>70.0</td>\n",
       "      <td>- Grandes Carrières - Clichy</td>\n",
       "      <td>36.0</td>\n",
       "      <td>NaN</td>\n",
       "      <td>Description HTML_format -- Haut Rue Damr&amp;eacut...</td>\n",
       "      <td>6</td>\n",
       "      <td>Yes</td>\n",
       "      <td>...</td>\n",
       "      <td>Acopa Damrémont</td>\n",
       "      <td>19 Rue Damrémont - 75018 Paris</td>\n",
       "      <td>RCS : 512097031</td>\n",
       "      <td>Agence</td>\n",
       "      <td>3987</td>\n",
       "      <td>5 oct. 2016</td>\n",
       "      <td>NaN</td>\n",
       "      <td>&lt;span&gt;&lt;a href=\"/decouvrez/paris/paris-18e/gran...</td>\n",
       "      <td>Exposé Est \\n\\&amp;\\\\n1 WC\\n\\&amp;\\\\n</td>\n",
       "      <td>103.50</td>\n",
       "    </tr>\n",
       "    <tr>\n",
       "      <th>1</th>\n",
       "      <td>https://www.bienici.com/annonce/location//appa...</td>\n",
       "      <td>2016-10-09@00:30</td>\n",
       "      <td>Appartement 2 pièces 36 m²</td>\n",
       "      <td>70.0</td>\n",
       "      <td>- Grandes Carrières - Clichy</td>\n",
       "      <td>36.0</td>\n",
       "      <td>NaN</td>\n",
       "      <td>Description HTML_format -- Haut Rue Damr&amp;eacut...</td>\n",
       "      <td>6</td>\n",
       "      <td>Yes</td>\n",
       "      <td>...</td>\n",
       "      <td>Acopa Damrémont</td>\n",
       "      <td>19 Rue Damrémont - 75018 Paris</td>\n",
       "      <td>RCS : 512097031</td>\n",
       "      <td>Agence</td>\n",
       "      <td>3989</td>\n",
       "      <td>6 oct. 2016</td>\n",
       "      <td>NaN</td>\n",
       "      <td>&lt;span&gt;&lt;a href=\"/decouvrez/paris/paris-18e/gran...</td>\n",
       "      <td>Exposé Est \\n\\&amp;\\\\n1 WC\\n\\&amp;\\\\n</td>\n",
       "      <td>103.50</td>\n",
       "    </tr>\n",
       "    <tr>\n",
       "      <th>2</th>\n",
       "      <td>https://www.bienici.com/annonce/location//appa...</td>\n",
       "      <td>2016-10-09@00:30</td>\n",
       "      <td>Appartement 3 pièces 85 m²</td>\n",
       "      <td>165.0</td>\n",
       "      <td>- Jules Joffrin</td>\n",
       "      <td>85.0</td>\n",
       "      <td>NaN</td>\n",
       "      <td>Description HTML_format -- Appartement 3/4 pi&amp;...</td>\n",
       "      <td>11</td>\n",
       "      <td>No</td>\n",
       "      <td>...</td>\n",
       "      <td>Acopa Immobilière Marcadet</td>\n",
       "      <td>77 Bd Barbes - 75018 Paris</td>\n",
       "      <td>RCS : 70305443384</td>\n",
       "      <td>Agence</td>\n",
       "      <td>3956</td>\n",
       "      <td>16 sept. 2016</td>\n",
       "      <td>NaN</td>\n",
       "      <td>&lt;span&gt;&lt;a href=\"/decouvrez/paris/paris-18e/jule...</td>\n",
       "      <td>NaN</td>\n",
       "      <td>194.85</td>\n",
       "    </tr>\n",
       "    <tr>\n",
       "      <th>3</th>\n",
       "      <td>https://www.bienici.com/annonce/location/paris...</td>\n",
       "      <td>2016-10-09@00:30</td>\n",
       "      <td>Studio 31 m²</td>\n",
       "      <td>105.0</td>\n",
       "      <td>Paris 10e 75010 - Grange aux Belles - Terrage</td>\n",
       "      <td>31.0</td>\n",
       "      <td>NaN</td>\n",
       "      <td>République - Studio de 31 m². M° République, à...</td>\n",
       "      <td>5</td>\n",
       "      <td>No</td>\n",
       "      <td>...</td>\n",
       "      <td>CONSULT IM - CONSULT'IM</td>\n",
       "      <td>17, Rue De Chateaudun - 75009 Paris</td>\n",
       "      <td>RCS : 511411324</td>\n",
       "      <td>Agence</td>\n",
       "      <td>10185379</td>\n",
       "      <td>7 oct. 2016</td>\n",
       "      <td>NaN</td>\n",
       "      <td>&lt;span&gt;&lt;a href=\"/decouvrez/paris/paris-10e/gran...</td>\n",
       "      <td>NaN</td>\n",
       "      <td>83.70</td>\n",
       "    </tr>\n",
       "    <tr>\n",
       "      <th>4</th>\n",
       "      <td>https://www.bienici.com/annonce/location/paris...</td>\n",
       "      <td>2016-10-09@00:30</td>\n",
       "      <td>Studio 35 m²</td>\n",
       "      <td>NaN</td>\n",
       "      <td>Paris 10e 75010 - Porte Saint-Denis - Paradis</td>\n",
       "      <td>35.0</td>\n",
       "      <td>1700.0</td>\n",
       "      <td>REF. 5069 - Studio meublé d'environ 35 m², sit...</td>\n",
       "      <td>12</td>\n",
       "      <td>Yes</td>\n",
       "      <td>...</td>\n",
       "      <td>BOOK A FLAT</td>\n",
       "      <td>18 Rue Volney - 75002 Paris</td>\n",
       "      <td>RCS : 478 941 990</td>\n",
       "      <td>Agence</td>\n",
       "      <td>5069</td>\n",
       "      <td>22 sept. 2016</td>\n",
       "      <td>NaN</td>\n",
       "      <td>&lt;span&gt;&lt;a href=\"/decouvrez/paris/paris-10e/port...</td>\n",
       "      <td>1 200 €\\n\\&amp;\\\\n1 WC\\n\\&amp;\\\\nDisponible le 1 décem...</td>\n",
       "      <td>108.00</td>\n",
       "    </tr>\n",
       "  </tbody>\n",
       "</table>\n",
       "<p>5 rows × 24 columns</p>\n",
       "</div>"
      ],
      "text/plain": [
       "                                                 url     scraping_date  \\\n",
       "0  https://www.bienici.com/annonce/location//appa...  2016-10-09@00:30   \n",
       "1  https://www.bienici.com/annonce/location//appa...  2016-10-09@00:30   \n",
       "2  https://www.bienici.com/annonce/location//appa...  2016-10-09@00:30   \n",
       "3  https://www.bienici.com/annonce/location/paris...  2016-10-09@00:30   \n",
       "4  https://www.bienici.com/annonce/location/paris...  2016-10-09@00:30   \n",
       "\n",
       "                        title  charges  \\\n",
       "0  Appartement 2 pièces 36 m²     70.0   \n",
       "1  Appartement 2 pièces 36 m²     70.0   \n",
       "2  Appartement 3 pièces 85 m²    165.0   \n",
       "3                Studio 31 m²    105.0   \n",
       "4                Studio 35 m²      NaN   \n",
       "\n",
       "                                           place  surface  construction_year  \\\n",
       "0                   - Grandes Carrières - Clichy     36.0                NaN   \n",
       "1                   - Grandes Carrières - Clichy     36.0                NaN   \n",
       "2                                - Jules Joffrin     85.0                NaN   \n",
       "3  Paris 10e 75010 - Grange aux Belles - Terrage     31.0                NaN   \n",
       "4  Paris 10e 75010 - Porte Saint-Denis - Paradis     35.0             1700.0   \n",
       "\n",
       "                                         description  number_pictures  \\\n",
       "0  Description HTML_format -- Haut Rue Damr&eacut...                6   \n",
       "1  Description HTML_format -- Haut Rue Damr&eacut...                6   \n",
       "2  Description HTML_format -- Appartement 3/4 pi&...               11   \n",
       "3  République - Studio de 31 m². M° République, à...                5   \n",
       "4  REF. 5069 - Studio meublé d'environ 35 m², sit...               12   \n",
       "\n",
       "  furnished        ...                            contact  \\\n",
       "0       Yes        ...                    Acopa Damrémont   \n",
       "1       Yes        ...                    Acopa Damrémont   \n",
       "2        No        ...         Acopa Immobilière Marcadet   \n",
       "3        No        ...            CONSULT IM - CONSULT'IM   \n",
       "4       Yes        ...                        BOOK A FLAT   \n",
       "\n",
       "                       contact_address        contact_rcs contact_type  \\\n",
       "0       19 Rue Damrémont - 75018 Paris    RCS : 512097031       Agence   \n",
       "1       19 Rue Damrémont - 75018 Paris    RCS : 512097031       Agence   \n",
       "2           77 Bd Barbes - 75018 Paris  RCS : 70305443384       Agence   \n",
       "3  17, Rue De Chateaudun - 75009 Paris    RCS : 511411324       Agence   \n",
       "4          18 Rue Volney - 75002 Paris  RCS : 478 941 990       Agence   \n",
       "\n",
       "  ref_annonce publication_date modification_date  \\\n",
       "0        3987      5 oct. 2016               NaN   \n",
       "1        3989      6 oct. 2016               NaN   \n",
       "2        3956    16 sept. 2016               NaN   \n",
       "3    10185379      7 oct. 2016               NaN   \n",
       "4        5069    22 sept. 2016               NaN   \n",
       "\n",
       "                                      infos_quartier  \\\n",
       "0  <span><a href=\"/decouvrez/paris/paris-18e/gran...   \n",
       "1  <span><a href=\"/decouvrez/paris/paris-18e/gran...   \n",
       "2  <span><a href=\"/decouvrez/paris/paris-18e/jule...   \n",
       "3  <span><a href=\"/decouvrez/paris/paris-10e/gran...   \n",
       "4  <span><a href=\"/decouvrez/paris/paris-10e/port...   \n",
       "\n",
       "                                          other_info estimated_charges  \n",
       "0                      Exposé Est \\n\\&\\\\n1 WC\\n\\&\\\\n            103.50  \n",
       "1                      Exposé Est \\n\\&\\\\n1 WC\\n\\&\\\\n            103.50  \n",
       "2                                                NaN            194.85  \n",
       "3                                                NaN             83.70  \n",
       "4  1 200 €\\n\\&\\\\n1 WC\\n\\&\\\\nDisponible le 1 décem...            108.00  \n",
       "\n",
       "[5 rows x 24 columns]"
      ]
     },
     "execution_count": 235,
     "metadata": {},
     "output_type": "execute_result"
    }
   ],
   "source": [
    "bienici = bienici.ix[bienici[\"price\"].apply(get_weird, 0),:]\n",
    "bienici[\"price\"] = bienici[\"price\"].apply(float)\n",
    "bienici[\"estimated_charges\"] = bienici.price*0.09\n",
    "dataset = bienici.drop([\"price\", \"number_rooms\", \"number_bedrooms\"], 1)\n",
    "dataset.head()"
   ]
  },
  {
   "cell_type": "markdown",
   "metadata": {},
   "source": [
    "#### Do furnitures increase the charges ? It's not obvious at first glance. We put it aside for the moment. On the contrary, the presence of a lift increases the charges."
   ]
  },
  {
   "cell_type": "code",
   "execution_count": 236,
   "metadata": {
    "collapsed": true
   },
   "outputs": [],
   "source": [
    "def furnished_sure(x):\n",
    "    ret = False\n",
    "    if x == 'Yes':\n",
    "        ret = True\n",
    "    return ret\n",
    "# vec_furnished gives the position of ads where it is sure that furnished is true\n",
    "vec_furnished_sure = np.asarray(bienici[\"furnished\"].apply(furnished_sure, 1)).astype(int)\n",
    "\n",
    "def furnished_from_mining(x):\n",
    "    ret = False\n",
    "    if 'meublé' in x and 'non meublé' not in x and 'non-meublé' not in x and 'non meuble' not in x\\\n",
    "    and 'non-meuble' not in x:\n",
    "        ret = True\n",
    "    return ret\n",
    "# vec_furnished_minig gives the position of ads where we found that the flat is furnished, thanks to the description\n",
    "vec_furnished_mining = np.asarray(bienici[\"description\"].apply(furnished_from_mining, 1)).astype(int)\n",
    "vec_furnished = vec_furnished_sure + vec_furnished_mining\n",
    "vec_furnished = (vec_furnished >= 1).astype(int) # 0/1 format\n",
    "\n",
    "bienici[\"furnished\"] = vec_furnished"
   ]
  },
  {
   "cell_type": "code",
   "execution_count": 237,
   "metadata": {
    "collapsed": false
   },
   "outputs": [
    {
     "data": {
      "image/png": "[encoded data removed]",
      "text/plain": [
       "<matplotlib.figure.Figure at 0x11f244208>"
      ]
     },
     "metadata": {},
     "output_type": "display_data"
    }
   ],
   "source": [
    "bienici[[\"charges\", \"furnished\"]].boxplot(by = \"furnished\", showfliers = False)\n",
    "plt.show()"
   ]
  },
  {
   "cell_type": "code",
   "execution_count": 238,
   "metadata": {
    "collapsed": false
   },
   "outputs": [
    {
     "data": {
      "image/png": "[encoded data removed]",
      "text/plain": [
       "<matplotlib.figure.Figure at 0x11b5d7da0>"
      ]
     },
     "metadata": {},
     "output_type": "display_data"
    }
   ],
   "source": [
    "bienici[\"lift\"] = bienici[\"lift\"].fillna(False)\n",
    "bienici[[\"charges\", \"lift\"]].boxplot(by = \"lift\", showfliers = False)\n",
    "plt.show()"
   ]
  },
  {
   "cell_type": "code",
   "execution_count": 239,
   "metadata": {
    "collapsed": false
   },
   "outputs": [
    {
     "data": {
      "image/png": "[encoded data removed]",
      "text/plain": [
       "<matplotlib.figure.Figure at 0x11bbe2400>"
      ]
     },
     "metadata": {},
     "output_type": "display_data"
    }
   ],
   "source": [
    "def find_gardien(x):\n",
    "    if 'gardien' in x:\n",
    "        return True\n",
    "    else:\n",
    "        return False\n",
    "\n",
    "bienici[\"gardien\"] = bienici[\"description\"].apply(find_gardien, 0)\n",
    "dataset[\"gardien\"] = bienici[\"gardien\"]\n",
    "bienici[[\"charges\", \"gardien\"]].boxplot(by = \"gardien\", showfliers = False)\n",
    "plt.show()"
   ]
  },
  {
   "cell_type": "markdown",
   "metadata": {},
   "source": [
    "### We now anlyse the impact of the heating system on the charges. We expect this feature will have a real effect."
   ]
  },
  {
   "cell_type": "code",
   "execution_count": 240,
   "metadata": {
    "collapsed": false
   },
   "outputs": [
    {
     "name": "stdout",
     "output_type": "stream",
     "text": [
      "['gaz individuel ' '' 'collectif' 'individuel' 'electricite ' 'convecteur '\n",
      " 'electricite' 'radiateur electricite ' 'collectif ' 'gaz '\n",
      " 'radiateur gaz individuel ' 'radiateur gaz collectif'\n",
      " 'individuel electrique electricite' 'collectif radiateurs'\n",
      " 'individuel electricite' 'radiateur gaz ' 'radiateur fioul '\n",
      " 'convecteur electricite ' 'convecteurs electricite individuel '\n",
      " 'radiateurs gaz collectif ' 'individuel gaz gaz' 'radiateur '\n",
      " 'radiateur collectif ' 'radiateur gaz collectif ' 'electricite individuel'\n",
      " 'radiateur individuel' 'gaz individuel' 'electrique individuel '\n",
      " 'radiateur collectif' 'radiateur fuel collectif '\n",
      " 'convecteur electricite individuel' 'individuel au gaz' 'electrique '\n",
      " 'individuel electrique' 'individuel ' 'radiateur gaz individuel'\n",
      " 'gaz collectif' 'radiateur electricite individuel'\n",
      " 'radiateurs cpcu collectif ' 'sol collectif ' 'fioul '\n",
      " 'radiateurs gaz individuel ' 'radiateur individuel ' 'urbain collectif '\n",
      " 'radiateur gaz' 'radiateur cpcu collectif ' 'fuel collectif' 'mixte '\n",
      " 'radiateur autres collectif ' 'convecteurs electrique individuel '\n",
      " 'radiateurs chauffage urbain cpcu collectif ' 'electricite individuel '\n",
      " 'radiateur electrique individuel ' 'radiateur electricite individuel '\n",
      " 'collectif par radiateurs collectif ' 'convecteurs gaz individuel '\n",
      " 'geothermie collectif' 'fuel ' 'radiateurs electricite '\n",
      " 'radian electricite individuel ' 'air pulse '\n",
      " 'radiateurs electricite individuel ' 'radiateurs urbain collectif '\n",
      " 'convecteur electricite individuel ' 'eolienne ' 'chaudière cpcu'\n",
      " 'radiateur c p c u collectif ' 'au sol collectif' 'collectif radiateur'\n",
      " 'collectif fuel ' 'collectif au sol reglable' 'central '\n",
      " 'chauffage au sol' 'fioul collectif ' 'sol fuel collectif '\n",
      " 'gaz individuel gaz ' 'cpcu collectif ' 'collectif au sol'\n",
      " 'fuel collectif fuel ' 'radiateur fuel collectif'\n",
      " 'radiateurs gaz de ville collectif ' 'gaz collectif '\n",
      " 'radiateur electricite individuel electrique '\n",
      " 'convecteurs electrique individuel' 'au sol autres collectif '\n",
      " 'collectif au fuel fioul' 'radiateur fonte gaz' 'individuel au gaz gaz'\n",
      " 'electricite collectif' 'individuel radiateur gaz'\n",
      " 'radiateur autres collectif'\n",
      " 'individuel electrique electricite individuel ' 'convecteurs electrique '\n",
      " 'climatisation reversible individuel' 'gaz'\n",
      " 'individuel au gaz gaz individuel '\n",
      " 'individuel au gaz electricite individuel ' 'radiateur fioul collectif '\n",
      " 'radiateur electrique collectif ' 'radiateur electricite'\n",
      " 'convecteurs individuel ' 'radiateur urbain collectif '\n",
      " 'individuel electrique ' 'collectif gaz' 'convecteurs fuel collectif '\n",
      " 'central gaz collectif ' 'collectif au sol electricite'\n",
      " 'radiateur electrique ' 'chauffage au sol gaz'\n",
      " 'radiateur fuel collectif fuel ' 'fuel collectif ']\n"
     ]
    }
   ],
   "source": [
    "bienici[\"heating\"] = bienici[\"heating\"].str.lower()\n",
    "bienici[\"heating\"] = bienici[\"heating\"].fillna(\"\")\n",
    "bienici[\"heating\"] = bienici[\"heating\"].str.replace(\"é\", \"e\")\n",
    "print(bienici.heating.unique())"
   ]
  },
  {
   "cell_type": "code",
   "execution_count": 241,
   "metadata": {
    "collapsed": false
   },
   "outputs": [
    {
     "data": {
      "text/plain": [
       "unknown       3350\n",
       "collectif      552\n",
       "individuel     427\n",
       "Name: heating_sys, dtype: int64"
      ]
     },
     "execution_count": 241,
     "metadata": {},
     "output_type": "execute_result"
    }
   ],
   "source": [
    "def get_coll(system):\n",
    "    if re.compile(\"collectif\").match(system):\n",
    "        return \"collectif\"\n",
    "    elif re.compile(\"individuel\").match(system):\n",
    "        return \"individuel\"\n",
    "    else:\n",
    "        return \"unknown\"\n",
    "    \n",
    "bienici[\"heating_sys\"] = bienici[\"heating\"].apply(get_coll, 0)\n",
    "bienici[\"heating_sys\"].value_counts()"
   ]
  },
  {
   "cell_type": "code",
   "execution_count": 242,
   "metadata": {
    "collapsed": false
   },
   "outputs": [
    {
     "data": {
      "image/png": "[encoded data removed]",
      "text/plain": [
       "<matplotlib.figure.Figure at 0x11b387c88>"
      ]
     },
     "metadata": {},
     "output_type": "display_data"
    }
   ],
   "source": [
    "bienici[[\"heating_sys\", \"charges\"]].boxplot(by = \"heating_sys\")\n",
    "plt.show()"
   ]
  },
  {
   "cell_type": "markdown",
   "metadata": {
    "collapsed": true
   },
   "source": [
    "#### Collective heating system increases the charges. We now dive into the effect of the energy source:"
   ]
  },
  {
   "cell_type": "code",
   "execution_count": 243,
   "metadata": {
    "collapsed": false
   },
   "outputs": [
    {
     "data": {
      "text/plain": [
       "unknown        3603\n",
       "electricite     378\n",
       "gaz             321\n",
       "fuel             27\n",
       "Name: heating_source, dtype: int64"
      ]
     },
     "execution_count": 243,
     "metadata": {},
     "output_type": "execute_result"
    }
   ],
   "source": [
    "def get_source(system):\n",
    "    if re.compile(\"electricite\").match(system) or re.compile(\"electrique\").match(system):\n",
    "        return \"electricite\"\n",
    "    elif re.compile(\"gaz\").match(system):\n",
    "        return \"gaz\"\n",
    "    elif re.compile(\"fuel\").match(system) or re.compile(\"fioul\").match(system):\n",
    "        return \"fuel\"\n",
    "    else:\n",
    "        return \"unknown\"\n",
    "    \n",
    "bienici[\"heating_source\"] = bienici[\"heating\"].apply(get_source, 0)\n",
    "bienici[\"heating_source\"].value_counts()"
   ]
  },
  {
   "cell_type": "code",
   "execution_count": 244,
   "metadata": {
    "collapsed": false
   },
   "outputs": [
    {
     "data": {
      "image/png": "[encoded data removed]",
      "text/plain": [
       "<matplotlib.figure.Figure at 0x11b9f0668>"
      ]
     },
     "metadata": {},
     "output_type": "display_data"
    }
   ],
   "source": [
    "bienici[[\"heating_source\", \"charges\"]].boxplot(by = \"heating_source\")\n",
    "plt.show()"
   ]
  },
  {
   "cell_type": "markdown",
   "metadata": {},
   "source": [
    "#### Electricity based heating systems are way cheaper than the others. The fuel based ones tend to be more expensive."
   ]
  },
  {
   "cell_type": "code",
   "execution_count": 245,
   "metadata": {
    "collapsed": true
   },
   "outputs": [],
   "source": [
    "dataset = dataset.drop([\"heating\"], 1)\n",
    "dataset[\"heating_source\"] = bienici[\"heating_source\"] \n",
    "dataset[\"heating_sys\"] = bienici[\"heating_sys\"] "
   ]
  },
  {
   "cell_type": "markdown",
   "metadata": {},
   "source": [
    "### Checking the influence of the floor's number on the charges: "
   ]
  },
  {
   "cell_type": "code",
   "execution_count": 246,
   "metadata": {
    "collapsed": false
   },
   "outputs": [
    {
     "name": "stdout",
     "output_type": "stream",
     "text": [
      "['5e étage (sur 6)' '4e étage (sur 6)' nan '1er étage' 'Rez-de-chaussée'\n",
      " '4e étage' '5e étage' '2e étage' '2e étage (sur 6)' '3e étage (sur 5)'\n",
      " '6e étage' '3e étage' '3e étage (sur 4)' '1er étage (sur 6)'\n",
      " 'Dernier étage (sur 4)' '3e étage (sur 8)' '6 étages' '6e étage (sur 7)'\n",
      " 'Dernier étage (sur 3)' 'Dernier étage (sur 6)' '3e étage (sur 6)'\n",
      " '3e étage (sur 10)' '8e étage' '1er étage (sur 4)' '4e étage (sur 5)'\n",
      " 'Dernier étage (sur 1)' '4e étage (sur 7)' '1er étage (sur 2)' '40e étage'\n",
      " '2e étage (sur 7)' '5e étage (sur 10)' '4e étage (sur 10)' '7e étage'\n",
      " '4e étage (sur 8)' '4 étages' '10e étage' '1er étage (sur 10)' '5 étages'\n",
      " 'Dernier étage (sur 5)' '2e étage (sur 8)' '1er étage (sur 7)'\n",
      " 'Dernier étage (sur 11)' '1er étage (sur 13)' '6e étage (sur 9)'\n",
      " '11e étage' 'Dernier étage (sur 7)' '1er étage (sur 3)'\n",
      " '16e étage (sur 28)' '26e étage (sur 31)' '2e étage (sur 5)' '24e étage'\n",
      " '4e étage (sur 9)' '11e étage (sur 30)' '24e étage (sur 30)'\n",
      " '7e étage (sur 9)' '10e étage (sur 12)' '1 étage' '7e étage (sur 10)'\n",
      " '2 étages' '6e étage (sur 10)' '10 étages' '9e étage (sur 10)'\n",
      " 'Dernier étage (sur 10)' '3e étage (sur 7)' 'Dernier étage (sur 2)'\n",
      " '7 étages' '11e étage (sur 15)' '6e étage (sur 11)' '1er étage (sur 8)'\n",
      " '1er étage (sur 9)' '57e étage' '2e étage (sur 9)' '5e étage (sur 7)'\n",
      " '9e étage' '16e étage' '2e étage (sur 10)' '1er étage (sur 5)'\n",
      " '6e étage (sur 8)' '12e étage' '14e étage' '2e étage (sur 4)'\n",
      " '5e étage (sur 12)' '12 étages' '5e étage (sur 8)' '5e étage (sur 9)'\n",
      " 'Dernier étage (sur 8)' '2e étage (sur 3)' '10e étage (sur 14)'\n",
      " '8e étage (sur 10)' '9 étages' '3e étage (sur 9)' '8 étages'\n",
      " '4e étage (sur 11)' '8e étage (sur 11)' '13e étage'\n",
      " 'Dernier étage (sur 9)' '8e étage (sur 9)' '3 étages' '34e étage'\n",
      " '7e étage (sur 8)' '1er étage (sur 12)' '2e étage (sur 12)'\n",
      " '7e étage (sur 12)' '6e étage (sur 12)' '3e étage (sur 12)'\n",
      " '6e étage (sur 30)' '5e étage (sur 11)' '3e étage (sur 14)'\n",
      " '11e étage (sur 20)' '13e étage (sur 18)' '1er étage (sur 32)'\n",
      " '5e étage (sur 16)' '12e étage (sur 13)']\n"
     ]
    }
   ],
   "source": [
    "print(bienici.floor.unique())\n",
    "bienici[\"floor\"] = bienici[\"floor\"].fillna(\"\")\n",
    "bienici[\"floor\"] = bienici[\"floor\"].str.lower()"
   ]
  },
  {
   "cell_type": "code",
   "execution_count": 247,
   "metadata": {
    "collapsed": false
   },
   "outputs": [
    {
     "name": "stdout",
     "output_type": "stream",
     "text": [
      "unknown    1083\n",
      "1           580\n",
      "2           533\n",
      "3           525\n",
      "4           512\n",
      "5           425\n",
      "6           408\n",
      "7           130\n",
      "9            81\n",
      "8            52\n",
      "Name: floor, dtype: int64\n"
     ]
    }
   ],
   "source": [
    "def get_floor(floor):\n",
    "    if re.compile(\"^[0-9]+\").match(floor):\n",
    "        return min(9,int(re.search(r\"^[0-9]+\", floor).group(0)))\n",
    "    elif re.compile(\"^dernier\").match(floor):\n",
    "        return min(9, int(re.search(r\"[0-9]+\", floor).group(0)))\n",
    "\n",
    "    return \"unknown\"\n",
    "    \n",
    "bienici[\"floor\"] = bienici[\"floor\"].apply(get_floor, 0)\n",
    "print(bienici[\"floor\"].value_counts())"
   ]
  },
  {
   "cell_type": "code",
   "execution_count": 248,
   "metadata": {
    "collapsed": false
   },
   "outputs": [
    {
     "data": {
      "image/png": "[encoded data removed]",
      "text/plain": [
       "<matplotlib.figure.Figure at 0x118400a90>"
      ]
     },
     "metadata": {},
     "output_type": "display_data"
    }
   ],
   "source": [
    "bienici[[\"floor\", \"charges\"]].boxplot(by = \"floor\", showfliers = False)\n",
    "plt.show()"
   ]
  },
  {
   "cell_type": "markdown",
   "metadata": {},
   "source": [
    "#### The differences in charges are not that obvious. We drop this feature."
   ]
  },
  {
   "cell_type": "code",
   "execution_count": 249,
   "metadata": {
    "collapsed": true
   },
   "outputs": [],
   "source": [
    "dataset = dataset.drop([\"floor\"], 1)"
   ]
  },
  {
   "cell_type": "markdown",
   "metadata": {},
   "source": [
    "### Now, we look at the time the building was built. The two variables are not correlated."
   ]
  },
  {
   "cell_type": "code",
   "execution_count": 250,
   "metadata": {
    "collapsed": false
   },
   "outputs": [
    {
     "name": "stdout",
     "output_type": "stream",
     "text": [
      "                    charges  construction_year\n",
      "charges            1.000000          -0.023922\n",
      "construction_year -0.023922           1.000000\n"
     ]
    }
   ],
   "source": [
    "print(bienici[[\"charges\", \"construction_year\"]].corr())\n",
    "dataset = dataset.drop([\"construction_year\"], 1)"
   ]
  },
  {
   "cell_type": "markdown",
   "metadata": {},
   "source": [
    "### Check expo"
   ]
  },
  {
   "cell_type": "code",
   "execution_count": 251,
   "metadata": {
    "collapsed": false
   },
   "outputs": [
    {
     "data": {
      "text/plain": [
       "0                           Exposé Est \\n\\&\\\\n1 WC\\n\\&\\\\n\n",
       "1                           Exposé Est \\n\\&\\\\n1 WC\\n\\&\\\\n\n",
       "2                                                     NaN\n",
       "3                                                     NaN\n",
       "4       1 200 €\\n\\&\\\\n1 WC\\n\\&\\\\nDisponible le 1 décem...\n",
       "5       1 350 €\\n\\&\\\\nTerrasse\\n\\&\\\\n1 WC\\n\\&\\\\nDispon...\n",
       "6          1 195 €\\n\\&\\\\n1 terrasse\\n\\&\\\\n1 balcon\\n\\&\\\\n\n",
       "7                                                     NaN\n",
       "8       1 balcon\\n\\&\\\\nExposé Sud-Est\\n\\&\\\\n1 cave\\n\\&\\\\n\n",
       "9       910 €\\n\\&\\\\n1 balcon\\n\\&\\\\n1 WC\\n\\&\\\\nDigicode...\n",
       "10               1 060 €\\n\\&\\\\n1 WC\\n\\&\\\\nDigicode\\n\\&\\\\n\n",
       "11                                           720 €\\n\\&\\\\n\n",
       "12                                                    NaN\n",
       "13                                                    NaN\n",
       "14      1 cave\\n\\&\\\\nWC séparés\\n\\&\\\\nDigicode\\n\\&\\\\nI...\n",
       "15            1 WC\\n\\&\\\\nDigicode\\n\\&\\\\nInterphone\\n\\&\\\\n\n",
       "16                                            1 WC\\n\\&\\\\n\n",
       "17                                                    NaN\n",
       "18                                                    NaN\n",
       "19                                                    NaN\n",
       "20                                                    NaN\n",
       "21                                                    NaN\n",
       "22                                                    NaN\n",
       "23                                          1 cave\\n\\&\\\\n\n",
       "24                                                    NaN\n",
       "25                                      Interphone\\n\\&\\\\n\n",
       "26        1 WC\\n\\&\\\\nDisponible le 10 octobre 2016\\n\\&\\\\n\n",
       "27                                                    NaN\n",
       "28                                                    NaN\n",
       "29                                            1 WC\\n\\&\\\\n\n",
       "                              ...                        \n",
       "4309                                                  NaN\n",
       "4310    4 100 €\\n\\&\\\\nTerrasse\\n\\&\\\\n1 place de parkin...\n",
       "4311                                                  NaN\n",
       "4312                                                  NaN\n",
       "4313    1 200 €\\n\\&\\\\n1 WC\\n\\&\\\\nDisponible le 27 nove...\n",
       "4314                                                  NaN\n",
       "4315    1 WC\\n\\&\\\\nDisponible le 3 janvier 2017\\n\\&\\\\n...\n",
       "4316      1 WC\\n\\&\\\\nDisponible le 3 novembre 2016\\n\\&\\\\n\n",
       "4317                                          Cave\\n\\&\\\\n\n",
       "4318                                                  NaN\n",
       "4319    Exposé Sud\\n\\&\\\\n1 cave\\n\\&\\\\n1 WC\\n\\&\\\\nDigic...\n",
       "4320    1 WC\\n\\&\\\\nDisponible le 26 décembre 2016\\n\\&\\...\n",
       "4321                                         450 €\\n\\&\\\\n\n",
       "4322    1 100 €\\n\\&\\\\n1 WC\\n\\&\\\\nDisponible le 21 déce...\n",
       "4323    Cave\\n\\&\\\\n1 place de parking\\n\\&\\\\nInterphone...\n",
       "4324    2 200 €\\n\\&\\\\nTerrasse\\n\\&\\\\n1 WC\\n\\&\\\\nDispon...\n",
       "4325    1 200 €\\n\\&\\\\n1 WC\\n\\&\\\\nDisponible le 16 déce...\n",
       "4326           1 700 €\\n\\&\\\\n1 WC\\n\\&\\\\nInterphone\\n\\&\\\\n\n",
       "4327                                                  NaN\n",
       "4328                                                  NaN\n",
       "4329                                        Récent\\n\\&\\\\n\n",
       "4330                                    Interphone\\n\\&\\\\n\n",
       "4331                 1 400 €\\n\\&\\\\nCave\\n\\&\\\\n1 WC\\n\\&\\\\n\n",
       "4332    2 700 €\\n\\&\\\\nCave\\n\\&\\\\n1 WC\\n\\&\\\\nDisponible...\n",
       "4333    2 350 €\\n\\&\\\\n1 WC\\n\\&\\\\nDisponible le 27 octo...\n",
       "4334                         Cave\\n\\&\\\\nInterphone\\n\\&\\\\n\n",
       "4335    Cave\\n\\&\\\\n2 places de parking\\n\\&\\\\nInterphon...\n",
       "4336                            2 900 €\\n\\&\\\\n1 WC\\n\\&\\\\n\n",
       "4337                                                  NaN\n",
       "4338                                          Cave\\n\\&\\\\n\n",
       "Name: other_info, dtype: object"
      ]
     },
     "execution_count": 251,
     "metadata": {},
     "output_type": "execute_result"
    }
   ],
   "source": [
    "bienici.other_info"
   ]
  },
  {
   "cell_type": "code",
   "execution_count": 252,
   "metadata": {
    "collapsed": false
   },
   "outputs": [],
   "source": [
    "bienici[\"other_info\"] = bienici[\"other_info\"].fillna(\"\")\n",
    "bienici[\"other_info\"] = bienici[\"other_info\"].str.lower()"
   ]
  },
  {
   "cell_type": "code",
   "execution_count": 253,
   "metadata": {
    "collapsed": true
   },
   "outputs": [],
   "source": [
    "def get_expo(info):\n",
    "    regex = re.compile(\"exposé\\s[a-z]+-?[a-z]*\").match(info)\n",
    "    if regex:\n",
    "        return regex.group(0).replace(\"exposé \", \"\") \n",
    "    else:\n",
    "        return \"unknown\""
   ]
  },
  {
   "cell_type": "code",
   "execution_count": 254,
   "metadata": {
    "collapsed": false
   },
   "outputs": [],
   "source": [
    "bienici[\"expo\"] = bienici[\"other_info\"].apply(get_expo, 0)"
   ]
  },
  {
   "cell_type": "code",
   "execution_count": 255,
   "metadata": {
    "collapsed": false
   },
   "outputs": [
    {
     "data": {
      "text/plain": [
       "array(['est', 'unknown', 'sud', 'sud-est', 'ouest', 'nord', 'nord-ouest',\n",
       "       'traversant', 'sud-ouest', 'est-ouest', 'nord-est'], dtype=object)"
      ]
     },
     "execution_count": 255,
     "metadata": {},
     "output_type": "execute_result"
    }
   ],
   "source": [
    "bienici[\"expo\"].unique()"
   ]
  },
  {
   "cell_type": "code",
   "execution_count": 256,
   "metadata": {
    "collapsed": false
   },
   "outputs": [
    {
     "data": {
      "image/png": "[encoded data removed]",
      "text/plain": [
       "<matplotlib.figure.Figure at 0x11cd648d0>"
      ]
     },
     "metadata": {},
     "output_type": "display_data"
    }
   ],
   "source": [
    "bienici[[\"charges\", \"expo\"]].boxplot(by = \"expo\")\n",
    "plt.show()"
   ]
  },
  {
   "cell_type": "code",
   "execution_count": 257,
   "metadata": {
    "collapsed": false
   },
   "outputs": [
    {
     "data": {
      "text/plain": [
       "unknown       4164\n",
       "sud             64\n",
       "ouest           31\n",
       "est             25\n",
       "nord            13\n",
       "sud-est         11\n",
       "sud-ouest       11\n",
       "nord-est         5\n",
       "nord-ouest       2\n",
       "traversant       2\n",
       "est-ouest        1\n",
       "Name: expo, dtype: int64"
      ]
     },
     "execution_count": 257,
     "metadata": {},
     "output_type": "execute_result"
    }
   ],
   "source": [
    "bienici[\"expo\"].value_counts()"
   ]
  },
  {
   "cell_type": "markdown",
   "metadata": {},
   "source": [
    "#### Not enough informations about flat orientation. It's not interesting to take it into account."
   ]
  },
  {
   "cell_type": "code",
   "execution_count": 258,
   "metadata": {
    "collapsed": false
   },
   "outputs": [],
   "source": [
    "dataset = dataset.drop([\"other_info\"], 1)"
   ]
  },
  {
   "cell_type": "code",
   "execution_count": 259,
   "metadata": {
    "collapsed": false
   },
   "outputs": [
    {
     "data": {
      "text/plain": [
       "array([' - Grandes Carrières - Clichy', ' - Jules Joffrin',\n",
       "       'Paris 10e\\xa075010 - Grange aux Belles - Terrage',\n",
       "       'Paris 10e\\xa075010 - Porte Saint-Denis - Paradis',\n",
       "       \"Paris 10e\\xa075010 - Château d'Eau - Lancry\",\n",
       "       'Paris 10e\\xa075010 - Louis Blanc - Aqueduc', 'Paris 10e\\xa075010',\n",
       "       'Paris 10e\\xa075010 - Faubourg du Temple - Hôpital Saint-Louis',\n",
       "       'Paris 10e\\xa075010 - Saint-Vincent de Paul - Lariboisière',\n",
       "       'Paris 11e\\xa075011', 'Paris 11e\\xa075011 - Bastille - Popincourt',\n",
       "       'Paris 11e\\xa075011 - Belleville - Saint-Maur',\n",
       "       'Paris 11e\\xa075011 - Nation - Alexandre Dumas',\n",
       "       'Paris 11e\\xa075011 - Léon-Blum - Folie-Regnault',\n",
       "       'Paris 11e\\xa075011 - République - Saint-Ambroise',\n",
       "       'Paris 11e\\xa075011 - Les Halles',\n",
       "       'Paris 12e\\xa075012 - Bel-Air - Sud',\n",
       "       'Paris 12e\\xa075012 - Aligre - Gare de Lyon', 'Paris 12e\\xa075012',\n",
       "       'Paris 12e\\xa075012 - Vallée de Fecamp',\n",
       "       'Paris 12e\\xa075012 - Jardin de Reuilly',\n",
       "       'Paris 12e\\xa075012 - Nation - Picpus',\n",
       "       'Paris 12e\\xa075012 - Bel-Air - Nord', 'Paris 13e\\xa075013',\n",
       "       'Paris 13e\\xa075013 - Croulebarbe',\n",
       "       'Paris 13e\\xa075013 - Olympiades - Choisy',\n",
       "       'Paris 13e\\xa075013 - Bièvre Sud - Tolbiac',\n",
       "       \"Paris 13e\\xa075013 - Bibliothèque - Dunois - Jeanne d'Arc\",\n",
       "       'Paris 13e\\xa075013 - Salpétrière - Austerlitz',\n",
       "       'Paris 13e\\xa075013 - Butte-aux-Cailles',\n",
       "       'Paris 13e\\xa075013 - Patay - Masséna',\n",
       "       'Paris 13e\\xa075013 - Nationale - Deux Moulins',\n",
       "       'Paris 14e\\xa075014', 'Paris 14e\\xa075014 - Mouton - Duvernet',\n",
       "       'Paris 14e\\xa075014 - Montparnasse - Raspail',\n",
       "       \"Paris 14e\\xa075014 - Jean Moulin - Porte d'Orléans\",\n",
       "       'Paris 14e\\xa075014 - Pernety',\n",
       "       'Paris 14e\\xa075014 - Didot - Porte de Vanves',\n",
       "       'Paris 14e\\xa075014 - Montsouris - Dareau',\n",
       "       'Paris 15e\\xa075015 - Georges Brassens', 'Paris 15e\\xa075015',\n",
       "       'Paris 15e\\xa075015 - Dupleix - Motte Picquet',\n",
       "       'Paris 15e\\xa075015 - Vaugirard - Parc des Expositions',\n",
       "       'Paris 15e\\xa075015 - Cambronne - Garibaldi',\n",
       "       'Paris 15e\\xa075015 - Pasteur - Montparnasse',\n",
       "       'Paris 15e\\xa075015 - Violet - Commerce',\n",
       "       'Paris 15e\\xa075015 - Saint-Lambert - Convention',\n",
       "       'Paris 15e\\xa075015 - Emeriau - Zola',\n",
       "       'Paris 15e\\xa075015 - Alleray - Procession',\n",
       "       'Paris 15e\\xa075015 - Citroën - Boucicaut',\n",
       "       'Paris 16e\\xa075016 - Auteuil-Nord - Jasmin - Mirabeau',\n",
       "       'Paris 16e\\xa075016 - Passy - Maison de la Radio - Muette-Sud',\n",
       "       'Paris 16e\\xa075016', 'Paris 16e\\xa075116 - Chaillot',\n",
       "       'Paris 16e\\xa075016 - Chaillot',\n",
       "       'Paris 16e\\xa075016 - Porte de Saint-Cloud - Auteuil-Sud',\n",
       "       'Paris 16e\\xa075016 - Dauphine',\n",
       "       'Paris 16e\\xa075116 - Muette-Nord - Trocadéro',\n",
       "       'Paris 16e\\xa075116',\n",
       "       'Paris 16e\\xa075016 - Muette-Nord - Trocadéro',\n",
       "       'Paris 16e\\xa075116 - Dauphine',\n",
       "       'Paris 16e\\xa075116 - Passy - Maison de la Radio - Muette-Sud',\n",
       "       'Paris 16e\\xa075116 - Porte de Saint-Cloud - Auteuil-Sud',\n",
       "       'Paris 17e\\xa075017', 'Paris 17e\\xa075017 - Courcelles - Wagram',\n",
       "       'Paris 17e\\xa075017 - Champerret - Berthier',\n",
       "       'Paris 17e\\xa075017 - Legendre - Lévis',\n",
       "       'Paris 17e\\xa075017 - Ternes - Maillot',\n",
       "       'Paris 17e\\xa075017 - Pereire - Malesherbes',\n",
       "       'Paris 17e\\xa075017 - Batignolles - Cardinet',\n",
       "       'Paris 17e\\xa075017 - La Fourche - Guy Moquet',\n",
       "       'Paris 17e\\xa075017 - Epinettes - Bessières',\n",
       "       'Paris 18e\\xa075018 - Jules Joffrin',\n",
       "       'Paris 18e\\xa075018 - Grandes Carrières - Clichy',\n",
       "       \"Paris 18e\\xa075018 - Château Rouge - Barbès - Goutte d'Or\",\n",
       "       'Paris 18e\\xa075018 - Montmartre - Sacré Coeur',\n",
       "       'Paris 18e\\xa075018',\n",
       "       'Paris 18e\\xa075018 - La Chapelle - Marx Dormoy',\n",
       "       'Paris 18e\\xa075018 - Simplon - Amiraux - Poissonniers',\n",
       "       'Paris 18e\\xa075018 - Porte de Clignancourt - Porte Montmartre - Moskowa',\n",
       "       'Paris 19e\\xa075019 - Bas Belleville',\n",
       "       'Paris 19e\\xa075019 - Secrétan',\n",
       "       'Paris 19e\\xa075019 - Buttes Chaumont',\n",
       "       'Paris 19e\\xa075019 - Flandre - Aubervilliers',\n",
       "       'Paris 19e\\xa075019 - Bassin de la Villette',\n",
       "       'Paris 19e\\xa075019 - Danube',\n",
       "       'Paris 19e\\xa075019 - Pont de Flandre', 'Paris 19e\\xa075019',\n",
       "       'Paris 19e\\xa075019 - Manin - Jaurès',\n",
       "       'Paris 19e\\xa075019 - Place des Fêtes',\n",
       "       'Paris 19e\\xa075019 - Porte des Lilas',\n",
       "       'Paris 1er\\xa075001 - Les Halles',\n",
       "       'Paris 1er\\xa075001 - Palais Royal', 'Paris 1er\\xa075001 - Vendôme',\n",
       "       'Paris 1er\\xa075001',\n",
       "       \"Paris 1er\\xa075001 - Saint-Germain - L'Auxerrois\",\n",
       "       'Paris 20e\\xa075020',\n",
       "       'Paris 20e\\xa075020 - Père Lachaise - Réunion',\n",
       "       'Paris 20e\\xa075020 - Gambetta',\n",
       "       'Paris 20e\\xa075020 - Plaine - Lagny',\n",
       "       'Paris 20e\\xa075020 - Saint-Blaise',\n",
       "       'Paris 20e\\xa075020 - Télégraphe - Pelleport - Saint-Fargeau',\n",
       "       'Paris 20e\\xa075020 - Belleville',\n",
       "       'Paris 20e\\xa075020 - Ménilmontant - Amandiers',\n",
       "       'Paris 2e\\xa075002',\n",
       "       'Paris 2e\\xa075002 - Montorgueil - Saint-Denis',\n",
       "       'Paris 2e\\xa075002 - Sentier - Bonne Nouvelle',\n",
       "       'Paris 2e\\xa075002 - Gaillon - Vivienne', 'Paris 3e\\xa075003',\n",
       "       'Paris 3e\\xa075003 - Arts-et-Métiers',\n",
       "       'Paris 3e\\xa075003 - Sainte-Avoye', 'Paris 3e\\xa075003 - Archives',\n",
       "       'Paris 3e\\xa075003 - Enfants Rouges', 'Paris 4e\\xa075004',\n",
       "       'Paris 4e\\xa075004 - Les Halles', 'Paris 4e\\xa075004 - Arsenal',\n",
       "       'Paris 4e\\xa075004 - Saint-Gervais',\n",
       "       'Paris 4e\\xa075004 - Saint-Merri', 'Paris 4e\\xa075004 - Les Iles',\n",
       "       'Paris 5e\\xa075005 - Saint-Victor - Jussieu', 'Paris 5e\\xa075005',\n",
       "       'Paris 5e\\xa075005 - Jardin des Plantes',\n",
       "       'Paris 5e\\xa075005 - Val de Grâce', 'Paris 5e\\xa075005 - Sorbonne',\n",
       "       'Paris 6e\\xa075006 - Saint-Placide',\n",
       "       'Paris 6e\\xa075006 - Odéon - Mabillon', 'Paris 6e\\xa075006',\n",
       "       'Paris 6e\\xa075006 - Saint-Germain des Près',\n",
       "       'Paris 6e\\xa075006 - Rennes',\n",
       "       'Paris 6e\\xa075006 - Saint-Michel - Monnaie',\n",
       "       'Paris 6e\\xa075006 - Notre Dame des Champs', 'Paris 7e\\xa075007',\n",
       "       'Paris 7e\\xa075007 - Gros Caillou - Champ de Mars - Ecole Militaire',\n",
       "       'Paris 7e\\xa075007 - Invalides',\n",
       "       \"Paris 7e\\xa075007 - Saint-Thomas d'Aquin\",\n",
       "       'Paris 7e\\xa075007 - Breteuil',\n",
       "       'Paris 7e\\xa075007 - Cambronne - Garibaldi', 'Paris 8e\\xa075008',\n",
       "       'Paris 8e\\xa075008 - Saint-Philippe du Roule',\n",
       "       'Paris 8e\\xa075008 - Elysée - Madeleine',\n",
       "       'Paris 8e\\xa075008 - Hoche Friedland', 'Paris 8e\\xa075008 - Mairie',\n",
       "       'Paris 8e\\xa075008 - Monceau', \"Paris 8e\\xa075008 - Triangle d'Or\",\n",
       "       'Paris 8e\\xa075008 - Chaillot', 'Paris 8e\\xa075008 - Europe',\n",
       "       'Paris 8e\\xa075008 - Les Halles',\n",
       "       'Paris 9e\\xa075009 - Lafayette - Richer', 'Paris 9e\\xa075009',\n",
       "       'Paris 9e\\xa075009 - Clichy - Trinité',\n",
       "       'Paris 9e\\xa075009 - Lorette - Martyrs',\n",
       "       'Paris 9e\\xa075009 - Trudaine - Rochechouart',\n",
       "       'Paris 9e\\xa075009 - Provence Opéra',\n",
       "       'Paris 20e\\xa075020 - Bastille - Popincourt', 'Paris\\xa092240',\n",
       "       'Paris 13e\\xa075013 - Val de Grâce',\n",
       "       'Paris 13e\\xa075013 - Les Halles', 'Paris 12e\\xa075012 - Bercy',\n",
       "       'Paris 17e\\xa075017 - Terrain - Clichy - Batignolles',\n",
       "       'Paris 16e\\xa075116 - Auteuil-Nord - Jasmin - Mirabeau',\n",
       "       'Paris 4e\\xa075004 - Bastille - Popincourt'], dtype=object)"
      ]
     },
     "execution_count": 259,
     "metadata": {},
     "output_type": "execute_result"
    }
   ],
   "source": [
    "bienici.place.unique()"
   ]
  },
  {
   "cell_type": "code",
   "execution_count": 260,
   "metadata": {
    "collapsed": false
   },
   "outputs": [],
   "source": [
    "def get_district(place):\n",
    "    regex = re.compile(\"Paris\\s[0-9]+\").match(place)\n",
    "    if regex:\n",
    "        return regex.group(0)\n",
    "    else:\n",
    "        return \"unknown\"\n",
    "    \n",
    "    \n",
    "### Fonction pas à jour !!\n",
    "def get_quarter(place):\n",
    "    quarter = place.split(\"-\", 1)\n",
    "    if len(quarter) > 0:\n",
    "        return quarter[1]\n",
    "    else:\n",
    "        return \"unknown\"   "
   ]
  },
  {
   "cell_type": "code",
   "execution_count": 261,
   "metadata": {
    "collapsed": false
   },
   "outputs": [],
   "source": [
    "bienici[\"district\"] = bienici[\"place\"].apply(get_district, 0)\n"
   ]
  },
  {
   "cell_type": "code",
   "execution_count": null,
   "metadata": {
    "collapsed": false
   },
   "outputs": [],
   "source": []
  },
  {
   "cell_type": "code",
   "execution_count": 262,
   "metadata": {
    "collapsed": false
   },
   "outputs": [
    {
     "data": {
      "image/png": "[encoded data removed]",
      "text/plain": [
       "<matplotlib.figure.Figure at 0x11d406320>"
      ]
     },
     "metadata": {},
     "output_type": "display_data"
    }
   ],
   "source": [
    "bienici[[\"district\", \"charges\"]].boxplot(by = \"district\", showfliers = False)\n",
    "plt.show()"
   ]
  },
  {
   "cell_type": "markdown",
   "metadata": {},
   "source": [
    "#### Not enough observations by quarter. We drop it."
   ]
  },
  {
   "cell_type": "code",
   "execution_count": 263,
   "metadata": {
    "collapsed": false
   },
   "outputs": [],
   "source": [
    "dataset[\"district\"] = bienici[\"district\"]\n",
    "dataset = dataset.drop([\"url\", \"scraping_date\", \"title\", \"description\", \"number_pictures\", \"number_bathromms\", \"contact\",\n",
    "                       \"contact_address\", \"contact_rcs\", \"contact_type\", \"ref_annonce\", \"publication_date\", \"modification_date\",\n",
    "                        \"infos_quartier\", \"place\"], 1)"
   ]
  },
  {
   "cell_type": "code",
   "execution_count": 264,
   "metadata": {
    "collapsed": false
   },
   "outputs": [
    {
     "data": {
      "text/html": [
       "<div>\n",
       "<table border=\"1\" class=\"dataframe\">\n",
       "  <thead>\n",
       "    <tr style=\"text-align: right;\">\n",
       "      <th></th>\n",
       "      <th>charges</th>\n",
       "      <th>surface</th>\n",
       "      <th>furnished</th>\n",
       "      <th>lift</th>\n",
       "      <th>estimated_charges</th>\n",
       "      <th>gardien</th>\n",
       "      <th>heating_source</th>\n",
       "      <th>heating_sys</th>\n",
       "      <th>district</th>\n",
       "    </tr>\n",
       "  </thead>\n",
       "  <tbody>\n",
       "    <tr>\n",
       "      <th>0</th>\n",
       "      <td>70.0</td>\n",
       "      <td>36.0</td>\n",
       "      <td>Yes</td>\n",
       "      <td>NaN</td>\n",
       "      <td>103.50</td>\n",
       "      <td>False</td>\n",
       "      <td>gaz</td>\n",
       "      <td>unknown</td>\n",
       "      <td>unknown</td>\n",
       "    </tr>\n",
       "    <tr>\n",
       "      <th>1</th>\n",
       "      <td>70.0</td>\n",
       "      <td>36.0</td>\n",
       "      <td>Yes</td>\n",
       "      <td>NaN</td>\n",
       "      <td>103.50</td>\n",
       "      <td>False</td>\n",
       "      <td>gaz</td>\n",
       "      <td>unknown</td>\n",
       "      <td>unknown</td>\n",
       "    </tr>\n",
       "    <tr>\n",
       "      <th>2</th>\n",
       "      <td>165.0</td>\n",
       "      <td>85.0</td>\n",
       "      <td>No</td>\n",
       "      <td>NaN</td>\n",
       "      <td>194.85</td>\n",
       "      <td>False</td>\n",
       "      <td>unknown</td>\n",
       "      <td>unknown</td>\n",
       "      <td>unknown</td>\n",
       "    </tr>\n",
       "    <tr>\n",
       "      <th>3</th>\n",
       "      <td>105.0</td>\n",
       "      <td>31.0</td>\n",
       "      <td>No</td>\n",
       "      <td>NaN</td>\n",
       "      <td>83.70</td>\n",
       "      <td>False</td>\n",
       "      <td>unknown</td>\n",
       "      <td>collectif</td>\n",
       "      <td>Paris 10</td>\n",
       "    </tr>\n",
       "    <tr>\n",
       "      <th>4</th>\n",
       "      <td>NaN</td>\n",
       "      <td>35.0</td>\n",
       "      <td>Yes</td>\n",
       "      <td>NaN</td>\n",
       "      <td>108.00</td>\n",
       "      <td>False</td>\n",
       "      <td>unknown</td>\n",
       "      <td>individuel</td>\n",
       "      <td>Paris 10</td>\n",
       "    </tr>\n",
       "  </tbody>\n",
       "</table>\n",
       "</div>"
      ],
      "text/plain": [
       "   charges  surface furnished lift  estimated_charges gardien heating_source  \\\n",
       "0     70.0     36.0       Yes  NaN             103.50   False            gaz   \n",
       "1     70.0     36.0       Yes  NaN             103.50   False            gaz   \n",
       "2    165.0     85.0        No  NaN             194.85   False        unknown   \n",
       "3    105.0     31.0        No  NaN              83.70   False        unknown   \n",
       "4      NaN     35.0       Yes  NaN             108.00   False        unknown   \n",
       "\n",
       "  heating_sys  district  \n",
       "0     unknown   unknown  \n",
       "1     unknown   unknown  \n",
       "2     unknown   unknown  \n",
       "3   collectif  Paris 10  \n",
       "4  individuel  Paris 10  "
      ]
     },
     "execution_count": 264,
     "metadata": {},
     "output_type": "execute_result"
    }
   ],
   "source": [
    "dataset.head()"
   ]
  },
  {
   "cell_type": "code",
   "execution_count": 265,
   "metadata": {
    "collapsed": false
   },
   "outputs": [],
   "source": [
    "dataset = dataset.ix[np.abs(dataset.charges - dataset.charges.mean()) < 2.5*dataset.charges.std(), :]\n",
    "dataset[\"charges_log\"] = dataset[\"charges\"].apply(np.log, 0)\n",
    "dataset[\"estimate_log\"] = dataset[\"estimated_charges\"].apply(np.log, 0)\n",
    "dataset = dataset.drop([\"charges\", \"estimated_charges\"], 1)"
   ]
  },
  {
   "cell_type": "code",
   "execution_count": 266,
   "metadata": {
    "collapsed": false
   },
   "outputs": [
    {
     "data": {
      "text/html": [
       "<div>\n",
       "<table border=\"1\" class=\"dataframe\">\n",
       "  <thead>\n",
       "    <tr style=\"text-align: right;\">\n",
       "      <th></th>\n",
       "      <th>surface</th>\n",
       "      <th>furnished</th>\n",
       "      <th>lift</th>\n",
       "      <th>gardien</th>\n",
       "      <th>heating_source</th>\n",
       "      <th>heating_sys</th>\n",
       "      <th>district</th>\n",
       "      <th>charges_log</th>\n",
       "      <th>estimate_log</th>\n",
       "    </tr>\n",
       "  </thead>\n",
       "  <tbody>\n",
       "    <tr>\n",
       "      <th>0</th>\n",
       "      <td>36.0</td>\n",
       "      <td>Yes</td>\n",
       "      <td>NaN</td>\n",
       "      <td>False</td>\n",
       "      <td>gaz</td>\n",
       "      <td>unknown</td>\n",
       "      <td>unknown</td>\n",
       "      <td>4.248495</td>\n",
       "      <td>4.639572</td>\n",
       "    </tr>\n",
       "    <tr>\n",
       "      <th>1</th>\n",
       "      <td>36.0</td>\n",
       "      <td>Yes</td>\n",
       "      <td>NaN</td>\n",
       "      <td>False</td>\n",
       "      <td>gaz</td>\n",
       "      <td>unknown</td>\n",
       "      <td>unknown</td>\n",
       "      <td>4.248495</td>\n",
       "      <td>4.639572</td>\n",
       "    </tr>\n",
       "    <tr>\n",
       "      <th>2</th>\n",
       "      <td>85.0</td>\n",
       "      <td>No</td>\n",
       "      <td>NaN</td>\n",
       "      <td>False</td>\n",
       "      <td>unknown</td>\n",
       "      <td>unknown</td>\n",
       "      <td>unknown</td>\n",
       "      <td>5.105945</td>\n",
       "      <td>5.272230</td>\n",
       "    </tr>\n",
       "    <tr>\n",
       "      <th>3</th>\n",
       "      <td>31.0</td>\n",
       "      <td>No</td>\n",
       "      <td>NaN</td>\n",
       "      <td>False</td>\n",
       "      <td>unknown</td>\n",
       "      <td>collectif</td>\n",
       "      <td>Paris 10</td>\n",
       "      <td>4.653960</td>\n",
       "      <td>4.427239</td>\n",
       "    </tr>\n",
       "    <tr>\n",
       "      <th>7</th>\n",
       "      <td>28.0</td>\n",
       "      <td>No</td>\n",
       "      <td>NaN</td>\n",
       "      <td>False</td>\n",
       "      <td>unknown</td>\n",
       "      <td>unknown</td>\n",
       "      <td>Paris 10</td>\n",
       "      <td>4.744932</td>\n",
       "      <td>4.394449</td>\n",
       "    </tr>\n",
       "  </tbody>\n",
       "</table>\n",
       "</div>"
      ],
      "text/plain": [
       "   surface furnished lift gardien heating_source heating_sys  district  \\\n",
       "0     36.0       Yes  NaN   False            gaz     unknown   unknown   \n",
       "1     36.0       Yes  NaN   False            gaz     unknown   unknown   \n",
       "2     85.0        No  NaN   False        unknown     unknown   unknown   \n",
       "3     31.0        No  NaN   False        unknown   collectif  Paris 10   \n",
       "7     28.0        No  NaN   False        unknown     unknown  Paris 10   \n",
       "\n",
       "   charges_log  estimate_log  \n",
       "0     4.248495      4.639572  \n",
       "1     4.248495      4.639572  \n",
       "2     5.105945      5.272230  \n",
       "3     4.653960      4.427239  \n",
       "7     4.744932      4.394449  "
      ]
     },
     "execution_count": 266,
     "metadata": {},
     "output_type": "execute_result"
    }
   ],
   "source": [
    "dataset.head()"
   ]
  },
  {
   "cell_type": "code",
   "execution_count": 267,
   "metadata": {
    "collapsed": false
   },
   "outputs": [],
   "source": [
    "dataset = dataset.ix[dataset[\"charges_log\"].notnull(), :]\n",
    "dataset[\"lift\"] = dataset[\"lift\"].fillna(False)"
   ]
  },
  {
   "cell_type": "code",
   "execution_count": 268,
   "metadata": {
    "collapsed": false
   },
   "outputs": [],
   "source": [
    "dataset = dataset.dropna()\n",
    "dataset[[\"collectif\", \"individuel\"]] = pd.get_dummies(dataset[\"heating_sys\"]).drop([\"unknown\"], 1)\n",
    "dataset = dataset.drop([\"heating_sys\"], 1)"
   ]
  },
  {
   "cell_type": "code",
   "execution_count": 269,
   "metadata": {
    "collapsed": false
   },
   "outputs": [],
   "source": [
    "dataset = pd.concat([dataset, pd.get_dummies(dataset[\"district\"]).drop([\"unknown\"], 1)], 1)\n",
    "dataset = dataset.drop([\"district\"], 1)\n",
    "dataset = pd.concat([dataset, pd.get_dummies(dataset[\"heating_source\"]).drop([\"unknown\"],1)], 1).drop([\"heating_source\"], 1)"
   ]
  },
  {
   "cell_type": "code",
   "execution_count": 270,
   "metadata": {
    "collapsed": false
   },
   "outputs": [
    {
     "name": "stderr",
     "output_type": "stream",
     "text": [
      "/Users/gabrielducrocq/anaconda/lib/python3.5/site-packages/ipykernel/__main__.py:1: SettingWithCopyWarning: \n",
      "A value is trying to be set on a copy of a slice from a DataFrame\n",
      "\n",
      "See the caveats in the documentation: http://pandas.pydata.org/pandas-docs/stable/indexing.html#indexing-view-versus-copy\n",
      "  if __name__ == '__main__':\n",
      "/Users/gabrielducrocq/anaconda/lib/python3.5/site-packages/ipykernel/__main__.py:2: SettingWithCopyWarning: \n",
      "A value is trying to be set on a copy of a slice from a DataFrame\n",
      "\n",
      "See the caveats in the documentation: http://pandas.pydata.org/pandas-docs/stable/indexing.html#indexing-view-versus-copy\n",
      "  from ipykernel import kernelapp as app\n"
     ]
    }
   ],
   "source": [
    "dataset[\"furnished\"][dataset[\"furnished\"] == \"Yes\"] = 1\n",
    "dataset[\"furnished\"][dataset[\"furnished\"] == \"No\"] = 0"
   ]
  },
  {
   "cell_type": "code",
   "execution_count": 271,
   "metadata": {
    "collapsed": false
   },
   "outputs": [],
   "source": [
    "split = np.random.randint(1, 4, dataset.shape[0])\n",
    "Train = dataset.ix[split != 3, :]\n",
    "Test = dataset.ix[split == 3, :]"
   ]
  },
  {
   "cell_type": "code",
   "execution_count": 272,
   "metadata": {
    "collapsed": false
   },
   "outputs": [],
   "source": [
    "X_train = Train[[col for col in dataset.columns if col != \"charges_log\"]]\n",
    "Y_train = Train[[\"charges_log\"]]\n",
    "X_test = Test[[col for col in dataset.columns if col != \"charges_log\"]]\n",
    "Y_test = Test[[\"charges_log\"]]"
   ]
  },
  {
   "cell_type": "code",
   "execution_count": 273,
   "metadata": {
    "collapsed": false
   },
   "outputs": [
    {
     "name": "stderr",
     "output_type": "stream",
     "text": [
      "/Users/gabrielducrocq/anaconda/lib/python3.5/site-packages/ipykernel/__main__.py:2: DataConversionWarning: A column-vector y was passed when a 1d array was expected. Please change the shape of y to (n_samples,), for example using ravel().\n",
      "  from ipykernel import kernelapp as app\n"
     ]
    }
   ],
   "source": [
    "forest = RandomForestRegressor(n_estimators = 1000)\n",
    "forest.fit(X_train, Y_train)\n",
    "y_hat = forest.predict(X_test)"
   ]
  },
  {
   "cell_type": "code",
   "execution_count": 274,
   "metadata": {
    "collapsed": false
   },
   "outputs": [
    {
     "name": "stdout",
     "output_type": "stream",
     "text": [
      "34.26122057511717\n",
      "[  9.00394763  23.69696599  47.97251642  79.75295394]\n"
     ]
    }
   ],
   "source": [
    "errors = np.exp(Y_test.charges_log) - np.exp(y_hat)\n",
    "error_abs = np.abs(errors)\n",
    "print(np.mean(np.abs(np.exp(Y_test.charges_log) - np.exp(y_hat))))\n",
    "print(np.percentile((np.abs(np.exp(Y_test.charges_log) - np.exp(y_hat))), [25, 50, 75, 90]))"
   ]
  },
  {
   "cell_type": "code",
   "execution_count": 275,
   "metadata": {
    "collapsed": false
   },
   "outputs": [
    {
     "data": {
      "image/png": "[encoded data removed]",
      "text/plain": [
       "<matplotlib.figure.Figure at 0x11b4f82e8>"
      ]
     },
     "metadata": {},
     "output_type": "display_data"
    }
   ],
   "source": [
    "plt.plot(np.exp(y_hat), np.exp(Y_test.charges_log), \"o\")\n",
    "x = np.linspace(0, 500, 2)\n",
    "plt.plot(x, x)\n",
    "plt.show()"
   ]
  },
  {
   "cell_type": "code",
   "execution_count": 226,
   "metadata": {
    "collapsed": false
   },
   "outputs": [],
   "source": [
    "error_abs_u200 = error_abs[np.exp(Y_test.charges_log) < 200]"
   ]
  },
  {
   "cell_type": "code",
   "execution_count": 227,
   "metadata": {
    "collapsed": false
   },
   "outputs": [
    {
     "name": "stdout",
     "output_type": "stream",
     "text": [
      "28.96581562306324\n",
      "[  9.17672102  21.93779057  41.30410521  64.41889067]\n"
     ]
    }
   ],
   "source": [
    "print(np.mean(np.abs(error_abs_u200)))\n",
    "print(np.percentile(error_abs_u200, [25, 50, 75, 90]))"
   ]
  },
  {
   "cell_type": "code",
   "execution_count": 228,
   "metadata": {
    "collapsed": false
   },
   "outputs": [
    {
     "name": "stdout",
     "output_type": "stream",
     "text": [
      "61.909533687328064\n",
      "[  10.16472237   47.05459535   98.84492712  141.09838643]\n"
     ]
    }
   ],
   "source": [
    "error_abs_a200 = error_abs[np.exp(Y_test.charges_log) > 200]\n",
    "print(np.mean(np.abs(error_abs_a200)))\n",
    "print(np.percentile(error_abs_a200, [25, 50, 75, 90]))"
   ]
  },
  {
   "cell_type": "code",
   "execution_count": 229,
   "metadata": {
    "collapsed": false
   },
   "outputs": [
    {
     "name": "stderr",
     "output_type": "stream",
     "text": [
      "/Users/gabrielducrocq/anaconda/lib/python3.5/site-packages/ipykernel/__main__.py:10: DataConversionWarning: A column-vector y was passed when a 1d array was expected. Please change the shape of y to (n_samples,), for example using ravel().\n"
     ]
    }
   ],
   "source": [
    "u200 = dataset.ix[np.exp(dataset.charges_log) < 200, :]\n",
    "split = np.random.randint(1, 4, u200.shape[0])\n",
    "Train_u200 = u200.ix[split != 3, :]\n",
    "Test_u200 = u200.ix[split == 3, :]\n",
    "X_train = Train_u200[[col for col in u200.columns if col != \"charges_log\"]]\n",
    "Y_train = Train_u200[[\"charges_log\"]]\n",
    "X_test = Test_u200[[col for col in u200.columns if col != \"charges_log\"]]\n",
    "Y_test = Test_u200[[\"charges_log\"]]\n",
    "forest = RandomForestRegressor()\n",
    "forest.fit(X_train, Y_train)\n",
    "y_hat = forest.predict(X_test)"
   ]
  },
  {
   "cell_type": "code",
   "execution_count": 178,
   "metadata": {
    "collapsed": false
   },
   "outputs": [
    {
     "name": "stdout",
     "output_type": "stream",
     "text": [
      "25.309840067482508\n",
      "[  7.17135918  18.57656669  37.43708963  59.00294476]\n"
     ]
    }
   ],
   "source": [
    "errors = np.exp(Y_test.charges_log) - np.exp(y_hat)\n",
    "error_abs = np.abs(errors)\n",
    "print(np.mean(np.abs(np.exp(Y_test.charges_log) - np.exp(y_hat))))\n",
    "print(np.percentile((np.abs(np.exp(Y_test.charges_log) - np.exp(y_hat))), [25, 50, 75, 90]))"
   ]
  },
  {
   "cell_type": "markdown",
   "metadata": {
    "collapsed": false
   },
   "source": [
    "### Error of the global model in percentage:"
   ]
  },
  {
   "cell_type": "code",
   "execution_count": 276,
   "metadata": {
    "collapsed": false
   },
   "outputs": [
    {
     "name": "stdout",
     "output_type": "stream",
     "text": [
      "6.924386838408603\n",
      "[  1.94345917   5.18608204  10.07614348  15.67402487]\n"
     ]
    }
   ],
   "source": [
    "percent = error_abs/Y_test.charges_log\n",
    "print(np.mean(percent))\n",
    "print(np.percentile(percent, [25, 50, 75, 90]))"
   ]
  },
  {
   "cell_type": "code",
   "execution_count": 277,
   "metadata": {
    "collapsed": false
   },
   "outputs": [
    {
     "data": {
      "image/png": "[encoded data removed]",
      "text/plain": [
       "<matplotlib.figure.Figure at 0x11b782518>"
      ]
     },
     "metadata": {},
     "output_type": "display_data"
    }
   ],
   "source": [
    "plt.plot(np.exp(Y_test.charges_log), percent, \"o\")\n",
    "plt.show()"
   ]
  },
  {
   "cell_type": "code",
   "execution_count": null,
   "metadata": {
    "collapsed": false
   },
   "outputs": [],
   "source": []
  },
  {
   "cell_type": "code",
   "execution_count": null,
   "metadata": {
    "collapsed": false
   },
   "outputs": [],
   "source": []
  },
  {
   "cell_type": "code",
   "execution_count": null,
   "metadata": {
    "collapsed": false,
    "scrolled": true
   },
   "outputs": [],
   "source": []
  },
  {
   "cell_type": "code",
   "execution_count": null,
   "metadata": {
    "collapsed": false
   },
   "outputs": [],
   "source": []
  },
  {
   "cell_type": "code",
   "execution_count": null,
   "metadata": {
    "collapsed": false
   },
   "outputs": [],
   "source": []
  },
  {
   "cell_type": "code",
   "execution_count": null,
   "metadata": {
    "collapsed": false
   },
   "outputs": [],
   "source": []
  },
  {
   "cell_type": "code",
   "execution_count": null,
   "metadata": {
    "collapsed": false
   },
   "outputs": [],
   "source": []
  },
  {
   "cell_type": "code",
   "execution_count": null,
   "metadata": {
    "collapsed": false
   },
   "outputs": [],
   "source": []
  },
  {
   "cell_type": "code",
   "execution_count": null,
   "metadata": {
    "collapsed": false
   },
   "outputs": [],
   "source": []
  },
  {
   "cell_type": "code",
   "execution_count": null,
   "metadata": {
    "collapsed": false
   },
   "outputs": [],
   "source": []
  },
  {
   "cell_type": "code",
   "execution_count": null,
   "metadata": {
    "collapsed": false
   },
   "outputs": [],
   "source": []
  },
  {
   "cell_type": "code",
   "execution_count": null,
   "metadata": {
    "collapsed": false
   },
   "outputs": [],
   "source": []
  },
  {
   "cell_type": "code",
   "execution_count": null,
   "metadata": {
    "collapsed": true
   },
   "outputs": [],
   "source": []
  }
 ],
 "metadata": {
  "anaconda-cloud": {},
  "kernelspec": {
   "display_name": "Python [Root]",
   "language": "python",
   "name": "Python [Root]"
  },
  "language_info": {
   "codemirror_mode": {
    "name": "ipython",
    "version": 3
   },
   "file_extension": ".py",
   "mimetype": "text/x-python",
   "name": "python",
   "nbconvert_exporter": "python",
   "pygments_lexer": "ipython3",
   "version": "3.5.2"
  }
 },
 "nbformat": 4,
 "nbformat_minor": 0
}
