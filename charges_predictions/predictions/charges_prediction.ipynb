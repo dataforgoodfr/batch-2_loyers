{
 "cells": [
  {
   "cell_type": "code",
   "execution_count": 1,
   "metadata": {
    "collapsed": true
   },
   "outputs": [],
   "source": [
    "import numpy as np\n",
    "import pandas as pd\n",
    "import numpy as np\n",
    "import matplotlib.pyplot as plt\n",
    "import re\n",
    "import sklearn\n",
    "from sklearn import preprocessing, svm\n",
    "from sklearn.decomposition import PCA\n",
    "from sklearn.model_selection import GridSearchCV, ShuffleSplit\n",
    "import datetime"
   ]
  },
  {
   "cell_type": "markdown",
   "metadata": {},
   "source": [
    "# Data analysis and features creation"
   ]
  },
  {
   "cell_type": "code",
   "execution_count": 2,
   "metadata": {
    "collapsed": false
   },
   "outputs": [
    {
     "data": {
      "text/plain": [
       "(7014, 26)"
      ]
     },
     "execution_count": 2,
     "metadata": {},
     "output_type": "execute_result"
    }
   ],
   "source": [
    "missing = ['','NaN']\n",
    "bienici = pd.read_csv(\"../data_base_creation/results/scraping_bienici.csv\", na_values = missing)\n",
    "np.shape(bienici)"
   ]
  },
  {
   "cell_type": "code",
   "execution_count": 3,
   "metadata": {
    "collapsed": false
   },
   "outputs": [
    {
     "data": {
      "text/html": [
       "<div>\n",
       "<table border=\"1\" class=\"dataframe\">\n",
       "  <thead>\n",
       "    <tr style=\"text-align: right;\">\n",
       "      <th></th>\n",
       "      <th>url</th>\n",
       "      <th>scraping_date</th>\n",
       "      <th>title</th>\n",
       "      <th>price</th>\n",
       "      <th>charges</th>\n",
       "      <th>place</th>\n",
       "      <th>surface</th>\n",
       "      <th>construction_year</th>\n",
       "      <th>description</th>\n",
       "      <th>number_pictures</th>\n",
       "      <th>...</th>\n",
       "      <th>lift</th>\n",
       "      <th>contact</th>\n",
       "      <th>contact_address</th>\n",
       "      <th>contact_rcs</th>\n",
       "      <th>contact_type</th>\n",
       "      <th>ref_annonce</th>\n",
       "      <th>publication_date</th>\n",
       "      <th>modification_date</th>\n",
       "      <th>infos_quartier</th>\n",
       "      <th>other_info</th>\n",
       "    </tr>\n",
       "  </thead>\n",
       "  <tbody>\n",
       "    <tr>\n",
       "      <th>0</th>\n",
       "      <td>https://www.bienici.com/annonce/location//appa...</td>\n",
       "      <td>2016-10-09@00:30</td>\n",
       "      <td>Appartement 2 pièces 36 m²</td>\n",
       "      <td>1150.0</td>\n",
       "      <td>70.0</td>\n",
       "      <td>- Grandes Carrières - Clichy</td>\n",
       "      <td>36.0</td>\n",
       "      <td>NaN</td>\n",
       "      <td>Description HTML_format -- Haut Rue Damr&amp;eacut...</td>\n",
       "      <td>6</td>\n",
       "      <td>...</td>\n",
       "      <td>NaN</td>\n",
       "      <td>Acopa Damrémont</td>\n",
       "      <td>19 Rue Damrémont - 75018 Paris</td>\n",
       "      <td>RCS : 512097031</td>\n",
       "      <td>Agence</td>\n",
       "      <td>3987</td>\n",
       "      <td>5 oct. 2016</td>\n",
       "      <td>NaN</td>\n",
       "      <td>&lt;span&gt;&lt;a href=\"/decouvrez/paris/paris-18e/gran...</td>\n",
       "      <td>Exposé Est \\n\\&amp;\\\\n1 WC\\n\\&amp;\\\\n</td>\n",
       "    </tr>\n",
       "    <tr>\n",
       "      <th>1</th>\n",
       "      <td>https://www.bienici.com/annonce/location//appa...</td>\n",
       "      <td>2016-10-09@00:30</td>\n",
       "      <td>Appartement 2 pièces 36 m²</td>\n",
       "      <td>1150.0</td>\n",
       "      <td>70.0</td>\n",
       "      <td>- Grandes Carrières - Clichy</td>\n",
       "      <td>36.0</td>\n",
       "      <td>NaN</td>\n",
       "      <td>Description HTML_format -- Haut Rue Damr&amp;eacut...</td>\n",
       "      <td>6</td>\n",
       "      <td>...</td>\n",
       "      <td>NaN</td>\n",
       "      <td>Acopa Damrémont</td>\n",
       "      <td>19 Rue Damrémont - 75018 Paris</td>\n",
       "      <td>RCS : 512097031</td>\n",
       "      <td>Agence</td>\n",
       "      <td>3989</td>\n",
       "      <td>6 oct. 2016</td>\n",
       "      <td>NaN</td>\n",
       "      <td>&lt;span&gt;&lt;a href=\"/decouvrez/paris/paris-18e/gran...</td>\n",
       "      <td>Exposé Est \\n\\&amp;\\\\n1 WC\\n\\&amp;\\\\n</td>\n",
       "    </tr>\n",
       "    <tr>\n",
       "      <th>2</th>\n",
       "      <td>https://www.bienici.com/annonce/location//appa...</td>\n",
       "      <td>2016-10-09@00:30</td>\n",
       "      <td>Appartement 3 pièces 85 m²</td>\n",
       "      <td>2165.0</td>\n",
       "      <td>165.0</td>\n",
       "      <td>- Jules Joffrin</td>\n",
       "      <td>85.0</td>\n",
       "      <td>NaN</td>\n",
       "      <td>Description HTML_format -- Appartement 3/4 pi&amp;...</td>\n",
       "      <td>11</td>\n",
       "      <td>...</td>\n",
       "      <td>NaN</td>\n",
       "      <td>Acopa Immobilière Marcadet</td>\n",
       "      <td>77 Bd Barbes - 75018 Paris</td>\n",
       "      <td>RCS : 70305443384</td>\n",
       "      <td>Agence</td>\n",
       "      <td>3956</td>\n",
       "      <td>16 sept. 2016</td>\n",
       "      <td>NaN</td>\n",
       "      <td>&lt;span&gt;&lt;a href=\"/decouvrez/paris/paris-18e/jule...</td>\n",
       "      <td>NaN</td>\n",
       "    </tr>\n",
       "  </tbody>\n",
       "</table>\n",
       "<p>3 rows × 26 columns</p>\n",
       "</div>"
      ],
      "text/plain": [
       "                                                 url     scraping_date  \\\n",
       "0  https://www.bienici.com/annonce/location//appa...  2016-10-09@00:30   \n",
       "1  https://www.bienici.com/annonce/location//appa...  2016-10-09@00:30   \n",
       "2  https://www.bienici.com/annonce/location//appa...  2016-10-09@00:30   \n",
       "\n",
       "                        title   price  charges                          place  \\\n",
       "0  Appartement 2 pièces 36 m²  1150.0     70.0   - Grandes Carrières - Clichy   \n",
       "1  Appartement 2 pièces 36 m²  1150.0     70.0   - Grandes Carrières - Clichy   \n",
       "2  Appartement 3 pièces 85 m²  2165.0    165.0                - Jules Joffrin   \n",
       "\n",
       "   surface  construction_year  \\\n",
       "0     36.0                NaN   \n",
       "1     36.0                NaN   \n",
       "2     85.0                NaN   \n",
       "\n",
       "                                         description  number_pictures  \\\n",
       "0  Description HTML_format -- Haut Rue Damr&eacut...                6   \n",
       "1  Description HTML_format -- Haut Rue Damr&eacut...                6   \n",
       "2  Description HTML_format -- Appartement 3/4 pi&...               11   \n",
       "\n",
       "               ...               lift                     contact  \\\n",
       "0              ...                NaN             Acopa Damrémont   \n",
       "1              ...                NaN             Acopa Damrémont   \n",
       "2              ...                NaN  Acopa Immobilière Marcadet   \n",
       "\n",
       "                  contact_address        contact_rcs contact_type ref_annonce  \\\n",
       "0  19 Rue Damrémont - 75018 Paris    RCS : 512097031       Agence        3987   \n",
       "1  19 Rue Damrémont - 75018 Paris    RCS : 512097031       Agence        3989   \n",
       "2      77 Bd Barbes - 75018 Paris  RCS : 70305443384       Agence        3956   \n",
       "\n",
       "  publication_date modification_date  \\\n",
       "0      5 oct. 2016               NaN   \n",
       "1      6 oct. 2016               NaN   \n",
       "2    16 sept. 2016               NaN   \n",
       "\n",
       "                                      infos_quartier  \\\n",
       "0  <span><a href=\"/decouvrez/paris/paris-18e/gran...   \n",
       "1  <span><a href=\"/decouvrez/paris/paris-18e/gran...   \n",
       "2  <span><a href=\"/decouvrez/paris/paris-18e/jule...   \n",
       "\n",
       "                      other_info  \n",
       "0  Exposé Est \\n\\&\\\\n1 WC\\n\\&\\\\n  \n",
       "1  Exposé Est \\n\\&\\\\n1 WC\\n\\&\\\\n  \n",
       "2                            NaN  \n",
       "\n",
       "[3 rows x 26 columns]"
      ]
     },
     "execution_count": 3,
     "metadata": {},
     "output_type": "execute_result"
    }
   ],
   "source": [
    "bienici.head(3)"
   ]
  },
  {
   "cell_type": "code",
   "execution_count": 4,
   "metadata": {
    "collapsed": false
   },
   "outputs": [
    {
     "data": {
      "text/plain": [
       "Index(['url', 'scraping_date', 'title', 'price', 'charges', 'place', 'surface',\n",
       "       'construction_year', 'description', 'number_pictures', 'furnished',\n",
       "       'number_rooms', 'number_bedrooms', 'number_bathromms', 'floor',\n",
       "       'heating', 'lift', 'contact', 'contact_address', 'contact_rcs',\n",
       "       'contact_type', 'ref_annonce', 'publication_date', 'modification_date',\n",
       "       'infos_quartier', 'other_info'],\n",
       "      dtype='object')"
      ]
     },
     "execution_count": 4,
     "metadata": {},
     "output_type": "execute_result"
    }
   ],
   "source": [
    "bienici.columns"
   ]
  },
  {
   "cell_type": "code",
   "execution_count": 5,
   "metadata": {
    "collapsed": true
   },
   "outputs": [],
   "source": [
    "infos_quartiers = bienici[\"infos_quartier\"].copy()"
   ]
  },
  {
   "cell_type": "code",
   "execution_count": 6,
   "metadata": {
    "collapsed": false
   },
   "outputs": [],
   "source": [
    "# Remove useless columns\n",
    "# I do not keep modification dates, because this feature is not available, in other sites\n",
    "bienici = bienici[['price', 'charges', 'place', 'surface',\n",
    "       'construction_year', 'description', 'number_pictures', 'furnished',\n",
    "       'number_rooms', 'number_bedrooms', 'number_bathromms', 'floor',\n",
    "       'heating', 'lift', 'publication_date',\n",
    "       'infos_quartier', 'other_info']]"
   ]
  },
  {
   "cell_type": "code",
   "execution_count": 7,
   "metadata": {
    "collapsed": false
   },
   "outputs": [
    {
     "data": {
      "text/plain": [
       "(7014, 17)"
      ]
     },
     "execution_count": 7,
     "metadata": {},
     "output_type": "execute_result"
    }
   ],
   "source": [
    "np.shape(bienici)"
   ]
  },
  {
   "cell_type": "code",
   "execution_count": 8,
   "metadata": {
    "collapsed": false
   },
   "outputs": [
    {
     "data": {
      "text/html": [
       "<div>\n",
       "<table border=\"1\" class=\"dataframe\">\n",
       "  <thead>\n",
       "    <tr style=\"text-align: right;\">\n",
       "      <th></th>\n",
       "      <th>price</th>\n",
       "      <th>charges</th>\n",
       "      <th>place</th>\n",
       "      <th>surface</th>\n",
       "      <th>construction_year</th>\n",
       "      <th>description</th>\n",
       "      <th>number_pictures</th>\n",
       "      <th>furnished</th>\n",
       "      <th>number_rooms</th>\n",
       "      <th>number_bedrooms</th>\n",
       "      <th>number_bathromms</th>\n",
       "      <th>floor</th>\n",
       "      <th>heating</th>\n",
       "      <th>lift</th>\n",
       "      <th>publication_date</th>\n",
       "      <th>infos_quartier</th>\n",
       "      <th>other_info</th>\n",
       "    </tr>\n",
       "  </thead>\n",
       "  <tbody>\n",
       "    <tr>\n",
       "      <th>0</th>\n",
       "      <td>1150.0</td>\n",
       "      <td>70.0</td>\n",
       "      <td>- Grandes Carrières - Clichy</td>\n",
       "      <td>36.0</td>\n",
       "      <td>NaN</td>\n",
       "      <td>Description HTML_format -- Haut Rue Damr&amp;eacut...</td>\n",
       "      <td>6</td>\n",
       "      <td>Yes</td>\n",
       "      <td>2.0</td>\n",
       "      <td>1.0</td>\n",
       "      <td>1.0</td>\n",
       "      <td>5e étage (sur 6)</td>\n",
       "      <td>gaz individuel</td>\n",
       "      <td>NaN</td>\n",
       "      <td>5 oct. 2016</td>\n",
       "      <td>&lt;span&gt;&lt;a href=\"/decouvrez/paris/paris-18e/gran...</td>\n",
       "      <td>Exposé Est \\n\\&amp;\\\\n1 WC\\n\\&amp;\\\\n</td>\n",
       "    </tr>\n",
       "    <tr>\n",
       "      <th>1</th>\n",
       "      <td>1150.0</td>\n",
       "      <td>70.0</td>\n",
       "      <td>- Grandes Carrières - Clichy</td>\n",
       "      <td>36.0</td>\n",
       "      <td>NaN</td>\n",
       "      <td>Description HTML_format -- Haut Rue Damr&amp;eacut...</td>\n",
       "      <td>6</td>\n",
       "      <td>Yes</td>\n",
       "      <td>2.0</td>\n",
       "      <td>1.0</td>\n",
       "      <td>1.0</td>\n",
       "      <td>5e étage (sur 6)</td>\n",
       "      <td>gaz individuel</td>\n",
       "      <td>NaN</td>\n",
       "      <td>6 oct. 2016</td>\n",
       "      <td>&lt;span&gt;&lt;a href=\"/decouvrez/paris/paris-18e/gran...</td>\n",
       "      <td>Exposé Est \\n\\&amp;\\\\n1 WC\\n\\&amp;\\\\n</td>\n",
       "    </tr>\n",
       "    <tr>\n",
       "      <th>2</th>\n",
       "      <td>2165.0</td>\n",
       "      <td>165.0</td>\n",
       "      <td>- Jules Joffrin</td>\n",
       "      <td>85.0</td>\n",
       "      <td>NaN</td>\n",
       "      <td>Description HTML_format -- Appartement 3/4 pi&amp;...</td>\n",
       "      <td>11</td>\n",
       "      <td>No</td>\n",
       "      <td>3.0</td>\n",
       "      <td>2.0</td>\n",
       "      <td>NaN</td>\n",
       "      <td>4e étage (sur 6)</td>\n",
       "      <td>NaN</td>\n",
       "      <td>NaN</td>\n",
       "      <td>16 sept. 2016</td>\n",
       "      <td>&lt;span&gt;&lt;a href=\"/decouvrez/paris/paris-18e/jule...</td>\n",
       "      <td>NaN</td>\n",
       "    </tr>\n",
       "    <tr>\n",
       "      <th>3</th>\n",
       "      <td>930.0</td>\n",
       "      <td>105.0</td>\n",
       "      <td>Paris 10e 75010 - Grange aux Belles - Terrage</td>\n",
       "      <td>31.0</td>\n",
       "      <td>NaN</td>\n",
       "      <td>République - Studio de 31 m². M° République, à...</td>\n",
       "      <td>5</td>\n",
       "      <td>No</td>\n",
       "      <td>1.0</td>\n",
       "      <td>1.0</td>\n",
       "      <td>NaN</td>\n",
       "      <td>NaN</td>\n",
       "      <td>collectif</td>\n",
       "      <td>NaN</td>\n",
       "      <td>7 oct. 2016</td>\n",
       "      <td>&lt;span&gt;&lt;a href=\"/decouvrez/paris/paris-10e/gran...</td>\n",
       "      <td>NaN</td>\n",
       "    </tr>\n",
       "    <tr>\n",
       "      <th>4</th>\n",
       "      <td>1200.0</td>\n",
       "      <td>NaN</td>\n",
       "      <td>Paris 10e 75010 - Porte Saint-Denis - Paradis</td>\n",
       "      <td>35.0</td>\n",
       "      <td>1700.0</td>\n",
       "      <td>REF. 5069 - Studio meublé d'environ 35 m², sit...</td>\n",
       "      <td>12</td>\n",
       "      <td>Yes</td>\n",
       "      <td>1.0</td>\n",
       "      <td>NaN</td>\n",
       "      <td>1.0</td>\n",
       "      <td>1er étage</td>\n",
       "      <td>individuel</td>\n",
       "      <td>NaN</td>\n",
       "      <td>22 sept. 2016</td>\n",
       "      <td>&lt;span&gt;&lt;a href=\"/decouvrez/paris/paris-10e/port...</td>\n",
       "      <td>1 200 €\\n\\&amp;\\\\n1 WC\\n\\&amp;\\\\nDisponible le 1 décem...</td>\n",
       "    </tr>\n",
       "  </tbody>\n",
       "</table>\n",
       "</div>"
      ],
      "text/plain": [
       "    price  charges                                          place  surface  \\\n",
       "0  1150.0     70.0                   - Grandes Carrières - Clichy     36.0   \n",
       "1  1150.0     70.0                   - Grandes Carrières - Clichy     36.0   \n",
       "2  2165.0    165.0                                - Jules Joffrin     85.0   \n",
       "3   930.0    105.0  Paris 10e 75010 - Grange aux Belles - Terrage     31.0   \n",
       "4  1200.0      NaN  Paris 10e 75010 - Porte Saint-Denis - Paradis     35.0   \n",
       "\n",
       "   construction_year                                        description  \\\n",
       "0                NaN  Description HTML_format -- Haut Rue Damr&eacut...   \n",
       "1                NaN  Description HTML_format -- Haut Rue Damr&eacut...   \n",
       "2                NaN  Description HTML_format -- Appartement 3/4 pi&...   \n",
       "3                NaN  République - Studio de 31 m². M° République, à...   \n",
       "4             1700.0  REF. 5069 - Studio meublé d'environ 35 m², sit...   \n",
       "\n",
       "   number_pictures furnished  number_rooms  number_bedrooms  number_bathromms  \\\n",
       "0                6       Yes           2.0              1.0               1.0   \n",
       "1                6       Yes           2.0              1.0               1.0   \n",
       "2               11        No           3.0              2.0               NaN   \n",
       "3                5        No           1.0              1.0               NaN   \n",
       "4               12       Yes           1.0              NaN               1.0   \n",
       "\n",
       "              floor          heating lift publication_date  \\\n",
       "0  5e étage (sur 6)  gaz individuel   NaN      5 oct. 2016   \n",
       "1  5e étage (sur 6)  gaz individuel   NaN      6 oct. 2016   \n",
       "2  4e étage (sur 6)              NaN  NaN    16 sept. 2016   \n",
       "3               NaN        collectif  NaN      7 oct. 2016   \n",
       "4         1er étage       individuel  NaN    22 sept. 2016   \n",
       "\n",
       "                                      infos_quartier  \\\n",
       "0  <span><a href=\"/decouvrez/paris/paris-18e/gran...   \n",
       "1  <span><a href=\"/decouvrez/paris/paris-18e/gran...   \n",
       "2  <span><a href=\"/decouvrez/paris/paris-18e/jule...   \n",
       "3  <span><a href=\"/decouvrez/paris/paris-10e/gran...   \n",
       "4  <span><a href=\"/decouvrez/paris/paris-10e/port...   \n",
       "\n",
       "                                          other_info  \n",
       "0                      Exposé Est \\n\\&\\\\n1 WC\\n\\&\\\\n  \n",
       "1                      Exposé Est \\n\\&\\\\n1 WC\\n\\&\\\\n  \n",
       "2                                                NaN  \n",
       "3                                                NaN  \n",
       "4  1 200 €\\n\\&\\\\n1 WC\\n\\&\\\\nDisponible le 1 décem...  "
      ]
     },
     "execution_count": 8,
     "metadata": {},
     "output_type": "execute_result"
    }
   ],
   "source": [
    "bienici.head(5)"
   ]
  },
  {
   "cell_type": "markdown",
   "metadata": {},
   "source": [
    "### Outliers"
   ]
  },
  {
   "cell_type": "code",
   "execution_count": 9,
   "metadata": {
    "collapsed": false
   },
   "outputs": [
    {
     "data": {
      "image/png": "[encoded data removed]",
      "text/plain": [
       "<matplotlib.figure.Figure at 0x7f5ad9bc2a58>"
      ]
     },
     "metadata": {},
     "output_type": "display_data"
    }
   ],
   "source": [
    "bienici['charges'].hist()\n",
    "plt.show()"
   ]
  },
  {
   "cell_type": "code",
   "execution_count": 10,
   "metadata": {
    "collapsed": false
   },
   "outputs": [
    {
     "name": "stdout",
     "output_type": "stream",
     "text": [
      "5528\n"
     ]
    },
    {
     "data": {
      "image/png": "[encoded data removed]",
      "text/plain": [
       "<matplotlib.figure.Figure at 0x7f5ad9bc2eb8>"
      ]
     },
     "metadata": {},
     "output_type": "display_data"
    }
   ],
   "source": [
    "# Remove ads with charges > max_charge €/month\n",
    "max_charge = 800\n",
    "position_keep_charges = bienici[\"charges\"] <= max_charge\n",
    "bienici = bienici.ix[position_keep_charges,:]\n",
    "print(len(bienici))\n",
    "\n",
    "bienici['charges'].hist()\n",
    "plt.show()"
   ]
  },
  {
   "cell_type": "markdown",
   "metadata": {},
   "source": [
    "### DESCRIPTION cleaning"
   ]
  },
  {
   "cell_type": "code",
   "execution_count": 11,
   "metadata": {
    "collapsed": false,
    "scrolled": true
   },
   "outputs": [],
   "source": [
    "descriptions = np.asarray(bienici[\"description\"])\n",
    "def clear_description(descr):\n",
    "    descr = descr.replace(\"&eacute;\", \"é\")\n",
    "    descr = descr.replace(\"&Eacute;\", \"É\")\n",
    "    descr = descr.replace(\"&egrave;\", \"è\")\n",
    "    descr = descr.replace(\"&Egrave;\", \"È\")\n",
    "    descr = descr.replace(\"&sup2;\", \"²\")\n",
    "    descr = descr.replace(\"&agrave;\", \"à\")\n",
    "    descr = descr.replace(\"&ccedil;\", \"ç\")\n",
    "    descr = descr.replace(\"&ucirc;\", \"û\")\n",
    "    descr = descr.replace(\"&Ucirc;\", \"Û\")\n",
    "    descr = descr.replace(\"&acirc;\", \"â\")\n",
    "    descr = descr.replace(\"&Acirc;\", \"Â\")\n",
    "    descr = descr.replace(\"&ecirc;\", \"ê\")\n",
    "    descr = descr.replace(\"&Ecirc;\", \"Ê\")\n",
    "    descr = descr.replace(\"&ocirc;\", \"ô\")\n",
    "    descr = descr.replace(\"&Ocirc;\", \"Ô\")\n",
    "    descr = descr.replace(\"&icirc;\", \"î\")\n",
    "    descr = descr.replace(\"&Icirc;\", \"Î\")\n",
    "    descr = descr.replace(\"&nbsp;\", \" \")\n",
    "    descr = descr.replace(\"&euro;\", \"€\")\n",
    "    descr = descr.replace(\"&deg;\",\"°\")\n",
    "    descr = descr.replace(\"�\",\"é\")\n",
    "    descr = descr.replace(\"<br>\",\" \")\n",
    "    descr = descr.replace(\"</br>\",\" \")\n",
    "    descr = descr.replace(\"<br/>\",\" \")\n",
    "    descr = descr.replace(\"<p>\",\" \")\n",
    "    descr = descr.replace(\"</p>\",\" \")\n",
    "    descr = descr.replace(\"<u>\",\"\")\n",
    "    descr = descr.replace(\"</u>\",\"\")\n",
    "    descr = descr.replace(\"<em>\",\"\")\n",
    "    descr = descr.replace(\"</em>\",\"\")\n",
    "    descr = descr.replace(\"description html_format --\",\"\")\n",
    "    \n",
    "    # All the text lowercase\n",
    "    descr = str.lower(descr)\n",
    "    \n",
    "    return descr"
   ]
  },
  {
   "cell_type": "code",
   "execution_count": 12,
   "metadata": {
    "collapsed": true
   },
   "outputs": [],
   "source": [
    "bienici['description'] = bienici['description'].apply(clear_description,0)"
   ]
  },
  {
   "cell_type": "markdown",
   "metadata": {},
   "source": [
    "### Analysis of the column 'price'"
   ]
  },
  {
   "cell_type": "code",
   "execution_count": 13,
   "metadata": {
    "collapsed": false
   },
   "outputs": [
    {
     "data": {
      "text/plain": [
       "1.0"
      ]
     },
     "execution_count": 13,
     "metadata": {},
     "output_type": "execute_result"
    }
   ],
   "source": [
    "bienici[\"price\"].count()/len(bienici)"
   ]
  },
  {
   "cell_type": "markdown",
   "metadata": {},
   "source": [
    "Some prices are indicated as 'price_1 à price_2'. We have to remove these lines."
   ]
  },
  {
   "cell_type": "code",
   "execution_count": 14,
   "metadata": {
    "collapsed": false
   },
   "outputs": [
    {
     "name": "stdout",
     "output_type": "stream",
     "text": [
      "0 lines with incorrect price\n"
     ]
    }
   ],
   "source": [
    "def get_weird(x):\n",
    "    return re.compile(\"[0-9]+\\sà\").match(x) is None\n",
    "\n",
    "position_weird_price = bienici[\"price\"].apply(get_weird, 0)\n",
    "print(\"%s lines with incorrect price\" %(len(bienici)-sum(position_weird_price)))"
   ]
  },
  {
   "cell_type": "code",
   "execution_count": 15,
   "metadata": {
    "collapsed": false
   },
   "outputs": [
    {
     "data": {
      "text/plain": [
       "5528"
      ]
     },
     "execution_count": 15,
     "metadata": {},
     "output_type": "execute_result"
    }
   ],
   "source": [
    "# Remove lines with incorrect price\n",
    "bienici = bienici.ix[position_weird_price,:]\n",
    "bienici['price'] = bienici['price'].astype(float)\n",
    "len(bienici)"
   ]
  },
  {
   "cell_type": "code",
   "execution_count": 16,
   "metadata": {
    "collapsed": false
   },
   "outputs": [
    {
     "data": {
      "image/png": "[encoded data removed]",
      "text/plain": [
       "<matplotlib.figure.Figure at 0x7f5ad9423748>"
      ]
     },
     "metadata": {},
     "output_type": "display_data"
    }
   ],
   "source": [
    "bienici['price'].hist()\n",
    "plt.show()"
   ]
  },
  {
   "cell_type": "markdown",
   "metadata": {},
   "source": [
    "### Analysis of the column 'charges'"
   ]
  },
  {
   "cell_type": "markdown",
   "metadata": {},
   "source": [
    "If the charges are not know, their value is 'NaN'. These lines are useless, we can remove them."
   ]
  },
  {
   "cell_type": "code",
   "execution_count": 17,
   "metadata": {
    "collapsed": false
   },
   "outputs": [
    {
     "name": "stdout",
     "output_type": "stream",
     "text": [
      "Charge present in 100.0% of the lines\n",
      "0 lines with unknown charges\n"
     ]
    }
   ],
   "source": [
    "def get_non_missing_arg(x):\n",
    "    return str(x) != 'nan'\n",
    "\n",
    "position_known_charge = bienici[\"charges\"].apply(get_non_missing_arg, 1)\n",
    "print(\"Charge present in %s%% of the lines\" %(100*round(sum(position_known_charge)/len(bienici),3)))\n",
    "print(\"%s lines with unknown charges\" %(len(bienici)-sum(position_known_charge)))"
   ]
  },
  {
   "cell_type": "code",
   "execution_count": 18,
   "metadata": {
    "collapsed": false
   },
   "outputs": [
    {
     "name": "stdout",
     "output_type": "stream",
     "text": [
      "5528\n"
     ]
    }
   ],
   "source": [
    "# Remove lines where charges are unknown\n",
    "bienici = bienici.ix[position_known_charge,:]\n",
    "print(len(bienici))"
   ]
  },
  {
   "cell_type": "markdown",
   "metadata": {},
   "source": [
    "### District"
   ]
  },
  {
   "cell_type": "code",
   "execution_count": 19,
   "metadata": {
    "collapsed": false
   },
   "outputs": [
    {
     "name": "stdout",
     "output_type": "stream",
     "text": [
      "3 unknown districts (removed):\n",
      "- Paris 92240\n",
      "- Paris 75000\n",
      "- Paris 75000\n",
      "\n",
      "5525\n"
     ]
    }
   ],
   "source": [
    "def get_district(place):\n",
    "    regex = re.compile(\"Paris\\s[0-9]+\").match(place)\n",
    "    if regex:\n",
    "        district = regex.group(0)\n",
    "        district = int(district.replace('Paris',''))\n",
    "        if district <= 20:\n",
    "            return district\n",
    "        else:\n",
    "            return -1\n",
    "    else:\n",
    "        if 'Grandes Carrières - Clichy' or 'Jules Joffrin' in place:\n",
    "            return 18\n",
    "        return -1\n",
    "\n",
    "district = np.asarray(bienici[\"place\"].apply(get_district, 0))\n",
    "\n",
    "print(\"%s unknown districts (removed):\" %sum(district==-1))\n",
    "for i in range(len(district)):\n",
    "    if district[i] == -1:\n",
    "        print(\"- %s\" %np.asarray(bienici[\"place\"])[i])\n",
    "print()\n",
    "\n",
    "# Remove lines where district is -1 (district not recognized)\n",
    "bienici = bienici.ix[district!=-1,:]\n",
    "\n",
    "print(len(bienici))"
   ]
  },
  {
   "cell_type": "markdown",
   "metadata": {},
   "source": [
    "### Analysis of surface"
   ]
  },
  {
   "cell_type": "code",
   "execution_count": 20,
   "metadata": {
    "collapsed": false
   },
   "outputs": [
    {
     "name": "stdout",
     "output_type": "stream",
     "text": [
      "Charge present in 99.5 % of the lines\n",
      "27 lines with missing surface\n"
     ]
    }
   ],
   "source": [
    "print(\"Charge present in %s %% of the lines\" %(100*round(bienici[\"surface\"].count()/len(bienici),3)))\n",
    "print(\"%s lines with missing surface\" %(len(bienici) - round(bienici[\"surface\"].count())))"
   ]
  },
  {
   "cell_type": "code",
   "execution_count": 21,
   "metadata": {
    "collapsed": false
   },
   "outputs": [
    {
     "name": "stdout",
     "output_type": "stream",
     "text": [
      "5498\n"
     ]
    }
   ],
   "source": [
    "# Remove the lines where surface not known\n",
    "position_known_surface = bienici[\"surface\"].apply(get_non_missing_arg, 1)\n",
    "bienici = bienici.ix[position_known_surface,:]\n",
    "print(len(bienici))"
   ]
  },
  {
   "cell_type": "markdown",
   "metadata": {},
   "source": [
    "### Analysis of construction year"
   ]
  },
  {
   "cell_type": "code",
   "execution_count": 22,
   "metadata": {
    "collapsed": false
   },
   "outputs": [
    {
     "name": "stdout",
     "output_type": "stream",
     "text": [
      "Charge present in 37.7% of the lines\n"
     ]
    }
   ],
   "source": [
    "print(\"Charge present in %s%% of the lines\" %(100*round(bienici['construction_year'].count()/len(bienici),3)))"
   ]
  },
  {
   "cell_type": "markdown",
   "metadata": {},
   "source": [
    "This feature is not relevant !"
   ]
  },
  {
   "cell_type": "markdown",
   "metadata": {},
   "source": [
    "### Analysis of the number of pictures"
   ]
  },
  {
   "cell_type": "code",
   "execution_count": 23,
   "metadata": {
    "collapsed": false
   },
   "outputs": [
    {
     "name": "stdout",
     "output_type": "stream",
     "text": [
      "Nb pictures present in 100.0% of the lines\n"
     ]
    }
   ],
   "source": [
    "print(\"Nb pictures present in %s%% of the lines\"\n",
    "      %(100*round(bienici['number_pictures'].count()/len(bienici),3)))"
   ]
  },
  {
   "cell_type": "markdown",
   "metadata": {},
   "source": [
    "Relevance of this feature ? To be studied."
   ]
  },
  {
   "cell_type": "markdown",
   "metadata": {},
   "source": [
    "### furnished\n",
    "\n",
    "If the attribute 'furnished'is 'Yes' in the database, we are sure that the flat is furnished. Else, this information was not given directly by bienici. In that case, I check in the text description if some related information is present, for more accuracy."
   ]
  },
  {
   "cell_type": "code",
   "execution_count": 24,
   "metadata": {
    "collapsed": false
   },
   "outputs": [],
   "source": [
    "def furnished_sure(x):\n",
    "    ret = False\n",
    "    if x == 'Yes':\n",
    "        ret = True\n",
    "    return ret\n",
    "# vec_furnished gives the position of ads where it is sure that furnished is true\n",
    "vec_furnished_sure = np.asarray(bienici[\"furnished\"].apply(furnished_sure, 1)).astype(int)\n",
    "\n",
    "def furnished_from_mining(x):\n",
    "    ret = False\n",
    "    if 'meublé' in x and 'non meublé' not in x and 'non-meublé' not in x and 'non meuble' not in x\\\n",
    "    and 'non-meuble' not in x:\n",
    "        ret = True\n",
    "    return ret\n",
    "# vec_furnished_minig gives the position of ads where we found that the flat is furnished, thanks to the description\n",
    "vec_furnished_mining = np.asarray(bienici[\"description\"].apply(furnished_from_mining, 1)).astype(int)\n",
    "\n",
    "vec_furnished = vec_furnished_sure + vec_furnished_mining\n",
    "vec_furnished = (vec_furnished >= 1).astype(int) # 0/1 format"
   ]
  },
  {
   "cell_type": "code",
   "execution_count": 25,
   "metadata": {
    "collapsed": false,
    "scrolled": true
   },
   "outputs": [],
   "source": [
    "#for descr in np.asarray(bienici['description']):\n",
    "#    print(descr)"
   ]
  },
  {
   "cell_type": "markdown",
   "metadata": {},
   "source": [
    "### Lift"
   ]
  },
  {
   "cell_type": "markdown",
   "metadata": {},
   "source": [
    "We can consider that the lift is an important element. Then, if a lift is not mentioned, we can imagine there is none for this flat."
   ]
  },
  {
   "cell_type": "code",
   "execution_count": 26,
   "metadata": {
    "collapsed": false
   },
   "outputs": [],
   "source": [
    "def get_lifts():\n",
    "    def lift_present_descr(x):\n",
    "        lift = False\n",
    "        if 'ascenseur' in x and 'sans ascenseur' not in x and 'pas ascenseur' not in x:\n",
    "            lift = True\n",
    "        elif 'ascenceur' in x and 'sans ascenceur' not in x and 'pas ascenceur' not in x:\n",
    "            # ascenceur is misspellt, but is present in the descriptions !\n",
    "            lift = True\n",
    "        return lift\n",
    "    def lift_present_sure(x):\n",
    "        lift = False\n",
    "        if x==1:\n",
    "            lift = True\n",
    "        return lift\n",
    "\n",
    "    lifts_descr = np.asarray(bienici[\"description\"].apply(lift_present_descr, 1)).astype(int)\n",
    "    lifts_sure = np.asarray(bienici[\"lift\"].apply(lift_present_sure, 1))\n",
    "    \n",
    "    lifts = lifts_descr + lifts_sure\n",
    "    lifts = (lifts >= 1).astype(int)\n",
    "\n",
    "    return lifts"
   ]
  },
  {
   "cell_type": "code",
   "execution_count": 27,
   "metadata": {
    "collapsed": true
   },
   "outputs": [],
   "source": [
    "position_lift = get_lifts()"
   ]
  },
  {
   "cell_type": "code",
   "execution_count": 28,
   "metadata": {
    "collapsed": false
   },
   "outputs": [
    {
     "name": "stdout",
     "output_type": "stream",
     "text": [
      "Lift present in 59.858% of the advertisment (3291/5498)\n"
     ]
    }
   ],
   "source": [
    "nb_lifts = sum(position_lift)\n",
    "print(\"Lift present in %s%% of the advertisment (%s/%s)\" %(round(100*nb_lifts/len(bienici),3),nb_lifts,len(bienici)))"
   ]
  },
  {
   "cell_type": "markdown",
   "metadata": {},
   "source": [
    "This proportion makes sense."
   ]
  },
  {
   "cell_type": "markdown",
   "metadata": {},
   "source": [
    "### Number of rooms"
   ]
  },
  {
   "cell_type": "code",
   "execution_count": 29,
   "metadata": {
    "collapsed": false
   },
   "outputs": [
    {
     "name": "stdout",
     "output_type": "stream",
     "text": [
      "22 missing nb of rooms\n"
     ]
    }
   ],
   "source": [
    "position_known_rooms = np.asarray(bienici[\"number_rooms\"].apply(get_non_missing_arg, 1))\n",
    "print(\"%s missing nb of rooms\" %(len(bienici)-sum(position_known_rooms)))"
   ]
  },
  {
   "cell_type": "markdown",
   "metadata": {},
   "source": [
    "When the number of rooms is missing:\n",
    "* if the word 'studio' is present in the description or if 'chambre' is one of the first words of the description, the number of rooms is estimeted to 1\n",
    "* if the words 'f2' or '2 pièces' or '2 pieces' etc are present in the description, the number of rooms is estimeted to 2\n",
    "* if the word 'f3' or '3 pièces' or '3 pieces' etc are present in the description, the number of rooms is estimeted to 3\n",
    "* else, the number of rooms is estimeted with the median"
   ]
  },
  {
   "cell_type": "code",
   "execution_count": 30,
   "metadata": {
    "collapsed": false
   },
   "outputs": [
    {
     "name": "stdout",
     "output_type": "stream",
     "text": [
      "Median: 2.0\n"
     ]
    }
   ],
   "source": [
    "vec_rooms = np.asarray(bienici[\"number_rooms\"]).astype(int)\n",
    "median_rooms = bienici[\"number_rooms\"].where(vec_rooms).median()\n",
    "print('Median: %s' %median_rooms)\n",
    "\n",
    "for i in range(len(position_known_rooms)):\n",
    "    if position_known_rooms[i] == False:\n",
    "        #print(i)\n",
    "        descr = np.asarray(bienici[\"description\"])[i]\n",
    "        if 'studio' in descr or 'chambre' in descr.split(' ')[:3]:\n",
    "            vec_rooms[i] = 1\n",
    "        elif 'f2 ' in descr or '2 pièces' in descr or '2 pieces' in descr \\\n",
    "        or 'deux pièces' in descr or 'deux pieces' in descr:\n",
    "            vec_rooms[i] = 2\n",
    "        elif 'f3 ' in descr or '3 pièces' in descr or '3 pieces' in descr\\\n",
    "        or 'trois pièces' in descr or 'trois pieces' in descr:\n",
    "            vec_rooms[i] = 3\n",
    "        else:\n",
    "            vec_rooms[i] = median_rooms"
   ]
  },
  {
   "cell_type": "markdown",
   "metadata": {},
   "source": [
    "### Floor\n",
    "As shown in the other notebook, this feature is not that relevant"
   ]
  },
  {
   "cell_type": "markdown",
   "metadata": {},
   "source": [
    "### Heating"
   ]
  },
  {
   "cell_type": "code",
   "execution_count": 31,
   "metadata": {
    "collapsed": false
   },
   "outputs": [],
   "source": [
    "def get_coll(system):\n",
    "    if re.compile(\"collectif\").match(system):\n",
    "        return \"collectif\"\n",
    "    elif 'individuel' in system:\n",
    "        return \"individuel\"\n",
    "    else:\n",
    "        return \"unknown\"\n",
    "    \n",
    "heating_known = np.asarray(bienici[\"heating\"].astype(str).apply(get_coll, 0))\n",
    "#bienici[\"heating_sys\"].value_counts()"
   ]
  },
  {
   "cell_type": "code",
   "execution_count": 32,
   "metadata": {
    "collapsed": false,
    "scrolled": true
   },
   "outputs": [],
   "source": [
    "def update_heating_with_description(heating_known):\n",
    "    heating = heating_known.copy()\n",
    "    descriptions = np.asarray(bienici['description'])\n",
    "    def get_heating(descr, key_word):\n",
    "        descr = descr.replace('.',' ').replace(';',' ').replace(',',' ').replace(':',' ').replace('-', ' ')\n",
    "        if key_word in descriptions[i]:\n",
    "            descr = descr.replace(key_word, ' ' + key_word + ' ')\n",
    "            descr = descr.split(' ')\n",
    "            descr = list(filter(lambda a: a != '', descr))\n",
    "            index_heating = descr.index(key_word)\n",
    "\n",
    "            next_words = ''\n",
    "            for j in range(min(6,len(descr)-index_heating)):\n",
    "                next_words += descr[index_heating+j]\n",
    "\n",
    "            if 'collectif' in next_words or 'collectifs' in next_words:\n",
    "                return 'collectif'\n",
    "            elif 'individuel' in next_words or 'individuels' in next_words or 'ind' in next_words:\n",
    "                return'individuel'\n",
    "        return 'unknown'\n",
    "\n",
    "    for i in range(len(heating)):\n",
    "        if heating[i] == 'unknown':\n",
    "            descr = descriptions[i]\n",
    "            ret = get_heating(descr, 'chauffage')\n",
    "            if ret == 'unknown':\n",
    "                ret = get_heating(descr, 'chaudière')        \n",
    "            heating[i] = ret\n",
    "    return heating\n",
    "\n",
    "heating = update_heating_with_description(heating_known)"
   ]
  },
  {
   "cell_type": "code",
   "execution_count": 33,
   "metadata": {
    "collapsed": false
   },
   "outputs": [
    {
     "data": {
      "text/plain": [
       "unknown       2671\n",
       "collectif     1421\n",
       "individuel    1406\n",
       "Name: 0, dtype: int64"
      ]
     },
     "execution_count": 33,
     "metadata": {},
     "output_type": "execute_result"
    }
   ],
   "source": [
    "pd.DataFrame(heating)[0].value_counts()"
   ]
  },
  {
   "cell_type": "markdown",
   "metadata": {},
   "source": [
    "**Warning !** About half of these values are unknown..."
   ]
  },
  {
   "cell_type": "code",
   "execution_count": 34,
   "metadata": {
    "collapsed": false
   },
   "outputs": [
    {
     "data": {
      "text/plain": [
       "unknown        3773\n",
       "electricite     979\n",
       "gaz             707\n",
       "fuel             39\n",
       "Name: 0, dtype: int64"
      ]
     },
     "execution_count": 34,
     "metadata": {},
     "output_type": "execute_result"
    }
   ],
   "source": [
    "def get_source(system):\n",
    "    system = system.replace('é', 'e')\n",
    "    if \"electricite\" in system or \"electrique\" in system:\n",
    "        return \"electricite\"\n",
    "    elif \"gaz\" in system:\n",
    "        return \"gaz\"\n",
    "    elif \"fuel\" in system or \"fioul\" in system:\n",
    "        return \"fuel\"\n",
    "    else:\n",
    "        return \"unknown\"\n",
    "\n",
    "def get_source_from_description(heating_source_known):\n",
    "    descriptions = np.asarray(bienici[\"description\"])\n",
    "    source = heating_source_known.copy()\n",
    "    for i in range(len(descriptions)):\n",
    "        if source[i] == 'unknown':\n",
    "            descr = descriptions[i].replace('é', 'e')\n",
    "            if \"electricite\" in descr or \"electrique\" in descr:\n",
    "                source[i] = \"electricite\"\n",
    "            elif \"gaz\" in descr:\n",
    "                source[i] = \"gaz\"\n",
    "            elif \"fuel\" in descr or \"fioul\" in descr:\n",
    "                source[i] = \"fuel\"\n",
    "    return source\n",
    "        \n",
    "    \n",
    "heating_source_known = np.asarray(bienici[\"heating\"].astype(str).apply(get_source, 0))\n",
    "heating_source = get_source_from_description(heating_source_known)\n",
    "\n",
    "pd.DataFrame(heating_source)[0].value_counts()"
   ]
  },
  {
   "cell_type": "markdown",
   "metadata": {},
   "source": [
    "** Warning !** A lot of missing values !"
   ]
  },
  {
   "cell_type": "markdown",
   "metadata": {},
   "source": [
    "### Gardien"
   ]
  },
  {
   "cell_type": "code",
   "execution_count": 35,
   "metadata": {
    "collapsed": false
   },
   "outputs": [
    {
     "name": "stdout",
     "output_type": "stream",
     "text": [
      "False    4384\n",
      "True     1114\n",
      "Name: 0, dtype: int64\n",
      "\n",
      "Gardien in 20.26% of cases\n"
     ]
    }
   ],
   "source": [
    "def find_gardien(x):\n",
    "    if 'gardien' in x:\n",
    "        return True\n",
    "    else:\n",
    "        return False\n",
    "\n",
    "gardien = np.asarray(bienici[\"description\"].apply(find_gardien, 0))\n",
    "print(pd.DataFrame(gardien)[0].value_counts())\n",
    "print('\\nGardien in %s%% of cases' %(round(100*pd.DataFrame(gardien)[0].value_counts()[1]/len(gardien),2)))"
   ]
  },
  {
   "cell_type": "markdown",
   "metadata": {},
   "source": [
    "$\\rightarrow$ Coherent with intuition"
   ]
  },
  {
   "cell_type": "markdown",
   "metadata": {},
   "source": [
    "### Internet"
   ]
  },
  {
   "cell_type": "code",
   "execution_count": 36,
   "metadata": {
    "collapsed": false
   },
   "outputs": [
    {
     "name": "stdout",
     "output_type": "stream",
     "text": [
      "False    5442\n",
      "True       56\n",
      "Name: 0, dtype: int64\n",
      "\n",
      "Gardien in 1.02% of cases\n"
     ]
    }
   ],
   "source": [
    "def find_internet(x):\n",
    "    if 'internet' in x:\n",
    "        return True\n",
    "    else:\n",
    "        return False\n",
    "\n",
    "internet = np.asarray(bienici[\"description\"].apply(find_internet, 0))\n",
    "print(pd.DataFrame(internet)[0].value_counts())\n",
    "print('\\nGardien in %s%% of cases' %(round(100*pd.DataFrame(internet)[0].value_counts()[1]/len(internet),2)))"
   ]
  },
  {
   "cell_type": "code",
   "execution_count": 37,
   "metadata": {
    "collapsed": false
   },
   "outputs": [],
   "source": [
    "#df_temp = pd.DataFrame(internet)\n",
    "#df_temp.columns = ['internet']\n",
    "#df_temp['Charges'] = np.asarray(bienici[\"charges\"]).astype(float)\n",
    "#df_temp.boxplot(by = \"internet\")\n",
    "#plt.show()"
   ]
  },
  {
   "cell_type": "markdown",
   "metadata": {},
   "source": [
    "### Garden\n",
    "\n",
    "Not that relevant..."
   ]
  },
  {
   "cell_type": "code",
   "execution_count": 38,
   "metadata": {
    "collapsed": false
   },
   "outputs": [
    {
     "name": "stdout",
     "output_type": "stream",
     "text": [
      "False    5104\n",
      "True      394\n",
      "Name: 0, dtype: int64\n",
      "\n",
      "Gardien in 7.17% of cases\n"
     ]
    }
   ],
   "source": [
    "def find_garden(x):\n",
    "    if 'jardin' in x:# and 'sur jardin' not in x:\n",
    "        return True\n",
    "    else:\n",
    "        return False\n",
    "\n",
    "garden = np.asarray(bienici[\"description\"].apply(find_garden, 0))\n",
    "print(pd.DataFrame(garden)[0].value_counts())\n",
    "print('\\nGardien in %s%% of cases' %(round(100*pd.DataFrame(garden)[0].value_counts()[1]/len(garden),2)))"
   ]
  },
  {
   "cell_type": "code",
   "execution_count": 39,
   "metadata": {
    "collapsed": false
   },
   "outputs": [],
   "source": [
    "#df_temp = pd.DataFrame(garden)\n",
    "#df_temp.columns = ['Garden']\n",
    "#df_temp['Charges'] = np.asarray(bienici[\"charges\"]).astype(float)\n",
    "#df_temp.boxplot(by = \"Garden\")\n",
    "#plt.show()"
   ]
  },
  {
   "cell_type": "markdown",
   "metadata": {},
   "source": [
    "# Creation of the dataset"
   ]
  },
  {
   "cell_type": "code",
   "execution_count": 40,
   "metadata": {
    "collapsed": false
   },
   "outputs": [],
   "source": [
    "dataset = pd.DataFrame()\n",
    "\n",
    "# Price of the flat\n",
    "price = np.asarray(bienici[\"price\"]).astype(float)\n",
    "dataset['Price'] = price\n",
    "\n",
    "# Charges (target value)\n",
    "charges = np.asarray(bienici[\"charges\"]).astype(float)\n",
    "dataset['Charges'] = charges\n",
    "\n",
    "# Surface of the flat\n",
    "surface = np.asarray(bienici[\"surface\"]).astype(float)\n",
    "dataset['Surface'] = surface\n",
    "\n",
    "# Number of pictures in the advertisment\n",
    "# relevant ?\n",
    "nb_pictures = np.asarray(bienici[\"number_pictures\"]).astype(float)\n",
    "dataset['Nb_pictures'] = nb_pictures\n",
    "dataset['Nb_pictures'] = dataset['Nb_pictures'].astype(int)\n",
    "\n",
    "# Is the flat furnished ?\n",
    "# 0 = No, 1 = Yes\n",
    "furnished = vec_furnished\n",
    "dataset['Furnished'] = furnished\n",
    "\n",
    "# Is there a lift ?\n",
    "# 0 = No, 1 = Yes\n",
    "lift = np.asarray(position_lift).astype(int)\n",
    "dataset['Lift'] = lift\n",
    "\n",
    "# Number of rooms in that flat\n",
    "nb_rooms = vec_rooms\n",
    "dataset['Nb_rooms'] = nb_rooms\n",
    "\n",
    "# District of Paris ('arrondissement')\n",
    "# Qualitative => get dummies => 20 features (sparse)\n",
    "dummies_district = pd.get_dummies(pd.DataFrame(district)[0]).rename(columns=lambda x: 'Paris_' + str(x))\n",
    "dummies_district = dummies_district.drop(['Paris_-1'],1)\n",
    "dummies_district = dummies_district.astype(int)\n",
    "dataset[dummies_district.columns] = dummies_district\n",
    "\n",
    "# Heating\n",
    "# A lot of missing values...\n",
    "# 3 possible values: 'collectif', 'individuel', 'unknown' => get dummies\n",
    "dummies_heating = pd.get_dummies(pd.DataFrame(heating)[0]).rename(columns=lambda x: 'Heating_' + str(x))\n",
    "dummies_heating = dummies_heating.astype(int)\n",
    "dataset[dummies_heating.columns] = dummies_heating\n",
    "\n",
    "# Heating type\n",
    "# A lot of missing values...\n",
    "# Qualitative => get dummies\n",
    "dummies_heating_src = pd.get_dummies(pd.DataFrame(heating_source)[0])\\\n",
    ".rename(columns=lambda x: 'Heating_src_' + str(x))\n",
    "dummies_heating_src = dummies_heating_src.astype(int)\n",
    "dataset[dummies_heating_src.columns] = dummies_heating_src\n",
    "\n",
    "# Gardien\n",
    "# True if sure there is one\n",
    "dataset['Gardien'] = gardien.astype(int)\n",
    "\n",
    "# Internet\n",
    "# True if internet provided\n",
    "dataset['Internet'] = internet.astype(int)\n",
    "\n",
    "# Garden\n",
    "# True if 'garden' is in the description\n",
    "dataset['Garden'] = garden.astype(int)"
   ]
  },
  {
   "cell_type": "code",
   "execution_count": 41,
   "metadata": {
    "collapsed": false
   },
   "outputs": [
    {
     "data": {
      "text/html": [
       "<div>\n",
       "<table border=\"1\" class=\"dataframe\">\n",
       "  <thead>\n",
       "    <tr style=\"text-align: right;\">\n",
       "      <th></th>\n",
       "      <th>Price</th>\n",
       "      <th>Charges</th>\n",
       "      <th>Surface</th>\n",
       "      <th>Nb_pictures</th>\n",
       "      <th>Furnished</th>\n",
       "      <th>Lift</th>\n",
       "      <th>Nb_rooms</th>\n",
       "      <th>Paris_1</th>\n",
       "      <th>Paris_2</th>\n",
       "      <th>Paris_3</th>\n",
       "      <th>...</th>\n",
       "      <th>Heating_collectif</th>\n",
       "      <th>Heating_individuel</th>\n",
       "      <th>Heating_unknown</th>\n",
       "      <th>Heating_src_electricite</th>\n",
       "      <th>Heating_src_fuel</th>\n",
       "      <th>Heating_src_gaz</th>\n",
       "      <th>Heating_src_unknown</th>\n",
       "      <th>Gardien</th>\n",
       "      <th>Internet</th>\n",
       "      <th>Garden</th>\n",
       "    </tr>\n",
       "  </thead>\n",
       "  <tbody>\n",
       "    <tr>\n",
       "      <th>0</th>\n",
       "      <td>1150.0</td>\n",
       "      <td>70.0</td>\n",
       "      <td>36.0</td>\n",
       "      <td>6</td>\n",
       "      <td>1</td>\n",
       "      <td>0</td>\n",
       "      <td>2</td>\n",
       "      <td>0</td>\n",
       "      <td>0</td>\n",
       "      <td>0</td>\n",
       "      <td>...</td>\n",
       "      <td>0</td>\n",
       "      <td>1</td>\n",
       "      <td>0</td>\n",
       "      <td>0</td>\n",
       "      <td>0</td>\n",
       "      <td>1</td>\n",
       "      <td>0</td>\n",
       "      <td>0</td>\n",
       "      <td>0</td>\n",
       "      <td>0</td>\n",
       "    </tr>\n",
       "    <tr>\n",
       "      <th>1</th>\n",
       "      <td>1150.0</td>\n",
       "      <td>70.0</td>\n",
       "      <td>36.0</td>\n",
       "      <td>6</td>\n",
       "      <td>1</td>\n",
       "      <td>0</td>\n",
       "      <td>2</td>\n",
       "      <td>0</td>\n",
       "      <td>0</td>\n",
       "      <td>0</td>\n",
       "      <td>...</td>\n",
       "      <td>0</td>\n",
       "      <td>1</td>\n",
       "      <td>0</td>\n",
       "      <td>0</td>\n",
       "      <td>0</td>\n",
       "      <td>1</td>\n",
       "      <td>0</td>\n",
       "      <td>0</td>\n",
       "      <td>0</td>\n",
       "      <td>0</td>\n",
       "    </tr>\n",
       "    <tr>\n",
       "      <th>2</th>\n",
       "      <td>2165.0</td>\n",
       "      <td>165.0</td>\n",
       "      <td>85.0</td>\n",
       "      <td>11</td>\n",
       "      <td>0</td>\n",
       "      <td>1</td>\n",
       "      <td>3</td>\n",
       "      <td>0</td>\n",
       "      <td>0</td>\n",
       "      <td>0</td>\n",
       "      <td>...</td>\n",
       "      <td>0</td>\n",
       "      <td>1</td>\n",
       "      <td>0</td>\n",
       "      <td>0</td>\n",
       "      <td>0</td>\n",
       "      <td>1</td>\n",
       "      <td>0</td>\n",
       "      <td>0</td>\n",
       "      <td>0</td>\n",
       "      <td>0</td>\n",
       "    </tr>\n",
       "  </tbody>\n",
       "</table>\n",
       "<p>3 rows × 37 columns</p>\n",
       "</div>"
      ],
      "text/plain": [
       "    Price  Charges  Surface  Nb_pictures  Furnished  Lift  Nb_rooms  Paris_1  \\\n",
       "0  1150.0     70.0     36.0            6          1     0         2        0   \n",
       "1  1150.0     70.0     36.0            6          1     0         2        0   \n",
       "2  2165.0    165.0     85.0           11          0     1         3        0   \n",
       "\n",
       "   Paris_2  Paris_3   ...    Heating_collectif  Heating_individuel  \\\n",
       "0        0        0   ...                    0                   1   \n",
       "1        0        0   ...                    0                   1   \n",
       "2        0        0   ...                    0                   1   \n",
       "\n",
       "   Heating_unknown  Heating_src_electricite  Heating_src_fuel  \\\n",
       "0                0                        0                 0   \n",
       "1                0                        0                 0   \n",
       "2                0                        0                 0   \n",
       "\n",
       "   Heating_src_gaz  Heating_src_unknown  Gardien  Internet  Garden  \n",
       "0                1                    0        0         0       0  \n",
       "1                1                    0        0         0       0  \n",
       "2                1                    0        0         0       0  \n",
       "\n",
       "[3 rows x 37 columns]"
      ]
     },
     "execution_count": 41,
     "metadata": {},
     "output_type": "execute_result"
    }
   ],
   "source": [
    "dataset.head(3)"
   ]
  },
  {
   "cell_type": "code",
   "execution_count": 42,
   "metadata": {
    "collapsed": false
   },
   "outputs": [],
   "source": [
    "def print_features_names(dataset):\n",
    "    list_features = list(dataset.columns)\n",
    "    if 'Charges' in list_features:\n",
    "        list_features.remove('Charges') # Charge is the estimated value\n",
    "    string = \"Current features (%s):\" %len(list_features)\n",
    "    for feature in list_features:\n",
    "        string += \"\\n  - %s\" %feature\n",
    "    print(string)\n",
    "    \n",
    "#print_features_names(dataset)"
   ]
  },
  {
   "cell_type": "code",
   "execution_count": null,
   "metadata": {
    "collapsed": true
   },
   "outputs": [],
   "source": []
  },
  {
   "cell_type": "markdown",
   "metadata": {},
   "source": [
    "##### Kitchen, bathroom, WC/douche sur pallier ?"
   ]
  },
  {
   "cell_type": "markdown",
   "metadata": {},
   "source": [
    "# Apply filters to work on a part of the data only"
   ]
  },
  {
   "cell_type": "code",
   "execution_count": 43,
   "metadata": {
    "collapsed": true
   },
   "outputs": [],
   "source": [
    "limit_charges = False\n",
    "\n",
    "limit_price = True\n",
    "price_max = 3000"
   ]
  },
  {
   "cell_type": "code",
   "execution_count": 44,
   "metadata": {
    "collapsed": false
   },
   "outputs": [],
   "source": [
    "if limit_charges:\n",
    "    charges_max = 200\n",
    "    def criterium(x):\n",
    "        return x <= charges_max\n",
    "    positions_lines_to_keep = dataset['Charges'].apply(criterium, 1)\n",
    "    dataset = dataset.ix[positions_lines_to_keep]\n",
    "    \n",
    "if limit_price:\n",
    "    price_max = price_max\n",
    "    def criterium(x):\n",
    "        return x <= price_max\n",
    "    positions_lines_to_keep = dataset['Price'].apply(criterium, 1)\n",
    "    dataset = dataset.ix[positions_lines_to_keep]"
   ]
  },
  {
   "cell_type": "code",
   "execution_count": 45,
   "metadata": {
    "collapsed": false
   },
   "outputs": [
    {
     "name": "stdout",
     "output_type": "stream",
     "text": [
      "4729 tuples kept\n"
     ]
    }
   ],
   "source": [
    "print(\"%s tuples kept\" %len(dataset))"
   ]
  },
  {
   "cell_type": "code",
   "execution_count": null,
   "metadata": {
    "collapsed": false
   },
   "outputs": [],
   "source": []
  },
  {
   "cell_type": "code",
   "execution_count": 46,
   "metadata": {
    "collapsed": true
   },
   "outputs": [],
   "source": [
    "objective = dataset['Charges']\n",
    "features = dataset.drop(['Charges'], 1)\n",
    "price = np.asarray(dataset['Price'])\n",
    "dataset = None"
   ]
  },
  {
   "cell_type": "markdown",
   "metadata": {},
   "source": [
    "# Standardization"
   ]
  },
  {
   "cell_type": "code",
   "execution_count": 47,
   "metadata": {
    "collapsed": true
   },
   "outputs": [],
   "source": [
    "standardize = True"
   ]
  },
  {
   "cell_type": "code",
   "execution_count": 48,
   "metadata": {
    "collapsed": false
   },
   "outputs": [],
   "source": [
    "if standardize:\n",
    "    def standardize_features(features):\n",
    "        \"features is a DataFrame\"\n",
    "        scaler = preprocessing.StandardScaler(with_mean=True, with_std=True).fit(features)\n",
    "\n",
    "        # Need to keep the mean and std, in order to make the same transformations on new data for prediction\n",
    "        mean = scaler.mean_\n",
    "        std = scaler.scale_\n",
    "        \n",
    "        features_scaled = scaler.transform(features)\n",
    "        \n",
    "        list_features_names = list(features.columns)\n",
    "        features = pd.DataFrame(features_scaled, columns=list_features_names)\n",
    "        \n",
    "        return features, mean, std\n",
    "    \n",
    "    def standardize_objective(data):\n",
    "        mean = np.mean(data)\n",
    "        std = np.std(data)\n",
    "        data_scales = (data - mean)/std\n",
    "        return data_scales, mean, std\n",
    "    \n",
    "    \n",
    "    features, features_mean, features_std = standardize_features(features)\n",
    "    \n",
    "    \n",
    "    objective, objective_mean, objective_std = standardize_objective(objective) "
   ]
  },
  {
   "cell_type": "markdown",
   "metadata": {
    "collapsed": false
   },
   "source": [
    "# Feature selection"
   ]
  },
  {
   "cell_type": "code",
   "execution_count": 49,
   "metadata": {
    "collapsed": false
   },
   "outputs": [
    {
     "name": "stdout",
     "output_type": "stream",
     "text": [
      "Columns: Index(['Price', 'Surface', 'Nb_pictures', 'Furnished', 'Lift', 'Nb_rooms',\n",
      "       'Paris_1', 'Paris_2', 'Paris_3', 'Paris_4', 'Paris_5', 'Paris_6',\n",
      "       'Paris_7', 'Paris_8', 'Paris_9', 'Paris_10', 'Paris_11', 'Paris_12',\n",
      "       'Paris_13', 'Paris_14', 'Paris_15', 'Paris_16', 'Paris_17', 'Paris_18',\n",
      "       'Paris_19', 'Paris_20', 'Heating_collectif', 'Heating_individuel',\n",
      "       'Heating_unknown', 'Heating_src_electricite', 'Heating_src_fuel',\n",
      "       'Heating_src_gaz', 'Heating_src_unknown', 'Gardien', 'Internet',\n",
      "       'Garden'],\n",
      "      dtype='object')\n"
     ]
    }
   ],
   "source": [
    "print(\"Columns: %s\" %features.columns)"
   ]
  },
  {
   "cell_type": "markdown",
   "metadata": {},
   "source": [
    "### Selection \"manually\""
   ]
  },
  {
   "cell_type": "code",
   "execution_count": 50,
   "metadata": {
    "collapsed": false
   },
   "outputs": [],
   "source": [
    "# The price from bieici is set by agencies, but the purpose is to\n",
    "# use this tools on ads from websites like pap or leboncoin\n",
    "# => The price of agencies can introduce a bias, so we don't keep it\n",
    "#features = features.drop([\"Price\"], 1)\n",
    "\n",
    "features = features.drop([\"Nb_pictures\"], 1)\n",
    "\n",
    "# The districts variable are totally correlated. We should remove one of them\n",
    "features = features.drop([\"Paris_1\"], 1)\n",
    "\n",
    "# Heating_collectif, Heating_individuel, Heating_unknown are totally correlated\n",
    "# Remove Heating_unknown\n",
    "features = features.drop([\"Heating_unknown\"], 1)\n",
    "\n",
    "# Heating_src_electricite, Heating_src_fuel, Heating_src_gaz, Heating_src_unknown\n",
    "# Remove Heating_src_unknown\n",
    "features = features.drop([\"Heating_src_unknown\"], 1)\n",
    "\n",
    "# Garden: does not improve the score\n",
    "features = features.drop([\"Garden\"], 1)"
   ]
  },
  {
   "cell_type": "code",
   "execution_count": 51,
   "metadata": {
    "collapsed": false
   },
   "outputs": [
    {
     "name": "stdout",
     "output_type": "stream",
     "text": [
      "Current features (31):\n",
      "  - Price\n",
      "  - Surface\n",
      "  - Furnished\n",
      "  - Lift\n",
      "  - Nb_rooms\n",
      "  - Paris_2\n",
      "  - Paris_3\n",
      "  - Paris_4\n",
      "  - Paris_5\n",
      "  - Paris_6\n",
      "  - Paris_7\n",
      "  - Paris_8\n",
      "  - Paris_9\n",
      "  - Paris_10\n",
      "  - Paris_11\n",
      "  - Paris_12\n",
      "  - Paris_13\n",
      "  - Paris_14\n",
      "  - Paris_15\n",
      "  - Paris_16\n",
      "  - Paris_17\n",
      "  - Paris_18\n",
      "  - Paris_19\n",
      "  - Paris_20\n",
      "  - Heating_collectif\n",
      "  - Heating_individuel\n",
      "  - Heating_src_electricite\n",
      "  - Heating_src_fuel\n",
      "  - Heating_src_gaz\n",
      "  - Gardien\n",
      "  - Internet\n"
     ]
    }
   ],
   "source": [
    "print_features_names(features)"
   ]
  },
  {
   "cell_type": "markdown",
   "metadata": {},
   "source": [
    "### Denoising: PCA"
   ]
  },
  {
   "cell_type": "markdown",
   "metadata": {},
   "source": [
    "#### PCA Analysis"
   ]
  },
  {
   "cell_type": "code",
   "execution_count": 52,
   "metadata": {
    "collapsed": false
   },
   "outputs": [],
   "source": [
    "y = np.asarray(objective)\n",
    "X = np.asarray(features)"
   ]
  },
  {
   "cell_type": "code",
   "execution_count": 53,
   "metadata": {
    "collapsed": false
   },
   "outputs": [
    {
     "name": "stdout",
     "output_type": "stream",
     "text": [
      "Dataset: 4729 samples, 31 features\n"
     ]
    }
   ],
   "source": [
    "print(\"Dataset: %s samples, %s features\" %(X.shape))"
   ]
  },
  {
   "cell_type": "code",
   "execution_count": 54,
   "metadata": {
    "collapsed": false
   },
   "outputs": [
    {
     "data": {
      "image/png": "[encoded data removed]",
      "text/plain": [
       "<matplotlib.figure.Figure at 0x7f5ad9bf9ac8>"
      ]
     },
     "metadata": {},
     "output_type": "display_data"
    }
   ],
   "source": [
    "pca = PCA()\n",
    "X2 = pca.fit(X).transform(X)\n",
    "\n",
    "plt.scatter(X2[:, 0], X2[:, 1], label=\" \", linewidth='0')\n",
    "plt.xlabel(\"Axe 1\")\n",
    "plt.ylabel(\"Axe 2\")\n",
    "plt.title('ACP sur les deux premiers\\naxes principaux')\n",
    "plt.show()"
   ]
  },
  {
   "cell_type": "code",
   "execution_count": 55,
   "metadata": {
    "collapsed": false
   },
   "outputs": [
    {
     "data": {
      "image/png": "[encoded data removed]",
      "text/plain": [
       "<matplotlib.figure.Figure at 0x7f5ad57012b0>"
      ]
     },
     "metadata": {},
     "output_type": "display_data"
    },
    {
     "data": {
      "image/png": "[encoded data removed]",
      "text/plain": [
       "<matplotlib.figure.Figure at 0x7f5ad5726978>"
      ]
     },
     "metadata": {},
     "output_type": "display_data"
    }
   ],
   "source": [
    "plt.plot(range(len(pca.explained_variance_ratio_)),pca.explained_variance_ratio_, 'o')\n",
    "plt.title('% of variance explained by each variable')\n",
    "plt.xlabel('Features')\n",
    "plt.ylabel('% variance')\n",
    "plt.show()\n",
    "\n",
    "var_explained = []\n",
    "for i in range(len(pca.explained_variance_ratio_)):\n",
    "    var_explained.append(sum(pca.explained_variance_ratio_[:i]))\n",
    "plt.plot(range(len(pca.explained_variance_ratio_)),var_explained, '-o')\n",
    "plt.title('Cumulated exlained variance\\nwith respect to the number of features kept')\n",
    "plt.title('nb features')\n",
    "plt.title('Cumulated variance')\n",
    "plt.show()"
   ]
  },
  {
   "cell_type": "code",
   "execution_count": 56,
   "metadata": {
    "collapsed": false
   },
   "outputs": [],
   "source": [
    "# Axes:\n",
    "# USE ZIP to print with names of axes !\n",
    "#for i in range(15):\n",
    "#    print(pca.components_[i])"
   ]
  },
  {
   "cell_type": "markdown",
   "metadata": {},
   "source": [
    "#### PCA Application"
   ]
  },
  {
   "cell_type": "code",
   "execution_count": 57,
   "metadata": {
    "collapsed": true
   },
   "outputs": [],
   "source": [
    "apply_pca = False\n",
    "# The use of PCA did not help improving the results"
   ]
  },
  {
   "cell_type": "code",
   "execution_count": 58,
   "metadata": {
    "collapsed": false
   },
   "outputs": [],
   "source": [
    "if apply_pca:\n",
    "    # Remove the n last axis\n",
    "    n = 2\n",
    "    pca = PCA(n_components=features.shape[1]-n)\n",
    "    X = pca.fit(X).transform(X)"
   ]
  },
  {
   "cell_type": "code",
   "execution_count": 59,
   "metadata": {
    "collapsed": false
   },
   "outputs": [
    {
     "data": {
      "text/plain": [
       "(4729, 31)"
      ]
     },
     "execution_count": 59,
     "metadata": {},
     "output_type": "execute_result"
    }
   ],
   "source": [
    "X.shape"
   ]
  },
  {
   "cell_type": "markdown",
   "metadata": {},
   "source": [
    "# Creation of the training and test sets"
   ]
  },
  {
   "cell_type": "code",
   "execution_count": 60,
   "metadata": {
    "collapsed": false
   },
   "outputs": [],
   "source": [
    "rs = ShuffleSplit(n_splits=1, test_size=0.25)\n",
    "a = rs.split(X)\n",
    "\n",
    "for train, test in a:\n",
    "    train_index = train\n",
    "    test_index = test\n",
    "\n",
    "X_test = X[test_index]\n",
    "X_train = X[train_index]\n",
    "price_test = price[test_index]\n",
    "\n",
    "y_test = y[test_index]\n",
    "y_train = y[train_index]\n",
    "\n",
    "# Reconstruct y_test (mean and std)\n",
    "y_test = y_test*objective_std + objective_mean"
   ]
  },
  {
   "cell_type": "code",
   "execution_count": 61,
   "metadata": {
    "collapsed": true
   },
   "outputs": [],
   "source": [
    "x_temp = pd.DataFrame(X_test)\n",
    "x_temp.to_csv('essai_x.csv')"
   ]
  },
  {
   "cell_type": "markdown",
   "metadata": {
    "collapsed": true
   },
   "source": [
    "# Our regressor: Random Forest"
   ]
  },
  {
   "cell_type": "markdown",
   "metadata": {},
   "source": [
    "Hyperparameters to optimize:\n",
    "* Max depth of the trees\n",
    "* Number of trees"
   ]
  },
  {
   "cell_type": "code",
   "execution_count": 62,
   "metadata": {
    "collapsed": false
   },
   "outputs": [],
   "source": [
    "from sklearn.ensemble import RandomForestRegressor\n",
    "rndForest = RandomForestRegressor()"
   ]
  },
  {
   "cell_type": "code",
   "execution_count": 63,
   "metadata": {
    "collapsed": true
   },
   "outputs": [],
   "source": [
    "def get_performances(y_hat, y_test):\n",
    "    errors = y_test - y_hat\n",
    "    error_abs = np.abs(errors)\n",
    "    relative_error = error_abs / y_test * 100\n",
    "\n",
    "    percentiles = [25, 50, 75, 90]\n",
    "    print(\"Avg error: %s\" %np.mean(error_abs))\n",
    "    #print(\"Percentiles errors: %s\\n\" %np.percentile(error_abs, [25, 50, 75, 90]))\n",
    "    print(\"Percentiles errors: %s (for percentiles %s)\\n\" %(np.percentile(error_abs, [25, 50, 75, 90]), percentiles))\n",
    "\n",
    "    print(\"Avg relative error: %s\" %np.mean(relative_error))\n",
    "    print(\"Percentiles relative errors: %s\\n\" %np.percentile(relative_error, [25, 50, 75, 90]))\n",
    "\n",
    "    return errors, error_abs, relative_error"
   ]
  },
  {
   "cell_type": "code",
   "execution_count": 64,
   "metadata": {
    "collapsed": true
   },
   "outputs": [],
   "source": [
    "hyper_param_cv = False\n",
    "run_random_forest = True"
   ]
  },
  {
   "cell_type": "code",
   "execution_count": 65,
   "metadata": {
    "collapsed": false
   },
   "outputs": [
    {
     "name": "stdout",
     "output_type": "stream",
     "text": [
      "Avg error: 29.434248599\n",
      "Percentiles errors: [  7.6055      20.484       41.40761905  68.8086    ] (for percentiles [25, 50, 75, 90])\n",
      "\n",
      "Avg relative error: 30.4424974494\n",
      "Percentiles relative errors: [  7.14214286  20.48181818  40.21337294  71.28770769]\n",
      "\n"
     ]
    }
   ],
   "source": [
    "if run_random_forest:\n",
    "    if hyper_param_cv:\n",
    "        parameters = {'n_estimators':[10, 100, 500, 1000],\n",
    "                          'max_depth':[10, 100, 1000, 3000, None],\n",
    "                          'n_jobs':[-1]}\n",
    "\n",
    "        regr = GridSearchCV(rndForest, parameters, n_jobs=2)\n",
    "        regr.fit(X_train, y_train)\n",
    "\n",
    "        print(\"Best parameters: %s\" %regr.best_params_)\n",
    "        print(\"Best score: %s\" %regr.best_score_)\n",
    "\n",
    "        regressor = regr.best_estimator_.fit(X_train, y_train)\n",
    "\n",
    "\n",
    "    else:\n",
    "        rndForest.set_params(n_estimators = 1000)\n",
    "        regressor = rndForest.fit(X_train, y_train)\n",
    "\n",
    "    y_hat = regressor.predict(X_test)\n",
    "\n",
    "    if standardize:\n",
    "        y_hat = y_hat*objective_std + objective_mean\n",
    "    \n",
    "    errors, error_abs, relative_error = get_performances(y_hat, y_test)"
   ]
  },
  {
   "cell_type": "code",
   "execution_count": 66,
   "metadata": {
    "collapsed": false
   },
   "outputs": [
    {
     "data": {
      "image/png": "[encoded data removed]",
      "text/plain": [
       "<matplotlib.figure.Figure at 0x7f5ad493abe0>"
      ]
     },
     "metadata": {},
     "output_type": "display_data"
    },
    {
     "data": {
      "image/png": "[encoded data removed]",
      "text/plain": [
       "<matplotlib.figure.Figure at 0x7f5ad486e048>"
      ]
     },
     "metadata": {},
     "output_type": "display_data"
    },
    {
     "data": {
      "image/png": "[encoded data removed]",
      "text/plain": [
       "<matplotlib.figure.Figure at 0x7f5ad484a0b8>"
      ]
     },
     "metadata": {},
     "output_type": "display_data"
    }
   ],
   "source": [
    "if run_random_forest:\n",
    "    # Visualize the repartition of errors\n",
    "    plt.plot(y_test, errors, 'o')\n",
    "    plt.title(\"Error (signed) on the estimated charge\\nwith respect to the real value of the charge\")\n",
    "    plt.ylabel(\"error (€)\")\n",
    "    plt.xlabel(\"real value (€)\")\n",
    "    plt.grid()\n",
    "    plt.show()\n",
    "\n",
    "    plt.plot(y_test, error_abs, 'o')\n",
    "    plt.title(\"Error on the estimated charge\\nwith respect to the real value of the charge\")\n",
    "    plt.ylabel(\"error (€)\")\n",
    "    plt.xlabel(\"real value (€)\")\n",
    "    plt.grid()\n",
    "    plt.show()\n",
    "\n",
    "    plt.hist(error_abs, bins=25)\n",
    "    plt.title(\"Histogram of absolute errors\")\n",
    "    plt.xlabel(\"error (€)\")\n",
    "    plt.show()\n",
    "\n",
    "    #plt.plot(y_test, relative_error, 'o')\n",
    "    #plt.title(\"Avg error on the estimated charge\\nwith respect to the real value of the charge\")\n",
    "    #plt.ylabel(\"error (%)\")\n",
    "    #plt.xlabel(\"real value (€)\")\n",
    "    #plt.show()"
   ]
  },
  {
   "cell_type": "markdown",
   "metadata": {},
   "source": [
    "# A second regressor: xgboost"
   ]
  },
  {
   "cell_type": "markdown",
   "metadata": {},
   "source": [
    "# Export our model"
   ]
  },
  {
   "cell_type": "code",
   "execution_count": 68,
   "metadata": {
    "collapsed": false
   },
   "outputs": [
    {
     "data": {
      "text/plain": [
       "78.80818240182575"
      ]
     },
     "execution_count": 68,
     "metadata": {},
     "output_type": "execute_result"
    }
   ],
   "source": [
    "objective_std"
   ]
  },
  {
   "cell_type": "code",
   "execution_count": 69,
   "metadata": {
    "collapsed": false
   },
   "outputs": [
    {
     "data": {
      "text/plain": [
       "124.9107633749207"
      ]
     },
     "execution_count": 69,
     "metadata": {},
     "output_type": "execute_result"
    }
   ],
   "source": [
    "objective_mean"
   ]
  },
  {
   "cell_type": "code",
   "execution_count": 73,
   "metadata": {
    "collapsed": false
   },
   "outputs": [
    {
     "name": "stdout",
     "output_type": "stream",
     "text": [
      "Regressor saved as charges_predictor.pkl\n"
     ]
    }
   ],
   "source": [
    "# Save the model in a file.\n",
    "from sklearn.externals import joblib\n",
    "if run_random_forest:\n",
    "    name = 'charges_predictor.pkl'\n",
    "    joblib.dump(regressor, name, compress=9)\n",
    "    print('Regressor saved as %s' %name)"
   ]
  },
  {
   "cell_type": "markdown",
   "metadata": {},
   "source": [
    "# Create the readme.txt file"
   ]
  },
  {
   "cell_type": "code",
   "execution_count": 74,
   "metadata": {
    "collapsed": false
   },
   "outputs": [],
   "source": [
    "now = datetime.datetime.now()\n",
    "current_date = \"%s-%s-%s\" %(now.year, now.month, now.day)"
   ]
  },
  {
   "cell_type": "code",
   "execution_count": 78,
   "metadata": {
    "collapsed": true
   },
   "outputs": [],
   "source": [
    "# Create the readme.txt file\n",
    "\n",
    "content = \"\"\"Charge prediction\n",
    "-----------------\n",
    "\n",
    "The predictor is saved as a pkl object in the folder ./predictions\n",
    "\n",
    "In order to import this regressor, run the 2 following lines:\n",
    ">> from sklearn.externals import joblib\n",
    ">> regressor = joblib.load('charges_predictor.pkl')\n",
    "\n",
    "Note: scikit learn has to be installed.\n",
    "\n",
    "This object (regressor) is a scikit-learn random forest.\n",
    "\n",
    "If you want to predict the charge on a dataset X, run:\n",
    ">> y_pred = regressor.predict(X) * %s + %s\n",
    "\n",
    "X has to be an array where each line is a sample (an advertisement for which the charge prediction has to be made).\n",
    "The columns of X are the different features. They are (is this order):\n",
    "\"\"\" %(objective_std, objective_mean)\n",
    "\n",
    "for feature in features.columns:\n",
    "    content += ' - %s\\n' %feature\n",
    "\n",
    "content += \"\"\"\n",
    "All these features are generated on the test set in the notebook ./predictions/charge_prediction.ipynb\n",
    "\n",
    "Each line of y_pred is the charge prediction for the corresonding line of X.\n",
    "\n",
    "This regressor has been generated using a random forest, with scikit learn.\n",
    "X_train: %s samples\n",
    "X_test: %s samples\n",
    "\n",
    "Here are a few metrics on the test of this regressor:\n",
    "Avg error: %s\n",
    "Percentiles errors: %s (for percentiles %s)\n",
    "\"\"\" %(X_train.shape[0], X_test.shape[0], np.mean(error_abs), np.percentile(error_abs, [25, 50, 75, 90]), [25, 50, 75, 90])"
   ]
  },
  {
   "cell_type": "code",
   "execution_count": 79,
   "metadata": {
    "collapsed": true
   },
   "outputs": [],
   "source": [
    "content += \"\\nLast update: %s\" %current_date"
   ]
  },
  {
   "cell_type": "code",
   "execution_count": 80,
   "metadata": {
    "collapsed": false
   },
   "outputs": [],
   "source": [
    "file = open('../readme.txt', 'w')\n",
    "file.write(content)\n",
    "file.close()"
   ]
  },
  {
   "cell_type": "markdown",
   "metadata": {},
   "source": [
    "# Test: re-import the regressor"
   ]
  },
  {
   "cell_type": "code",
   "execution_count": null,
   "metadata": {
    "collapsed": true
   },
   "outputs": [],
   "source": [
    "# Re-import the regressor:\n",
    "#regressor = joblib.load('charges_predictor.pkl')\n",
    "#y_test = regressor.predict(X_test)"
   ]
  },
  {
   "cell_type": "code",
   "execution_count": 71,
   "metadata": {
    "collapsed": false
   },
   "outputs": [
    {
     "ename": "TypeError",
     "evalue": "'RandomForestRegressor' object is not callable",
     "output_type": "error",
     "traceback": [
      "\u001b[0;31m---------------------------------------------------------------------------\u001b[0m",
      "\u001b[0;31mTypeError\u001b[0m                                 Traceback (most recent call last)",
      "\u001b[0;32m<ipython-input-71-396b679b8a70>\u001b[0m in \u001b[0;36m<module>\u001b[0;34m()\u001b[0m\n\u001b[1;32m      1\u001b[0m \u001b[0;32mfrom\u001b[0m \u001b[0msklearn\u001b[0m\u001b[0;34m.\u001b[0m\u001b[0mexternals\u001b[0m \u001b[0;32mimport\u001b[0m \u001b[0mjoblib\u001b[0m\u001b[0;34m\u001b[0m\u001b[0m\n\u001b[1;32m      2\u001b[0m \u001b[0mcharges_predictor\u001b[0m \u001b[0;34m=\u001b[0m \u001b[0mjoblib\u001b[0m\u001b[0;34m.\u001b[0m\u001b[0mload\u001b[0m\u001b[0;34m(\u001b[0m\u001b[0;34m'charges_predictor.pkl'\u001b[0m\u001b[0;34m)\u001b[0m\u001b[0;34m\u001b[0m\u001b[0m\n\u001b[0;32m----> 3\u001b[0;31m \u001b[0my_test\u001b[0m \u001b[0;34m=\u001b[0m \u001b[0mcharges_predictor\u001b[0m\u001b[0;34m(\u001b[0m\u001b[0mX_test\u001b[0m\u001b[0;34m)\u001b[0m\u001b[0;34m\u001b[0m\u001b[0m\n\u001b[0m",
      "\u001b[0;31mTypeError\u001b[0m: 'RandomForestRegressor' object is not callable"
     ]
    }
   ],
   "source": [
    "from sklearn.externals import joblib\n",
    "regressor = joblib.load('charges_predictor.pkl')"
   ]
  },
  {
   "cell_type": "code",
   "execution_count": null,
   "metadata": {
    "collapsed": true
   },
   "outputs": [],
   "source": []
  }
 ],
 "metadata": {
  "anaconda-cloud": {},
  "kernelspec": {
   "display_name": "Python [conda root]",
   "language": "python",
   "name": "conda-root-py"
  },
  "language_info": {
   "codemirror_mode": {
    "name": "ipython",
    "version": 3
   },
   "file_extension": ".py",
   "mimetype": "text/x-python",
   "name": "python",
   "nbconvert_exporter": "python",
   "pygments_lexer": "ipython3",
   "version": "3.5.2"
  }
 },
 "nbformat": 4,
 "nbformat_minor": 1
}
