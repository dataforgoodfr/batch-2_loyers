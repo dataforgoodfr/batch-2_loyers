{
 "cells": [
  {
   "cell_type": "code",
   "execution_count": 1,
   "metadata": {
    "collapsed": true
   },
   "outputs": [],
   "source": [
    "import numpy as np\n",
    "import pandas as pd\n",
    "import sqlite3\n",
    "import os"
   ]
  },
  {
   "cell_type": "code",
   "execution_count": 2,
   "metadata": {
    "collapsed": false
   },
   "outputs": [
    {
     "name": "stdout",
     "output_type": "stream",
     "text": [
      "7014 advertisments have been scraped\n"
     ]
    }
   ],
   "source": [
    "# Number of advertisments in the database\n",
    "def get_number_ads():\n",
    "    db_connector = sqlite3.connect('./scraping_bienici.db')\n",
    "    cursor = db_connector.cursor()\n",
    "    cursor.execute(\"\"\"SELECT COUNT(*) FROM real_estate_ad\"\"\")\n",
    "    result = cursor.fetchall()[0][0]\n",
    "    db_connector.close()\n",
    "    return result\n",
    "\n",
    "number_ads = get_number_ads()\n",
    "print(\"%s advertisments have been scraped\" %number_ads)"
   ]
  },
  {
   "cell_type": "code",
   "execution_count": 3,
   "metadata": {
    "collapsed": false
   },
   "outputs": [],
   "source": [
    "# Export to csv\n",
    "def get_col_names():\n",
    "    conn = sqlite3.connect(\"./scraping_bienici.db\")\n",
    "    c = conn.cursor()\n",
    "    c.execute(\"select * from real_estate_ad\")\n",
    "    descr = c.description\n",
    "    conn.close()\n",
    "    return [member[0] for member in descr]\n",
    "    \n",
    "def get_data_as_dataframe():\n",
    "    db_connector = sqlite3.connect('./scraping_bienici.db')\n",
    "    cursor = db_connector.cursor()\n",
    "    cursor.execute(\"\"\"select * FROM real_estate_ad\"\"\")\n",
    "    result = cursor.fetchall()\n",
    "    \n",
    "    col_names = get_col_names()\n",
    "    \n",
    "    df = pd.DataFrame(list(result))\n",
    "    df.columns = col_names\n",
    "    \n",
    "    db_connector.close()\n",
    "    return df\n",
    "\n",
    "def export_db_to_csv(dataFrame):\n",
    "    dataFrame.to_csv('./scraping_bienici.csv', sep=',', index=False)"
   ]
  },
  {
   "cell_type": "code",
   "execution_count": 4,
   "metadata": {
    "collapsed": false
   },
   "outputs": [],
   "source": [
    "df = get_data_as_dataframe()\n",
    "export_db_to_csv(df)"
   ]
  },
  {
   "cell_type": "code",
   "execution_count": 5,
   "metadata": {
    "collapsed": false
   },
   "outputs": [
    {
     "data": {
      "text/html": [
       "<div>\n",
       "<table border=\"1\" class=\"dataframe\">\n",
       "  <thead>\n",
       "    <tr style=\"text-align: right;\">\n",
       "      <th></th>\n",
       "      <th>url</th>\n",
       "      <th>scraping_date</th>\n",
       "      <th>title</th>\n",
       "      <th>price</th>\n",
       "      <th>charges</th>\n",
       "      <th>place</th>\n",
       "      <th>surface</th>\n",
       "      <th>construction_year</th>\n",
       "      <th>description</th>\n",
       "      <th>number_pictures</th>\n",
       "      <th>...</th>\n",
       "      <th>lift</th>\n",
       "      <th>contact</th>\n",
       "      <th>contact_address</th>\n",
       "      <th>contact_rcs</th>\n",
       "      <th>contact_type</th>\n",
       "      <th>ref_annonce</th>\n",
       "      <th>publication_date</th>\n",
       "      <th>modification_date</th>\n",
       "      <th>infos_quartier</th>\n",
       "      <th>other_info</th>\n",
       "    </tr>\n",
       "  </thead>\n",
       "  <tbody>\n",
       "    <tr>\n",
       "      <th>0</th>\n",
       "      <td>https://www.bienici.com/annonce/location//appa...</td>\n",
       "      <td>2016-10-09@00:30</td>\n",
       "      <td>Appartement 2 pièces 36 m²</td>\n",
       "      <td>1150</td>\n",
       "      <td>70</td>\n",
       "      <td>- Grandes Carrières - Clichy</td>\n",
       "      <td>36</td>\n",
       "      <td></td>\n",
       "      <td>Description HTML_format -- Haut Rue Damr&amp;eacut...</td>\n",
       "      <td>6</td>\n",
       "      <td>...</td>\n",
       "      <td></td>\n",
       "      <td>Acopa Damrémont</td>\n",
       "      <td>19 Rue Damrémont - 75018 Paris</td>\n",
       "      <td>RCS : 512097031</td>\n",
       "      <td>Agence</td>\n",
       "      <td>3987</td>\n",
       "      <td>5 oct. 2016</td>\n",
       "      <td></td>\n",
       "      <td>&lt;span&gt;&lt;a href=\"/decouvrez/paris/paris-18e/gran...</td>\n",
       "      <td>Exposé Est \\n\\&amp;\\\\n1 WC\\n\\&amp;\\\\n</td>\n",
       "    </tr>\n",
       "    <tr>\n",
       "      <th>1</th>\n",
       "      <td>https://www.bienici.com/annonce/location//appa...</td>\n",
       "      <td>2016-10-09@00:30</td>\n",
       "      <td>Appartement 2 pièces 36 m²</td>\n",
       "      <td>1150</td>\n",
       "      <td>70</td>\n",
       "      <td>- Grandes Carrières - Clichy</td>\n",
       "      <td>36</td>\n",
       "      <td></td>\n",
       "      <td>Description HTML_format -- Haut Rue Damr&amp;eacut...</td>\n",
       "      <td>6</td>\n",
       "      <td>...</td>\n",
       "      <td></td>\n",
       "      <td>Acopa Damrémont</td>\n",
       "      <td>19 Rue Damrémont - 75018 Paris</td>\n",
       "      <td>RCS : 512097031</td>\n",
       "      <td>Agence</td>\n",
       "      <td>3989</td>\n",
       "      <td>6 oct. 2016</td>\n",
       "      <td></td>\n",
       "      <td>&lt;span&gt;&lt;a href=\"/decouvrez/paris/paris-18e/gran...</td>\n",
       "      <td>Exposé Est \\n\\&amp;\\\\n1 WC\\n\\&amp;\\\\n</td>\n",
       "    </tr>\n",
       "    <tr>\n",
       "      <th>2</th>\n",
       "      <td>https://www.bienici.com/annonce/location//appa...</td>\n",
       "      <td>2016-10-09@00:30</td>\n",
       "      <td>Appartement 3 pièces 85 m²</td>\n",
       "      <td>2165</td>\n",
       "      <td>165</td>\n",
       "      <td>- Jules Joffrin</td>\n",
       "      <td>85</td>\n",
       "      <td></td>\n",
       "      <td>Description HTML_format -- Appartement 3/4 pi&amp;...</td>\n",
       "      <td>11</td>\n",
       "      <td>...</td>\n",
       "      <td></td>\n",
       "      <td>Acopa Immobilière Marcadet</td>\n",
       "      <td>77 Bd Barbes - 75018 Paris</td>\n",
       "      <td>RCS : 70305443384</td>\n",
       "      <td>Agence</td>\n",
       "      <td>3956</td>\n",
       "      <td>16 sept. 2016</td>\n",
       "      <td></td>\n",
       "      <td>&lt;span&gt;&lt;a href=\"/decouvrez/paris/paris-18e/jule...</td>\n",
       "      <td></td>\n",
       "    </tr>\n",
       "    <tr>\n",
       "      <th>3</th>\n",
       "      <td>https://www.bienici.com/annonce/location/paris...</td>\n",
       "      <td>2016-10-09@00:30</td>\n",
       "      <td>Studio 31 m²</td>\n",
       "      <td>930</td>\n",
       "      <td>105</td>\n",
       "      <td>Paris 10e 75010 - Grange aux Belles - Terrage</td>\n",
       "      <td>31</td>\n",
       "      <td></td>\n",
       "      <td>République - Studio de 31 m². M° République, à...</td>\n",
       "      <td>5</td>\n",
       "      <td>...</td>\n",
       "      <td></td>\n",
       "      <td>CONSULT IM - CONSULT'IM</td>\n",
       "      <td>17, Rue De Chateaudun - 75009 Paris</td>\n",
       "      <td>RCS : 511411324</td>\n",
       "      <td>Agence</td>\n",
       "      <td>10185379</td>\n",
       "      <td>7 oct. 2016</td>\n",
       "      <td></td>\n",
       "      <td>&lt;span&gt;&lt;a href=\"/decouvrez/paris/paris-10e/gran...</td>\n",
       "      <td></td>\n",
       "    </tr>\n",
       "  </tbody>\n",
       "</table>\n",
       "<p>4 rows × 26 columns</p>\n",
       "</div>"
      ],
      "text/plain": [
       "                                                 url     scraping_date  \\\n",
       "0  https://www.bienici.com/annonce/location//appa...  2016-10-09@00:30   \n",
       "1  https://www.bienici.com/annonce/location//appa...  2016-10-09@00:30   \n",
       "2  https://www.bienici.com/annonce/location//appa...  2016-10-09@00:30   \n",
       "3  https://www.bienici.com/annonce/location/paris...  2016-10-09@00:30   \n",
       "\n",
       "                        title price charges  \\\n",
       "0  Appartement 2 pièces 36 m²  1150      70   \n",
       "1  Appartement 2 pièces 36 m²  1150      70   \n",
       "2  Appartement 3 pièces 85 m²  2165     165   \n",
       "3                Studio 31 m²   930     105   \n",
       "\n",
       "                                           place surface construction_year  \\\n",
       "0                   - Grandes Carrières - Clichy      36                     \n",
       "1                   - Grandes Carrières - Clichy      36                     \n",
       "2                                - Jules Joffrin      85                     \n",
       "3  Paris 10e 75010 - Grange aux Belles - Terrage      31                     \n",
       "\n",
       "                                         description  number_pictures  \\\n",
       "0  Description HTML_format -- Haut Rue Damr&eacut...                6   \n",
       "1  Description HTML_format -- Haut Rue Damr&eacut...                6   \n",
       "2  Description HTML_format -- Appartement 3/4 pi&...               11   \n",
       "3  République - Studio de 31 m². M° République, à...                5   \n",
       "\n",
       "               ...               lift                     contact  \\\n",
       "0              ...                                Acopa Damrémont   \n",
       "1              ...                                Acopa Damrémont   \n",
       "2              ...                     Acopa Immobilière Marcadet   \n",
       "3              ...                        CONSULT IM - CONSULT'IM   \n",
       "\n",
       "                       contact_address        contact_rcs contact_type  \\\n",
       "0       19 Rue Damrémont - 75018 Paris    RCS : 512097031       Agence   \n",
       "1       19 Rue Damrémont - 75018 Paris    RCS : 512097031       Agence   \n",
       "2           77 Bd Barbes - 75018 Paris  RCS : 70305443384       Agence   \n",
       "3  17, Rue De Chateaudun - 75009 Paris    RCS : 511411324       Agence   \n",
       "\n",
       "  ref_annonce publication_date modification_date  \\\n",
       "0        3987      5 oct. 2016                     \n",
       "1        3989      6 oct. 2016                     \n",
       "2        3956    16 sept. 2016                     \n",
       "3    10185379      7 oct. 2016                     \n",
       "\n",
       "                                      infos_quartier  \\\n",
       "0  <span><a href=\"/decouvrez/paris/paris-18e/gran...   \n",
       "1  <span><a href=\"/decouvrez/paris/paris-18e/gran...   \n",
       "2  <span><a href=\"/decouvrez/paris/paris-18e/jule...   \n",
       "3  <span><a href=\"/decouvrez/paris/paris-10e/gran...   \n",
       "\n",
       "                      other_info  \n",
       "0  Exposé Est \\n\\&\\\\n1 WC\\n\\&\\\\n  \n",
       "1  Exposé Est \\n\\&\\\\n1 WC\\n\\&\\\\n  \n",
       "2                                 \n",
       "3                                 \n",
       "\n",
       "[4 rows x 26 columns]"
      ]
     },
     "execution_count": 5,
     "metadata": {},
     "output_type": "execute_result"
    }
   ],
   "source": [
    "df.head(4)"
   ]
  },
  {
   "cell_type": "code",
   "execution_count": 6,
   "metadata": {
    "collapsed": false
   },
   "outputs": [
    {
     "name": "stdout",
     "output_type": "stream",
     "text": [
      "The size of the base of sales is 15.11424 MBytes\n"
     ]
    }
   ],
   "source": [
    "# Get the size of the database\n",
    "size_db = os.path.getsize(\"./scraping_bienici.db\") # in bytes\n",
    "print(\"The size of the base of sales is %s MBytes\" %(size_db/10**6))"
   ]
  },
  {
   "cell_type": "code",
   "execution_count": 7,
   "metadata": {
    "collapsed": true
   },
   "outputs": [],
   "source": [
    "# Proportion of ads where charge is known\n",
    "def get_proportion_charges():\n",
    "    db_connector = sqlite3.connect('./scraping_bienici.db')\n",
    "    cursor = db_connector.cursor()\n",
    "    cursor.execute(\"\"\"SELECT COUNT(*)\n",
    "                      FROM real_estate_ad\n",
    "                      WHERE charges != ''\"\"\")\n",
    "    result = float(cursor.fetchall()[0][0])\n",
    "    db_connector.close()\n",
    "    return round(result/get_number_ads()*100, 1)"
   ]
  },
  {
   "cell_type": "code",
   "execution_count": 8,
   "metadata": {
    "collapsed": false
   },
   "outputs": [
    {
     "name": "stdout",
     "output_type": "stream",
     "text": [
      "Charges are knows in 79.1% of the real estate advertisments\n"
     ]
    }
   ],
   "source": [
    "print(\"Charges are knows in %s%% of the real estate advertisments\" %get_proportion_charges())"
   ]
  },
  {
   "cell_type": "code",
   "execution_count": 9,
   "metadata": {
    "collapsed": true
   },
   "outputs": [],
   "source": [
    "# Proportion of ads where contruction year is known\n",
    "def get_proportion_consruction_year():\n",
    "    db_connector = sqlite3.connect('./scraping_bienici.db')\n",
    "    cursor = db_connector.cursor()\n",
    "    cursor.execute(\"\"\"SELECT COUNT(*)\n",
    "                      FROM real_estate_ad\n",
    "                      WHERE construction_year != ''\"\"\")\n",
    "    result = float(cursor.fetchall()[0][0])\n",
    "    db_connector.close()\n",
    "    return round(result/get_number_ads()*100, 1)"
   ]
  },
  {
   "cell_type": "code",
   "execution_count": 10,
   "metadata": {
    "collapsed": false
   },
   "outputs": [
    {
     "name": "stdout",
     "output_type": "stream",
     "text": [
      "The construction year is knows in 36.9% of the real estate advertisments\n"
     ]
    }
   ],
   "source": [
    "print(\"The construction year is knows in %s%% of the real estate advertisments\" %get_proportion_consruction_year())"
   ]
  },
  {
   "cell_type": "code",
   "execution_count": 11,
   "metadata": {
    "collapsed": true
   },
   "outputs": [],
   "source": [
    "def get_nb_ads_max_rooms(n_max_rooms):\n",
    "    db_connector = sqlite3.connect('./scraping_bienici.db')\n",
    "    cursor = db_connector.cursor()\n",
    "    args = [n_max_rooms]\n",
    "    cursor.execute(\"\"\"SELECT COUNT(*)\n",
    "                      FROM real_estate_ad\n",
    "                      WHERE charges != '' and number_rooms <= ?\"\"\", args)\n",
    "    result = int(cursor.fetchall()[0][0])\n",
    "    db_connector.close()\n",
    "    print(\"%s flats out of %s have at most %s rooms.\" %(result, get_number_ads(), n_max_rooms))\n",
    "    return result"
   ]
  },
  {
   "cell_type": "code",
   "execution_count": 12,
   "metadata": {
    "collapsed": false
   },
   "outputs": [
    {
     "name": "stdout",
     "output_type": "stream",
     "text": [
      "4760 flats out of 6848 have at most 4 rooms.\n"
     ]
    }
   ],
   "source": [
    "n = get_nb_ads_max_rooms(4)"
   ]
  },
  {
   "cell_type": "code",
   "execution_count": null,
   "metadata": {
    "collapsed": true
   },
   "outputs": [],
   "source": []
  },
  {
   "cell_type": "code",
   "execution_count": null,
   "metadata": {
    "collapsed": true
   },
   "outputs": [],
   "source": []
  }
 ],
 "metadata": {
  "anaconda-cloud": {},
  "kernelspec": {
   "display_name": "Python [conda root]",
   "language": "python",
   "name": "conda-root-py"
  },
  "language_info": {
   "codemirror_mode": {
    "name": "ipython",
    "version": 3
   },
   "file_extension": ".py",
   "mimetype": "text/x-python",
   "name": "python",
   "nbconvert_exporter": "python",
   "pygments_lexer": "ipython3",
   "version": "3.5.2"
  }
 },
 "nbformat": 4,
 "nbformat_minor": 1
}
