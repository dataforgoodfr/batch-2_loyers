{
 "cells": [
  {
   "cell_type": "code",
   "execution_count": 1,
   "metadata": {
    "collapsed": false
   },
   "outputs": [
    {
     "name": "stdout",
     "output_type": "stream",
     "text": [
      "Populating the interactive namespace from numpy and matplotlib\n"
     ]
    }
   ],
   "source": [
    "%pylab inline"
   ]
  },
  {
   "cell_type": "code",
   "execution_count": 2,
   "metadata": {
    "collapsed": true
   },
   "outputs": [],
   "source": [
    "import pandas as pd"
   ]
  },
  {
   "cell_type": "code",
   "execution_count": 3,
   "metadata": {
    "collapsed": true
   },
   "outputs": [],
   "source": [
    "df = pd.read_csv('encadrement_loyers_paris.csv')"
   ]
  },
  {
   "cell_type": "code",
   "execution_count": 4,
   "metadata": {
    "collapsed": false
   },
   "outputs": [
    {
     "data": {
      "text/html": [
       "<div>\n",
       "<table border=\"1\" class=\"dataframe\">\n",
       "  <thead>\n",
       "    <tr style=\"text-align: right;\">\n",
       "      <th></th>\n",
       "      <th>idZone</th>\n",
       "      <th>nameZone</th>\n",
       "      <th>idQuartier</th>\n",
       "      <th>piece</th>\n",
       "      <th>epoque</th>\n",
       "      <th>type</th>\n",
       "      <th>annee</th>\n",
       "      <th>ref</th>\n",
       "      <th>refmin</th>\n",
       "      <th>refmaj</th>\n",
       "    </tr>\n",
       "  </thead>\n",
       "  <tbody>\n",
       "    <tr>\n",
       "      <th>0</th>\n",
       "      <td>1</td>\n",
       "      <td>Notre-Dame-des-Champs</td>\n",
       "      <td>23</td>\n",
       "      <td>1 pièce</td>\n",
       "      <td>avant 1946</td>\n",
       "      <td>Non meublée</td>\n",
       "      <td>2015</td>\n",
       "      <td>31.3</td>\n",
       "      <td>21.9</td>\n",
       "      <td>37.6</td>\n",
       "    </tr>\n",
       "    <tr>\n",
       "      <th>1</th>\n",
       "      <td>1</td>\n",
       "      <td>Saint-Thomas-d'Aquin</td>\n",
       "      <td>25</td>\n",
       "      <td>1 pièce</td>\n",
       "      <td>avant 1946</td>\n",
       "      <td>Non meublée</td>\n",
       "      <td>2015</td>\n",
       "      <td>31.3</td>\n",
       "      <td>21.9</td>\n",
       "      <td>37.6</td>\n",
       "    </tr>\n",
       "  </tbody>\n",
       "</table>\n",
       "</div>"
      ],
      "text/plain": [
       "   idZone               nameZone  idQuartier    piece      epoque  \\\n",
       "0       1  Notre-Dame-des-Champs          23  1 pièce  avant 1946   \n",
       "1       1   Saint-Thomas-d'Aquin          25  1 pièce  avant 1946   \n",
       "\n",
       "          type  annee   ref  refmin  refmaj  \n",
       "0  Non meublée   2015  31.3    21.9    37.6  \n",
       "1  Non meublée   2015  31.3    21.9    37.6  "
      ]
     },
     "execution_count": 4,
     "metadata": {},
     "output_type": "execute_result"
    }
   ],
   "source": [
    "df.head(2)"
   ]
  },
  {
   "cell_type": "code",
   "execution_count": 5,
   "metadata": {
    "collapsed": false
   },
   "outputs": [
    {
     "data": {
      "text/html": [
       "<div>\n",
       "<table border=\"1\" class=\"dataframe\">\n",
       "  <thead>\n",
       "    <tr style=\"text-align: right;\">\n",
       "      <th></th>\n",
       "      <th>idZone</th>\n",
       "      <th>idQuartier</th>\n",
       "      <th>annee</th>\n",
       "      <th>ref</th>\n",
       "      <th>refmin</th>\n",
       "      <th>refmaj</th>\n",
       "    </tr>\n",
       "  </thead>\n",
       "  <tbody>\n",
       "    <tr>\n",
       "      <th>count</th>\n",
       "      <td>5120.000000</td>\n",
       "      <td>5120.000000</td>\n",
       "      <td>5120.000000</td>\n",
       "      <td>5120.000000</td>\n",
       "      <td>5120.000000</td>\n",
       "      <td>5120.000000</td>\n",
       "    </tr>\n",
       "    <tr>\n",
       "      <th>mean</th>\n",
       "      <td>6.662500</td>\n",
       "      <td>40.500000</td>\n",
       "      <td>2015.500000</td>\n",
       "      <td>24.704434</td>\n",
       "      <td>17.294414</td>\n",
       "      <td>29.647031</td>\n",
       "    </tr>\n",
       "    <tr>\n",
       "      <th>std</th>\n",
       "      <td>4.225172</td>\n",
       "      <td>23.094462</td>\n",
       "      <td>0.500049</td>\n",
       "      <td>3.770624</td>\n",
       "      <td>2.636844</td>\n",
       "      <td>4.524386</td>\n",
       "    </tr>\n",
       "    <tr>\n",
       "      <th>min</th>\n",
       "      <td>1.000000</td>\n",
       "      <td>1.000000</td>\n",
       "      <td>2015.000000</td>\n",
       "      <td>15.200000</td>\n",
       "      <td>10.600000</td>\n",
       "      <td>18.200000</td>\n",
       "    </tr>\n",
       "    <tr>\n",
       "      <th>25%</th>\n",
       "      <td>3.000000</td>\n",
       "      <td>20.750000</td>\n",
       "      <td>2015.000000</td>\n",
       "      <td>22.000000</td>\n",
       "      <td>15.400000</td>\n",
       "      <td>26.400000</td>\n",
       "    </tr>\n",
       "    <tr>\n",
       "      <th>50%</th>\n",
       "      <td>5.000000</td>\n",
       "      <td>40.500000</td>\n",
       "      <td>2015.500000</td>\n",
       "      <td>24.300000</td>\n",
       "      <td>17.000000</td>\n",
       "      <td>29.200000</td>\n",
       "    </tr>\n",
       "    <tr>\n",
       "      <th>75%</th>\n",
       "      <td>11.000000</td>\n",
       "      <td>60.250000</td>\n",
       "      <td>2016.000000</td>\n",
       "      <td>27.100000</td>\n",
       "      <td>19.000000</td>\n",
       "      <td>32.500000</td>\n",
       "    </tr>\n",
       "    <tr>\n",
       "      <th>max</th>\n",
       "      <td>14.000000</td>\n",
       "      <td>80.000000</td>\n",
       "      <td>2016.000000</td>\n",
       "      <td>37.900000</td>\n",
       "      <td>26.500000</td>\n",
       "      <td>45.500000</td>\n",
       "    </tr>\n",
       "  </tbody>\n",
       "</table>\n",
       "</div>"
      ],
      "text/plain": [
       "            idZone   idQuartier        annee          ref       refmin  \\\n",
       "count  5120.000000  5120.000000  5120.000000  5120.000000  5120.000000   \n",
       "mean      6.662500    40.500000  2015.500000    24.704434    17.294414   \n",
       "std       4.225172    23.094462     0.500049     3.770624     2.636844   \n",
       "min       1.000000     1.000000  2015.000000    15.200000    10.600000   \n",
       "25%       3.000000    20.750000  2015.000000    22.000000    15.400000   \n",
       "50%       5.000000    40.500000  2015.500000    24.300000    17.000000   \n",
       "75%      11.000000    60.250000  2016.000000    27.100000    19.000000   \n",
       "max      14.000000    80.000000  2016.000000    37.900000    26.500000   \n",
       "\n",
       "            refmaj  \n",
       "count  5120.000000  \n",
       "mean     29.647031  \n",
       "std       4.524386  \n",
       "min      18.200000  \n",
       "25%      26.400000  \n",
       "50%      29.200000  \n",
       "75%      32.500000  \n",
       "max      45.500000  "
      ]
     },
     "execution_count": 5,
     "metadata": {},
     "output_type": "execute_result"
    }
   ],
   "source": [
    "df.describe()"
   ]
  },
  {
   "cell_type": "code",
   "execution_count": 7,
   "metadata": {
    "collapsed": false
   },
   "outputs": [
    {
     "data": {
      "text/plain": [
       "1 pièce             1280\n",
       "4 pièces et plus    1280\n",
       "3 pièces            1280\n",
       "2 pièces            1280\n",
       "Name: piece, dtype: int64"
      ]
     },
     "execution_count": 7,
     "metadata": {},
     "output_type": "execute_result"
    }
   ],
   "source": [
    "df.piece.value_counts()"
   ]
  },
  {
   "cell_type": "code",
   "execution_count": 8,
   "metadata": {
    "collapsed": false
   },
   "outputs": [
    {
     "data": {
      "text/plain": [
       "1971-1990     1280\n",
       "1946-1970     1280\n",
       "avant 1946    1280\n",
       "après 1990    1280\n",
       "Name: epoque, dtype: int64"
      ]
     },
     "execution_count": 8,
     "metadata": {},
     "output_type": "execute_result"
    }
   ],
   "source": [
    "df.epoque.value_counts()"
   ]
  },
  {
   "cell_type": "code",
   "execution_count": 10,
   "metadata": {
    "collapsed": false
   },
   "outputs": [],
   "source": [
    "dg = pd.read_csv('QUARTIER.csv')"
   ]
  },
  {
   "cell_type": "code",
   "execution_count": 12,
   "metadata": {
    "collapsed": false
   },
   "outputs": [],
   "source": [
    "data=pd.merge(df,dg, left_on='idQuartier', right_on='C_QU')"
   ]
  },
  {
   "cell_type": "code",
   "execution_count": 17,
   "metadata": {
    "collapsed": false
   },
   "outputs": [
    {
     "data": {
      "text/html": [
       "<div>\n",
       "<table border=\"1\" class=\"dataframe\">\n",
       "  <thead>\n",
       "    <tr style=\"text-align: right;\">\n",
       "      <th></th>\n",
       "      <th>idZone</th>\n",
       "      <th>nameZone</th>\n",
       "      <th>idQuartier</th>\n",
       "      <th>piece</th>\n",
       "      <th>epoque</th>\n",
       "      <th>type</th>\n",
       "      <th>annee</th>\n",
       "      <th>ref</th>\n",
       "      <th>refmin</th>\n",
       "      <th>refmaj</th>\n",
       "      <th>﻿OBJECTID</th>\n",
       "      <th>N_SQ_QU</th>\n",
       "      <th>C_QU</th>\n",
       "      <th>C_QUINSEE</th>\n",
       "      <th>L_QU</th>\n",
       "      <th>C_AR</th>\n",
       "      <th>N_SQ_AR</th>\n",
       "      <th>SHAPE_Length</th>\n",
       "      <th>SHAPE_Area</th>\n",
       "    </tr>\n",
       "  </thead>\n",
       "  <tbody>\n",
       "    <tr>\n",
       "      <th>0</th>\n",
       "      <td>1</td>\n",
       "      <td>Notre-Dame-des-Champs</td>\n",
       "      <td>23</td>\n",
       "      <td>1 pièce</td>\n",
       "      <td>avant 1946</td>\n",
       "      <td>Non meublée</td>\n",
       "      <td>2015</td>\n",
       "      <td>31.3</td>\n",
       "      <td>21.9</td>\n",
       "      <td>37.6</td>\n",
       "      <td>23</td>\n",
       "      <td>750000023</td>\n",
       "      <td>23</td>\n",
       "      <td>7510603</td>\n",
       "      <td>Notre-Dame-des-Champs</td>\n",
       "      <td>6</td>\n",
       "      <td>750000006</td>\n",
       "      <td>4559.726831</td>\n",
       "      <td>861307.080279</td>\n",
       "    </tr>\n",
       "    <tr>\n",
       "      <th>1</th>\n",
       "      <td>1</td>\n",
       "      <td>Notre-Dame-des-Champs</td>\n",
       "      <td>23</td>\n",
       "      <td>1 pièce</td>\n",
       "      <td>avant 1946</td>\n",
       "      <td>Non meublée</td>\n",
       "      <td>2016</td>\n",
       "      <td>31.6</td>\n",
       "      <td>22.1</td>\n",
       "      <td>37.9</td>\n",
       "      <td>23</td>\n",
       "      <td>750000023</td>\n",
       "      <td>23</td>\n",
       "      <td>7510603</td>\n",
       "      <td>Notre-Dame-des-Champs</td>\n",
       "      <td>6</td>\n",
       "      <td>750000006</td>\n",
       "      <td>4559.726831</td>\n",
       "      <td>861307.080279</td>\n",
       "    </tr>\n",
       "    <tr>\n",
       "      <th>2</th>\n",
       "      <td>1</td>\n",
       "      <td>Notre-Dame-des-Champs</td>\n",
       "      <td>23</td>\n",
       "      <td>1 pièce</td>\n",
       "      <td>avant 1946</td>\n",
       "      <td>Meublée</td>\n",
       "      <td>2015</td>\n",
       "      <td>34.7</td>\n",
       "      <td>24.3</td>\n",
       "      <td>41.6</td>\n",
       "      <td>23</td>\n",
       "      <td>750000023</td>\n",
       "      <td>23</td>\n",
       "      <td>7510603</td>\n",
       "      <td>Notre-Dame-des-Champs</td>\n",
       "      <td>6</td>\n",
       "      <td>750000006</td>\n",
       "      <td>4559.726831</td>\n",
       "      <td>861307.080279</td>\n",
       "    </tr>\n",
       "    <tr>\n",
       "      <th>3</th>\n",
       "      <td>1</td>\n",
       "      <td>Notre-Dame-des-Champs</td>\n",
       "      <td>23</td>\n",
       "      <td>1 pièce</td>\n",
       "      <td>avant 1946</td>\n",
       "      <td>Meublée</td>\n",
       "      <td>2016</td>\n",
       "      <td>35.4</td>\n",
       "      <td>24.8</td>\n",
       "      <td>42.5</td>\n",
       "      <td>23</td>\n",
       "      <td>750000023</td>\n",
       "      <td>23</td>\n",
       "      <td>7510603</td>\n",
       "      <td>Notre-Dame-des-Champs</td>\n",
       "      <td>6</td>\n",
       "      <td>750000006</td>\n",
       "      <td>4559.726831</td>\n",
       "      <td>861307.080279</td>\n",
       "    </tr>\n",
       "    <tr>\n",
       "      <th>4</th>\n",
       "      <td>1</td>\n",
       "      <td>Notre-Dame-des-Champs</td>\n",
       "      <td>23</td>\n",
       "      <td>1 pièce</td>\n",
       "      <td>1946-1970</td>\n",
       "      <td>Non meublée</td>\n",
       "      <td>2015</td>\n",
       "      <td>29.3</td>\n",
       "      <td>20.5</td>\n",
       "      <td>35.2</td>\n",
       "      <td>23</td>\n",
       "      <td>750000023</td>\n",
       "      <td>23</td>\n",
       "      <td>7510603</td>\n",
       "      <td>Notre-Dame-des-Champs</td>\n",
       "      <td>6</td>\n",
       "      <td>750000006</td>\n",
       "      <td>4559.726831</td>\n",
       "      <td>861307.080279</td>\n",
       "    </tr>\n",
       "  </tbody>\n",
       "</table>\n",
       "</div>"
      ],
      "text/plain": [
       "   idZone               nameZone  idQuartier    piece      epoque  \\\n",
       "0       1  Notre-Dame-des-Champs          23  1 pièce  avant 1946   \n",
       "1       1  Notre-Dame-des-Champs          23  1 pièce  avant 1946   \n",
       "2       1  Notre-Dame-des-Champs          23  1 pièce  avant 1946   \n",
       "3       1  Notre-Dame-des-Champs          23  1 pièce  avant 1946   \n",
       "4       1  Notre-Dame-des-Champs          23  1 pièce   1946-1970   \n",
       "\n",
       "          type  annee   ref  refmin  refmaj  ﻿OBJECTID    N_SQ_QU  C_QU  \\\n",
       "0  Non meublée   2015  31.3    21.9    37.6         23  750000023    23   \n",
       "1  Non meublée   2016  31.6    22.1    37.9         23  750000023    23   \n",
       "2      Meublée   2015  34.7    24.3    41.6         23  750000023    23   \n",
       "3      Meublée   2016  35.4    24.8    42.5         23  750000023    23   \n",
       "4  Non meublée   2015  29.3    20.5    35.2         23  750000023    23   \n",
       "\n",
       "   C_QUINSEE                   L_QU  C_AR    N_SQ_AR  SHAPE_Length  \\\n",
       "0    7510603  Notre-Dame-des-Champs     6  750000006   4559.726831   \n",
       "1    7510603  Notre-Dame-des-Champs     6  750000006   4559.726831   \n",
       "2    7510603  Notre-Dame-des-Champs     6  750000006   4559.726831   \n",
       "3    7510603  Notre-Dame-des-Champs     6  750000006   4559.726831   \n",
       "4    7510603  Notre-Dame-des-Champs     6  750000006   4559.726831   \n",
       "\n",
       "      SHAPE_Area  \n",
       "0  861307.080279  \n",
       "1  861307.080279  \n",
       "2  861307.080279  \n",
       "3  861307.080279  \n",
       "4  861307.080279  "
      ]
     },
     "execution_count": 17,
     "metadata": {},
     "output_type": "execute_result"
    }
   ],
   "source": [
    "data.head()"
   ]
  },
  {
   "cell_type": "code",
   "execution_count": 19,
   "metadata": {
    "collapsed": false
   },
   "outputs": [
    {
     "data": {
      "text/html": [
       "<div>\n",
       "<table border=\"1\" class=\"dataframe\">\n",
       "  <thead>\n",
       "    <tr style=\"text-align: right;\">\n",
       "      <th></th>\n",
       "      <th>idZone</th>\n",
       "      <th>nameZone</th>\n",
       "      <th>idQuartier</th>\n",
       "      <th>piece</th>\n",
       "      <th>epoque</th>\n",
       "      <th>type</th>\n",
       "      <th>annee</th>\n",
       "      <th>ref</th>\n",
       "      <th>refmin</th>\n",
       "      <th>refmaj</th>\n",
       "      <th>﻿OBJECTID</th>\n",
       "      <th>N_SQ_QU</th>\n",
       "      <th>C_QU</th>\n",
       "      <th>C_QUINSEE</th>\n",
       "      <th>L_QU</th>\n",
       "      <th>C_AR</th>\n",
       "      <th>N_SQ_AR</th>\n",
       "      <th>SHAPE_Length</th>\n",
       "      <th>SHAPE_Area</th>\n",
       "    </tr>\n",
       "  </thead>\n",
       "  <tbody>\n",
       "    <tr>\n",
       "      <th>0</th>\n",
       "      <td>1</td>\n",
       "      <td>Notre-Dame-des-Champs</td>\n",
       "      <td>23</td>\n",
       "      <td>1 pièce</td>\n",
       "      <td>avant 1946</td>\n",
       "      <td>Non meublée</td>\n",
       "      <td>2015</td>\n",
       "      <td>31.3</td>\n",
       "      <td>21.9</td>\n",
       "      <td>37.6</td>\n",
       "      <td>23</td>\n",
       "      <td>750000023</td>\n",
       "      <td>23</td>\n",
       "      <td>7510603</td>\n",
       "      <td>Notre-Dame-des-Champs</td>\n",
       "      <td>6</td>\n",
       "      <td>750000006</td>\n",
       "      <td>4559.726831</td>\n",
       "      <td>861307.080279</td>\n",
       "    </tr>\n",
       "    <tr>\n",
       "      <th>1</th>\n",
       "      <td>1</td>\n",
       "      <td>Notre-Dame-des-Champs</td>\n",
       "      <td>23</td>\n",
       "      <td>1 pièce</td>\n",
       "      <td>avant 1946</td>\n",
       "      <td>Non meublée</td>\n",
       "      <td>2016</td>\n",
       "      <td>31.6</td>\n",
       "      <td>22.1</td>\n",
       "      <td>37.9</td>\n",
       "      <td>23</td>\n",
       "      <td>750000023</td>\n",
       "      <td>23</td>\n",
       "      <td>7510603</td>\n",
       "      <td>Notre-Dame-des-Champs</td>\n",
       "      <td>6</td>\n",
       "      <td>750000006</td>\n",
       "      <td>4559.726831</td>\n",
       "      <td>861307.080279</td>\n",
       "    </tr>\n",
       "    <tr>\n",
       "      <th>2</th>\n",
       "      <td>1</td>\n",
       "      <td>Notre-Dame-des-Champs</td>\n",
       "      <td>23</td>\n",
       "      <td>1 pièce</td>\n",
       "      <td>avant 1946</td>\n",
       "      <td>Meublée</td>\n",
       "      <td>2015</td>\n",
       "      <td>34.7</td>\n",
       "      <td>24.3</td>\n",
       "      <td>41.6</td>\n",
       "      <td>23</td>\n",
       "      <td>750000023</td>\n",
       "      <td>23</td>\n",
       "      <td>7510603</td>\n",
       "      <td>Notre-Dame-des-Champs</td>\n",
       "      <td>6</td>\n",
       "      <td>750000006</td>\n",
       "      <td>4559.726831</td>\n",
       "      <td>861307.080279</td>\n",
       "    </tr>\n",
       "  </tbody>\n",
       "</table>\n",
       "</div>"
      ],
      "text/plain": [
       "   idZone               nameZone  idQuartier    piece      epoque  \\\n",
       "0       1  Notre-Dame-des-Champs          23  1 pièce  avant 1946   \n",
       "1       1  Notre-Dame-des-Champs          23  1 pièce  avant 1946   \n",
       "2       1  Notre-Dame-des-Champs          23  1 pièce  avant 1946   \n",
       "\n",
       "          type  annee   ref  refmin  refmaj  ﻿OBJECTID    N_SQ_QU  C_QU  \\\n",
       "0  Non meublée   2015  31.3    21.9    37.6         23  750000023    23   \n",
       "1  Non meublée   2016  31.6    22.1    37.9         23  750000023    23   \n",
       "2      Meublée   2015  34.7    24.3    41.6         23  750000023    23   \n",
       "\n",
       "   C_QUINSEE                   L_QU  C_AR    N_SQ_AR  SHAPE_Length  \\\n",
       "0    7510603  Notre-Dame-des-Champs     6  750000006   4559.726831   \n",
       "1    7510603  Notre-Dame-des-Champs     6  750000006   4559.726831   \n",
       "2    7510603  Notre-Dame-des-Champs     6  750000006   4559.726831   \n",
       "\n",
       "      SHAPE_Area  \n",
       "0  861307.080279  \n",
       "1  861307.080279  \n",
       "2  861307.080279  "
      ]
     },
     "execution_count": 19,
     "metadata": {},
     "output_type": "execute_result"
    }
   ],
   "source": [
    "data.head(3)"
   ]
  },
  {
   "cell_type": "code",
   "execution_count": 30,
   "metadata": {
    "collapsed": false
   },
   "outputs": [
    {
     "data": {
      "text/plain": [
       "'06'"
      ]
     },
     "execution_count": 30,
     "metadata": {},
     "output_type": "execute_result"
    }
   ],
   "source": [
    "(str(data['N_SQ_AR'][0])[-2:])"
   ]
  },
  {
   "cell_type": "code",
   "execution_count": 31,
   "metadata": {
    "collapsed": true
   },
   "outputs": [],
   "source": [
    "def arrondissement(x):\n",
    "    return str(x)[-2:]"
   ]
  },
  {
   "cell_type": "code",
   "execution_count": 32,
   "metadata": {
    "collapsed": true
   },
   "outputs": [],
   "source": [
    "data['arrondissement'] = data['N_SQ_AR'].apply(lambda x: arrondissement(x))"
   ]
  },
  {
   "cell_type": "code",
   "execution_count": 38,
   "metadata": {
    "collapsed": false
   },
   "outputs": [
    {
     "data": {
      "text/plain": [
       "count    256.000000\n",
       "mean      28.396094\n",
       "std        3.579843\n",
       "min       20.900000\n",
       "25%       25.900000\n",
       "50%       28.000000\n",
       "75%       30.425000\n",
       "max       39.000000\n",
       "Name: refmaj, dtype: float64"
      ]
     },
     "execution_count": 38,
     "metadata": {},
     "output_type": "execute_result"
    }
   ],
   "source": [
    "data[data.arrondissement == '10'].refmaj.describe()"
   ]
  },
  {
   "cell_type": "code",
   "execution_count": 44,
   "metadata": {
    "collapsed": false
   },
   "outputs": [],
   "source": [
    "loyer_arrondissement = []\n",
    "for i in data.arrondissement.unique().tolist():\n",
    "    loyer_max = data[data.arrondissement == i].refmaj.max()\n",
    "    loyer_arrondissement.append([i, loyer_max])"
   ]
  },
  {
   "cell_type": "code",
   "execution_count": 45,
   "metadata": {
    "collapsed": false
   },
   "outputs": [
    {
     "data": {
      "text/plain": [
       "[['06', 45.5],\n",
       " ['07', 45.5],\n",
       " ['01', 42.399999999999999],\n",
       " ['02', 42.399999999999999],\n",
       " ['04', 42.399999999999999],\n",
       " ['08', 42.399999999999999],\n",
       " ['09', 42.399999999999999],\n",
       " ['16', 40.200000000000003],\n",
       " ['03', 40.0],\n",
       " ['05', 40.0],\n",
       " ['10', 39.0],\n",
       " ['13', 39.5],\n",
       " ['14', 39.5],\n",
       " ['15', 37.399999999999999],\n",
       " ['17', 38.799999999999997],\n",
       " ['12', 38.799999999999997],\n",
       " ['18', 38.799999999999997],\n",
       " ['11', 38.799999999999997],\n",
       " ['20', 38.799999999999997],\n",
       " ['19', 38.0]]"
      ]
     },
     "execution_count": 45,
     "metadata": {},
     "output_type": "execute_result"
    }
   ],
   "source": [
    "loyer_arrondissement"
   ]
  },
  {
   "cell_type": "code",
   "execution_count": 48,
   "metadata": {
    "collapsed": false
   },
   "outputs": [
    {
     "ename": "UnicodeDecodeError",
     "evalue": "'utf-8' codec can't decode byte 0xe9 in position 14: invalid continuation byte",
     "output_type": "error",
     "traceback": [
      "\u001b[1;31m---------------------------------------------------------------------------\u001b[0m",
      "\u001b[1;31mUnicodeDecodeError\u001b[0m                        Traceback (most recent call last)",
      "\u001b[1;32m<ipython-input-48-d4b0d9926549>\u001b[0m in \u001b[0;36m<module>\u001b[1;34m()\u001b[0m\n\u001b[1;32m----> 1\u001b[1;33m \u001b[0mdataset\u001b[0m \u001b[1;33m=\u001b[0m \u001b[0mpd\u001b[0m\u001b[1;33m.\u001b[0m\u001b[0mread_csv\u001b[0m\u001b[1;33m(\u001b[0m\u001b[1;34m'dataset.csv'\u001b[0m\u001b[1;33m)\u001b[0m\u001b[1;33m\u001b[0m\u001b[0m\n\u001b[0m",
      "\u001b[1;32mC:\\Users\\Peter martigny\\Anaconda3\\lib\\site-packages\\pandas\\io\\parsers.py\u001b[0m in \u001b[0;36mparser_f\u001b[1;34m(filepath_or_buffer, sep, delimiter, header, names, index_col, usecols, squeeze, prefix, mangle_dupe_cols, dtype, engine, converters, true_values, false_values, skipinitialspace, skiprows, skipfooter, nrows, na_values, keep_default_na, na_filter, verbose, skip_blank_lines, parse_dates, infer_datetime_format, keep_date_col, date_parser, dayfirst, iterator, chunksize, compression, thousands, decimal, lineterminator, quotechar, quoting, escapechar, comment, encoding, dialect, tupleize_cols, error_bad_lines, warn_bad_lines, skip_footer, doublequote, delim_whitespace, as_recarray, compact_ints, use_unsigned, low_memory, buffer_lines, memory_map, float_precision)\u001b[0m\n\u001b[0;32m    560\u001b[0m                     skip_blank_lines=skip_blank_lines)\n\u001b[0;32m    561\u001b[0m \u001b[1;33m\u001b[0m\u001b[0m\n\u001b[1;32m--> 562\u001b[1;33m         \u001b[1;32mreturn\u001b[0m \u001b[0m_read\u001b[0m\u001b[1;33m(\u001b[0m\u001b[0mfilepath_or_buffer\u001b[0m\u001b[1;33m,\u001b[0m \u001b[0mkwds\u001b[0m\u001b[1;33m)\u001b[0m\u001b[1;33m\u001b[0m\u001b[0m\n\u001b[0m\u001b[0;32m    563\u001b[0m \u001b[1;33m\u001b[0m\u001b[0m\n\u001b[0;32m    564\u001b[0m     \u001b[0mparser_f\u001b[0m\u001b[1;33m.\u001b[0m\u001b[0m__name__\u001b[0m \u001b[1;33m=\u001b[0m \u001b[0mname\u001b[0m\u001b[1;33m\u001b[0m\u001b[0m\n",
      "\u001b[1;32mC:\\Users\\Peter martigny\\Anaconda3\\lib\\site-packages\\pandas\\io\\parsers.py\u001b[0m in \u001b[0;36m_read\u001b[1;34m(filepath_or_buffer, kwds)\u001b[0m\n\u001b[0;32m    323\u001b[0m         \u001b[1;32mreturn\u001b[0m \u001b[0mparser\u001b[0m\u001b[1;33m\u001b[0m\u001b[0m\n\u001b[0;32m    324\u001b[0m \u001b[1;33m\u001b[0m\u001b[0m\n\u001b[1;32m--> 325\u001b[1;33m     \u001b[1;32mreturn\u001b[0m \u001b[0mparser\u001b[0m\u001b[1;33m.\u001b[0m\u001b[0mread\u001b[0m\u001b[1;33m(\u001b[0m\u001b[1;33m)\u001b[0m\u001b[1;33m\u001b[0m\u001b[0m\n\u001b[0m\u001b[0;32m    326\u001b[0m \u001b[1;33m\u001b[0m\u001b[0m\n\u001b[0;32m    327\u001b[0m _parser_defaults = {\n",
      "\u001b[1;32mC:\\Users\\Peter martigny\\Anaconda3\\lib\\site-packages\\pandas\\io\\parsers.py\u001b[0m in \u001b[0;36mread\u001b[1;34m(self, nrows)\u001b[0m\n\u001b[0;32m    813\u001b[0m                 \u001b[1;32mraise\u001b[0m \u001b[0mValueError\u001b[0m\u001b[1;33m(\u001b[0m\u001b[1;34m'skip_footer not supported for iteration'\u001b[0m\u001b[1;33m)\u001b[0m\u001b[1;33m\u001b[0m\u001b[0m\n\u001b[0;32m    814\u001b[0m \u001b[1;33m\u001b[0m\u001b[0m\n\u001b[1;32m--> 815\u001b[1;33m         \u001b[0mret\u001b[0m \u001b[1;33m=\u001b[0m \u001b[0mself\u001b[0m\u001b[1;33m.\u001b[0m\u001b[0m_engine\u001b[0m\u001b[1;33m.\u001b[0m\u001b[0mread\u001b[0m\u001b[1;33m(\u001b[0m\u001b[0mnrows\u001b[0m\u001b[1;33m)\u001b[0m\u001b[1;33m\u001b[0m\u001b[0m\n\u001b[0m\u001b[0;32m    816\u001b[0m \u001b[1;33m\u001b[0m\u001b[0m\n\u001b[0;32m    817\u001b[0m         \u001b[1;32mif\u001b[0m \u001b[0mself\u001b[0m\u001b[1;33m.\u001b[0m\u001b[0moptions\u001b[0m\u001b[1;33m.\u001b[0m\u001b[0mget\u001b[0m\u001b[1;33m(\u001b[0m\u001b[1;34m'as_recarray'\u001b[0m\u001b[1;33m)\u001b[0m\u001b[1;33m:\u001b[0m\u001b[1;33m\u001b[0m\u001b[0m\n",
      "\u001b[1;32mC:\\Users\\Peter martigny\\Anaconda3\\lib\\site-packages\\pandas\\io\\parsers.py\u001b[0m in \u001b[0;36mread\u001b[1;34m(self, nrows)\u001b[0m\n\u001b[0;32m   1312\u001b[0m     \u001b[1;32mdef\u001b[0m \u001b[0mread\u001b[0m\u001b[1;33m(\u001b[0m\u001b[0mself\u001b[0m\u001b[1;33m,\u001b[0m \u001b[0mnrows\u001b[0m\u001b[1;33m=\u001b[0m\u001b[1;32mNone\u001b[0m\u001b[1;33m)\u001b[0m\u001b[1;33m:\u001b[0m\u001b[1;33m\u001b[0m\u001b[0m\n\u001b[0;32m   1313\u001b[0m         \u001b[1;32mtry\u001b[0m\u001b[1;33m:\u001b[0m\u001b[1;33m\u001b[0m\u001b[0m\n\u001b[1;32m-> 1314\u001b[1;33m             \u001b[0mdata\u001b[0m \u001b[1;33m=\u001b[0m \u001b[0mself\u001b[0m\u001b[1;33m.\u001b[0m\u001b[0m_reader\u001b[0m\u001b[1;33m.\u001b[0m\u001b[0mread\u001b[0m\u001b[1;33m(\u001b[0m\u001b[0mnrows\u001b[0m\u001b[1;33m)\u001b[0m\u001b[1;33m\u001b[0m\u001b[0m\n\u001b[0m\u001b[0;32m   1315\u001b[0m         \u001b[1;32mexcept\u001b[0m \u001b[0mStopIteration\u001b[0m\u001b[1;33m:\u001b[0m\u001b[1;33m\u001b[0m\u001b[0m\n\u001b[0;32m   1316\u001b[0m             \u001b[1;32mif\u001b[0m \u001b[0mself\u001b[0m\u001b[1;33m.\u001b[0m\u001b[0m_first_chunk\u001b[0m\u001b[1;33m:\u001b[0m\u001b[1;33m\u001b[0m\u001b[0m\n",
      "\u001b[1;32mpandas\\parser.pyx\u001b[0m in \u001b[0;36mpandas.parser.TextReader.read (pandas\\parser.c:8748)\u001b[1;34m()\u001b[0m\n",
      "\u001b[1;32mpandas\\parser.pyx\u001b[0m in \u001b[0;36mpandas.parser.TextReader._read_low_memory (pandas\\parser.c:9003)\u001b[1;34m()\u001b[0m\n",
      "\u001b[1;32mpandas\\parser.pyx\u001b[0m in \u001b[0;36mpandas.parser.TextReader._read_rows (pandas\\parser.c:10022)\u001b[1;34m()\u001b[0m\n",
      "\u001b[1;32mpandas\\parser.pyx\u001b[0m in \u001b[0;36mpandas.parser.TextReader._convert_column_data (pandas\\parser.c:11397)\u001b[1;34m()\u001b[0m\n",
      "\u001b[1;32mpandas\\parser.pyx\u001b[0m in \u001b[0;36mpandas.parser.TextReader._convert_tokens (pandas\\parser.c:12302)\u001b[1;34m()\u001b[0m\n",
      "\u001b[1;32mpandas\\parser.pyx\u001b[0m in \u001b[0;36mpandas.parser.TextReader._convert_with_dtype (pandas\\parser.c:13740)\u001b[1;34m()\u001b[0m\n",
      "\u001b[1;32mpandas\\parser.pyx\u001b[0m in \u001b[0;36mpandas.parser.TextReader._string_convert (pandas\\parser.c:13983)\u001b[1;34m()\u001b[0m\n",
      "\u001b[1;32mpandas\\parser.pyx\u001b[0m in \u001b[0;36mpandas.parser._string_box_utf8 (pandas\\parser.c:19298)\u001b[1;34m()\u001b[0m\n",
      "\u001b[1;31mUnicodeDecodeError\u001b[0m: 'utf-8' codec can't decode byte 0xe9 in position 14: invalid continuation byte"
     ]
    }
   ],
   "source": [
    "dataset = pd.read_csv('dataset.csv')"
   ]
  },
  {
   "cell_type": "code",
   "execution_count": null,
   "metadata": {
    "collapsed": true
   },
   "outputs": [],
   "source": []
  }
 ],
 "metadata": {
  "anaconda-cloud": {},
  "kernelspec": {
   "display_name": "Python [Root]",
   "language": "python",
   "name": "Python [Root]"
  },
  "language_info": {
   "codemirror_mode": {
    "name": "ipython",
    "version": 3
   },
   "file_extension": ".py",
   "mimetype": "text/x-python",
   "name": "python",
   "nbconvert_exporter": "python",
   "pygments_lexer": "ipython3",
   "version": "3.5.2"
  }
 },
 "nbformat": 4,
 "nbformat_minor": 0
}
