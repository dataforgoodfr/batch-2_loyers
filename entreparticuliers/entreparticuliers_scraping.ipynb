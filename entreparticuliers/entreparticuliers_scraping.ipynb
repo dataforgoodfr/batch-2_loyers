{
 "cells": [
  {
   "cell_type": "code",
   "execution_count": 390,
   "metadata": {
    "collapsed": true
   },
   "outputs": [],
   "source": [
    "from bs4 import BeautifulSoup\n",
    "from selenium import webdriver\n",
    "import requests\n",
    "import json\n",
    "import pandas as pd\n",
    "import re"
   ]
  },
  {
   "cell_type": "markdown",
   "metadata": {},
   "source": [
    "## 1/ Acquiring data"
   ]
  },
  {
   "cell_type": "code",
   "execution_count": 391,
   "metadata": {
    "collapsed": true
   },
   "outputs": [],
   "source": [
    "#Defining a request function to iterate more easily over pages.\n",
    "def make_request(page_index, created_cookie):\n",
    "    header2 = {\"Accept\":\"application/json, text/javascript, */*; q=0.01\", \"Accept-Encoding\":\"gzip, deflate\",\n",
    "              \"Accept-Language\":\"fr-FR,fr;q=0.8,en-US;q=0.6,en;q=0.4\",\"Connection\":\"keep-alive\",\n",
    "              \"Content-Type\":\"application/json; charset=UTF-8\", \"Host\":\"www.entreparticuliers.com\",\n",
    "              \"Origin\":\"http://www.entreparticuliers.com\", \"Referer\":\"http://www.entreparticuliers.com/immobilier-location/\",\n",
    "              \"User-Agent\":\"Mozilla/5.0 (Macintosh; Intel Mac OS X 10_11_5) AppleWebKit/537.36 (KHTML, like Gecko) Chrome/53.0.2785.143 Safari/537.36\",\n",
    "              \"X-Requested-With\":\"XMLHttpRequest\",\"Cookie\":created_cookie}\n",
    "    payload2 = json.dumps({\"pageIndex\": page_index,\"source\":\"undefined\",\"latmin\":\"0\",\"latmax\":\"0\",\"lngmin\":\"0\",\"lngmax\":\"0\",\"frommoteur\":\"true\"})\n",
    "    response = requests.post(\"http://www.entreparticuliers.com/default.aspx/GetAnnonces\", data = payload2, headers = header2)\n",
    "    return json.loads(response.text)[\"d\"]"
   ]
  },
  {
   "cell_type": "code",
   "execution_count": 392,
   "metadata": {
    "collapsed": false
   },
   "outputs": [
    {
     "name": "stdout",
     "output_type": "stream",
     "text": [
      "Page number: 2\n",
      "Page number: 3\n",
      "Page number: 4\n",
      "Page number: 5\n",
      "Page number: 6\n",
      "Page number: 7\n",
      "Page number: 8\n",
      "Page number: 9\n",
      "Page number: 10\n",
      "Page number: 11\n",
      "Page number: 12\n",
      "Page number: 13\n",
      "Page number: 14\n",
      "Page number: 15\n",
      "Page number: 16\n"
     ]
    }
   ],
   "source": [
    "#First cURL request designed to get the relevant cookie.\n",
    "payload = json.dumps({'p_SearchParams': '{\"rubrique\":\"1\",\"ach_id\":null,\"FromMoteur\":\"true\",\"lstSSTbien\":\"1\",\"Caracteristique\":17,\"lstTbien\":1,\"meuble\":\"nc\",\"OrigineAlerte\":\"SaveSearchMoteurHome\",\"pays\":\"fra\",\"prix_min\":null,\"prix_max\":null,\"lstThemes\":\"\",\"lstNbPieces\":0,\"lstNbChambres\":null,\"surface_min\":null,\"surface_max\":null,\"CapaciteMin\":null,\"localisationType\":4,\"reference\":\"\",\"rayon\":0,\"localisation_id_rayon\":null,\"lstLocalisationId\":\"121154\",\"photos\":0,\"colocation\":\"\",\"pageNumber\":1,\"order_by\":1,\"sort_order\":1,\"top\":25,\"SaveSearch\":\"false\",\"EmailUser\":\"\",\"GSMUser\":\"\"}', \"forcealerte\":'0'})\n",
    "header = {'Referer': 'http://www.entreparticuliers.com/immobilier-location/', 'Accept': \"application/json, text/javascript, */*; q=0.01\", 'Accept-Encoding': \"gzip, deflate\", 'Accept-Language': \"fr-FR,fr;q=0.8,en-US;q=0.6,en;q=0.4\", 'Referer': \"http://www.entreparticuliers.com/immobilier-location/\", 'Origin': \"http://www.entreparticuliers.com\", 'Host': \"www.entreparticuliers.com\", 'User-Agent': \"Mozilla/5.0 (Macintosh; Intel Mac OS X 10_11_5) AppleWebKit/537.36 (KHTML, like Gecko) Chrome/53.0.2785.143 Safari/537.36\", 'X-Request-With': \"XMLHttpRequest\", 'Content-Type': \"application/json; charset=UTF-8\"}\n",
    "create_searchParams = requests.post(\"http://www.entreparticuliers.com/default.aspx/CreateSearchParams\", data= payload, headers=header)\n",
    "created_cookie = create_searchParams.headers[\"Set-Cookie\"]\n",
    "\n",
    "#Formatting features in a list of lists.\n",
    "announces = []\n",
    "page_index = 1\n",
    "text = make_request(page_index, created_cookie)\n",
    "while text:\n",
    "    soup = BeautifulSoup(text, 'html.parser')\n",
    "    announces +=[{items.name:items.string for items in annonce.children} for annonce in soup.arrayofannoncepresentation.find_all('annoncepresentation')]\n",
    "    page_index += 1\n",
    "    print(\"Page number: \" + str(page_index))\n",
    "    text = make_request(page_index, created_cookie)\n",
    "    "
   ]
  },
  {
   "cell_type": "markdown",
   "metadata": {},
   "source": [
    "## 2/ Cleaning data"
   ]
  },
  {
   "cell_type": "markdown",
   "metadata": {},
   "source": [
    "#### Some useful functions:"
   ]
  },
  {
   "cell_type": "code",
   "execution_count": 393,
   "metadata": {
    "collapsed": true
   },
   "outputs": [],
   "source": [
    "#Function separating number of rooms and surface\n",
    "def split_infos(text):\n",
    "    if text:\n",
    "        if \"/\" in text:\n",
    "            infos = re.split(\"/\", text)\n",
    "            infos = int(re.sub(\"pièce{1}s?\", \"\", infos[0])), int(re.sub(\"m²\", \"\", infos[1]))\n",
    "        elif \"m²\" in text:\n",
    "            infos = [None, int(re.sub(\"m²\", \"\", text))]\n",
    "        elif \"pièces\" in text:\n",
    "            infos = [int(re.sub(\"pièce{1}s?\", \"\", text)), None]\n",
    "    else:\n",
    "        infos = [None, None]\n",
    "        \n",
    "    return infos\n",
    "\n",
    "#Function checking if the offer is also on leboncoin\n",
    "def detect_leboncoin(link):\n",
    "    return \"leboncoin\" in link"
   ]
  },
  {
   "cell_type": "markdown",
   "metadata": {},
   "source": [
    "#### Cleaning process:"
   ]
  },
  {
   "cell_type": "code",
   "execution_count": 394,
   "metadata": {
    "collapsed": false
   },
   "outputs": [
    {
     "name": "stderr",
     "output_type": "stream",
     "text": [
      "/Users/gabrielducrocq/anaconda/lib/python3.5/site-packages/ipykernel/__main__.py:5: SettingWithCopyWarning: \n",
      "A value is trying to be set on a copy of a slice from a DataFrame.\n",
      "Try using .loc[row_indexer,col_indexer] = value instead\n",
      "\n",
      "See the caveats in the documentation: http://pandas.pydata.org/pandas-docs/stable/indexing.html#indexing-view-versus-copy\n",
      "/Users/gabrielducrocq/anaconda/lib/python3.5/site-packages/pandas/core/frame.py:2378: SettingWithCopyWarning: \n",
      "A value is trying to be set on a copy of a slice from a DataFrame.\n",
      "Try using .loc[row_indexer,col_indexer] = value instead\n",
      "\n",
      "See the caveats in the documentation: http://pandas.pydata.org/pandas-docs/stable/indexing.html#indexing-view-versus-copy\n",
      "  self[k1] = value[k2]\n",
      "/Users/gabrielducrocq/anaconda/lib/python3.5/site-packages/ipykernel/__main__.py:7: SettingWithCopyWarning: \n",
      "A value is trying to be set on a copy of a slice from a DataFrame.\n",
      "Try using .loc[row_indexer,col_indexer] = value instead\n",
      "\n",
      "See the caveats in the documentation: http://pandas.pydata.org/pandas-docs/stable/indexing.html#indexing-view-versus-copy\n"
     ]
    }
   ],
   "source": [
    "raw_data = pd.DataFrame(announces)\n",
    "selected_data = raw_data[[col for col in raw_data.columns.values if col in [\"liendetail\", \"prix\", \"localisation\", \"codepostal\", \n",
    "                        \"miniinfos\", \"lienimage1\", \"nbphotos\", \"source\", \"description\", \"idannonce\", \n",
    "                         \"latitude\", \"longitude\", \"titre\"]]]  \n",
    "selected_data[\"prix\"] = selected_data[\"prix\"].replace(\"&euro;|\\s\", \"\", regex = True)\n",
    "selected_data[[\"nb_pieces\", \"surface\"]] = pd.DataFrame(selected_data[\"miniinfos\"].apply(split_infos, 0).tolist())\n",
    "selected_data[\"leboncoin\"] = selected_data[\"liendetail\"].apply(detect_leboncoin, 0)\n",
    "selected_data[[\"longitude\", \"latitude\", \"nbphotos\", \"prix\"]] = selected_data[[\"longitude\", \"latitude\", \"nbphotos\", \"prix\"]].apply(pd.to_numeric)\n",
    "selected_data.to_csv(\"entreparticulier.csv\")"
   ]
  }
 ],
 "metadata": {
  "anaconda-cloud": {},
  "kernelspec": {
   "display_name": "Python [Root]",
   "language": "python",
   "name": "Python [Root]"
  },
  "language_info": {
   "codemirror_mode": {
    "name": "ipython",
    "version": 3
   },
   "file_extension": ".py",
   "mimetype": "text/x-python",
   "name": "python",
   "nbconvert_exporter": "python",
   "pygments_lexer": "ipython3",
   "version": "3.5.2"
  }
 },
 "nbformat": 4,
 "nbformat_minor": 0
}
